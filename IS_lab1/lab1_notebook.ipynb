{
 "cells": [
  {
   "cell_type": "markdown",
   "id": "a2f2d1b1",
   "metadata": {},
   "source": [
    "# My model on `pgmpy` framework"
   ]
  },
  {
   "cell_type": "code",
   "execution_count": 1,
   "id": "7b9044ed",
   "metadata": {},
   "outputs": [],
   "source": [
    "from pgmpy.models import BayesianNetwork\n",
    "from pgmpy.factors.discrete import TabularCPD\n",
    "from pgmpy.inference import VariableElimination"
   ]
  },
  {
   "cell_type": "code",
   "execution_count": 2,
   "id": "5c0ce700",
   "metadata": {},
   "outputs": [],
   "source": [
    "# Defining the network structure\n",
    "model = BayesianNetwork(\n",
    "    [\n",
    "        (\"debtsToIncomeRatio\", \"paymentHistory\"),\n",
    "        (\"degree\", \"income\"),\n",
    "        (\"income\", \"assets\"),\n",
    "        (\"assets\", \"futureIncome\"),\n",
    "        (\"income\", \"futureIncome\"),\n",
    "        (\"creditTime\", \"fullPayoutProb\"),\n",
    "        (\"age\", \"fullPayoutProb\"),\n",
    "        (\"age\", \"reliability\"),\n",
    "        (\"age\", \"paymentHistory\"),\n",
    "        (\"paymentHistory\", \"reliability\"),\n",
    "        \n",
    "        (\"fullPayoutProb\", \"creditWorthiness\"),\n",
    "        (\"reliability\", \"creditWorthiness\"),\n",
    "        (\"futureIncome\", \"creditWorthiness\"),\n",
    "        (\"debtsToIncomeRatio\", \"creditWorthiness\"),\n",
    "    ]\n",
    ")"
   ]
  },
  {
   "cell_type": "code",
   "execution_count": 3,
   "id": "4fc81d5e",
   "metadata": {},
   "outputs": [],
   "source": [
    "all_state_names = {\n",
    "    \"debtsToIncomeRatio\": [\"high\", \"low\"],\n",
    "    \"paymentHistory\": [\"good\", \"bad\"],\n",
    "    \"degree\": [\"medium\", \"high\"],\n",
    "    \"income\": [\"high\", \"low\"],\n",
    "    \"assets\": [\"many\", \"few\"],\n",
    "    \"futureIncome\": [\"high\", \"low\"],\n",
    "    \"creditTime\": [\"short\", \"long\"],\n",
    "    \"fullPayoutProb\": [\"high\", \"low\"],\n",
    "    \"age\": [\"young\", \"old\"],\n",
    "    \"reliability\": [\"reliable\", \"unreliable\"],\n",
    "    \"creditWorthiness\": [\"Worth\", \"Not worth\"],\n",
    "}"
   ]
  },
  {
   "cell_type": "markdown",
   "id": "af88d6dc",
   "metadata": {},
   "source": [
    "## Defining the CPDs"
   ]
  },
  {
   "cell_type": "code",
   "execution_count": 4,
   "id": "ef284844",
   "metadata": {},
   "outputs": [],
   "source": [
    "# Defining the CPD for credit_time:\n",
    "cpd_cre_time = TabularCPD(\"creditTime\", 2, [[0.4], [0.6]], state_names=all_state_names,)"
   ]
  },
  {
   "cell_type": "code",
   "execution_count": 5,
   "id": "a32af278",
   "metadata": {},
   "outputs": [],
   "source": [
    "# Defining the CPD for debts_to_income_ratio:\n",
    "cpd_dti = TabularCPD(\"debtsToIncomeRatio\", 2, [[0.3], [0.7]], state_names=all_state_names,)"
   ]
  },
  {
   "cell_type": "code",
   "execution_count": 6,
   "id": "98c149d6",
   "metadata": {},
   "outputs": [],
   "source": [
    "# Defining the CPD for degree:\n",
    "cpd_deg = TabularCPD(\"degree\", 2, [[0.25], [0.75]], state_names=all_state_names,)"
   ]
  },
  {
   "cell_type": "code",
   "execution_count": 7,
   "id": "be1578e5",
   "metadata": {},
   "outputs": [],
   "source": [
    "# Defining the CPD for income:\n",
    "cpd_inc = TabularCPD(\n",
    "    \"income\", \n",
    "     2, \n",
    "     [\n",
    "         [.2, .6],\n",
    "         [.8, .4]\n",
    "     ], \n",
    "     evidence=['degree'], \n",
    "     evidence_card=[2],\n",
    "     state_names=all_state_names,\n",
    ")"
   ]
  },
  {
   "cell_type": "code",
   "execution_count": 8,
   "id": "e21d000c",
   "metadata": {},
   "outputs": [],
   "source": [
    "# Defining the CPD for assets:\n",
    "cpd_ast = TabularCPD(\n",
    "    \"assets\", \n",
    "    2, \n",
    "    [\n",
    "        [.9, .4],\n",
    "        [.1, .6]\n",
    "    ], \n",
    "    evidence=['income'], \n",
    "    evidence_card=[2],\n",
    "    state_names=all_state_names,\n",
    ")"
   ]
  },
  {
   "cell_type": "code",
   "execution_count": 9,
   "id": "3827e1e0",
   "metadata": {},
   "outputs": [],
   "source": [
    "# Defining the CPD for future_income:\n",
    "cpd_fin = TabularCPD(\n",
    "    \"futureIncome\",\n",
    "    2,\n",
    "    [\n",
    "        [.995, .6, .7, .1],\n",
    "        [.005, .4, .3, .9],\n",
    "    ],\n",
    "    evidence=[\"assets\", \"income\"],\n",
    "    evidence_card=[2, 2],\n",
    "    state_names=all_state_names,\n",
    ")"
   ]
  },
  {
   "cell_type": "code",
   "execution_count": 10,
   "id": "f37f6aa4",
   "metadata": {},
   "outputs": [],
   "source": [
    "# Defining the CPD for age:\n",
    "cpd_age = TabularCPD(\"age\", 2, [[0.8], [0.2]], state_names=all_state_names,)"
   ]
  },
  {
   "cell_type": "code",
   "execution_count": 11,
   "id": "9ee33f8d",
   "metadata": {},
   "outputs": [],
   "source": [
    "# Defining the CPD for payment_history:\n",
    "cpd_phs = TabularCPD(\n",
    "    \"paymentHistory\",\n",
    "    2,\n",
    "    [\n",
    "        [.2, .3, .8, .9],\n",
    "        [.8, .7, .2, .1],\n",
    "    ],\n",
    "    evidence=[\"debtsToIncomeRatio\", \"age\"],\n",
    "    evidence_card=[2, 2],\n",
    "    state_names=all_state_names,\n",
    ")"
   ]
  },
  {
   "cell_type": "code",
   "execution_count": 12,
   "id": "e5ee15d6",
   "metadata": {},
   "outputs": [],
   "source": [
    "# Defining the CPD for reliability:\n",
    "cpd_rel = TabularCPD(\n",
    "    \"reliability\",\n",
    "    2,\n",
    "    [\n",
    "        [.8, .4, .95, .2],\n",
    "        [.2, .6, .05, .8],\n",
    "    ],\n",
    "    evidence=[\"age\", \"paymentHistory\"],\n",
    "    evidence_card=[2, 2],\n",
    "    state_names=all_state_names,\n",
    ")"
   ]
  },
  {
   "cell_type": "code",
   "execution_count": 13,
   "id": "cbf2bb05",
   "metadata": {},
   "outputs": [],
   "source": [
    "# Defining the CPD for full_payout_probability:\n",
    "cpd_fpp = TabularCPD(\n",
    "    \"fullPayoutProb\",\n",
    "    2,\n",
    "    [\n",
    "        [.95, .9, .9, .3],\n",
    "        [.05, .1, .1, .7],\n",
    "    ],\n",
    "    evidence=[\"creditTime\", \"age\"],\n",
    "    evidence_card=[2, 2],\n",
    "    state_names=all_state_names,\n",
    ")"
   ]
  },
  {
   "cell_type": "code",
   "execution_count": 14,
   "id": "4084031f",
   "metadata": {},
   "outputs": [],
   "source": [
    "# Defining the CPDs for credit_worthiness:\n",
    "cpd_cw = TabularCPD(\n",
    "    \"creditWorthiness\",\n",
    "    2,\n",
    "    [\n",
    "        [.7, .6, .35, .5, .999, .9, .75, .55, .5, .05, .2, .0001, .7, .6, .1, .003],\n",
    "        [.3, .4, .65, .5, .001, .1, .25, .45, .5, .95, .8, .9999, .3, .4, .9, .997],\n",
    "    ],\n",
    "    evidence=[\"futureIncome\", \"debtsToIncomeRatio\", \"fullPayoutProb\", \"reliability\"],\n",
    "    evidence_card=[2, 2, 2, 2],\n",
    "    state_names=all_state_names,\n",
    ")"
   ]
  },
  {
   "cell_type": "code",
   "execution_count": 15,
   "id": "8432ea92",
   "metadata": {},
   "outputs": [],
   "source": [
    "# Associating the CPDs with the network structure.\n",
    "model.add_cpds(\n",
    "    cpd_cre_time,\n",
    "    cpd_dti,\n",
    "    cpd_deg,\n",
    "    cpd_inc,\n",
    "    cpd_ast,\n",
    "    cpd_fin,\n",
    "    cpd_age,\n",
    "    cpd_phs,\n",
    "    cpd_rel,\n",
    "    cpd_fpp,\n",
    "    cpd_cw\n",
    ")"
   ]
  },
  {
   "cell_type": "code",
   "execution_count": 16,
   "id": "dba5c83e",
   "metadata": {},
   "outputs": [
    {
     "data": {
      "text/plain": [
       "True"
      ]
     },
     "execution_count": 16,
     "metadata": {},
     "output_type": "execute_result"
    }
   ],
   "source": [
    "# Checking the model for various errors\n",
    "model.check_model()    "
   ]
  },
  {
   "cell_type": "code",
   "execution_count": null,
   "id": "2f56820c",
   "metadata": {},
   "outputs": [],
   "source": [
    "## Algorithm: describe, try to change! эксперимент с другим алгоритмом, рассказать про алгоритм"
   ]
  },
  {
   "cell_type": "code",
   "execution_count": null,
   "id": "4ff1a04c",
   "metadata": {},
   "outputs": [],
   "source": []
  },
  {
   "cell_type": "markdown",
   "id": "1bdf7b50",
   "metadata": {},
   "source": [
    "## Using the model"
   ]
  },
  {
   "cell_type": "code",
   "execution_count": 17,
   "id": "7de4e705",
   "metadata": {},
   "outputs": [
    {
     "name": "stdout",
     "output_type": "stream",
     "text": [
      "+-----------------------------+-------------------------+\n",
      "| creditWorthiness            |   phi(creditWorthiness) |\n",
      "+=============================+=========================+\n",
      "| creditWorthiness(Worth)     |                  0.7051 |\n",
      "+-----------------------------+-------------------------+\n",
      "| creditWorthiness(Not worth) |                  0.2949 |\n",
      "+-----------------------------+-------------------------+\n"
     ]
    }
   ],
   "source": [
    "infer = VariableElimination(model)\n",
    "credit_result = infer.query(['creditWorthiness'])\n",
    "print(credit_result)"
   ]
  },
  {
   "cell_type": "code",
   "execution_count": 18,
   "id": "f52dc8e4",
   "metadata": {
    "scrolled": true
   },
   "outputs": [
    {
     "name": "stdout",
     "output_type": "stream",
     "text": [
      "+-----------------------------+-------------------------+\n",
      "| creditWorthiness            |   phi(creditWorthiness) |\n",
      "+=============================+=========================+\n",
      "| creditWorthiness(Worth)     |                  0.4285 |\n",
      "+-----------------------------+-------------------------+\n",
      "| creditWorthiness(Not worth) |                  0.5715 |\n",
      "+-----------------------------+-------------------------+\n"
     ]
    }
   ],
   "source": [
    "credit_result = infer.query(['creditWorthiness'], evidence={\"fullPayoutProb\": \"low\"})\n",
    "print(credit_result)"
   ]
  },
  {
   "cell_type": "code",
   "execution_count": 19,
   "id": "c2f3fa0e",
   "metadata": {},
   "outputs": [
    {
     "name": "stdout",
     "output_type": "stream",
     "text": [
      "+-----------------------------+-------------------------+\n",
      "| creditWorthiness            |   phi(creditWorthiness) |\n",
      "+=============================+=========================+\n",
      "| creditWorthiness(Worth)     |                  0.4359 |\n",
      "+-----------------------------+-------------------------+\n",
      "| creditWorthiness(Not worth) |                  0.5641 |\n",
      "+-----------------------------+-------------------------+\n"
     ]
    }
   ],
   "source": [
    "credit_result = infer.query(['creditWorthiness'], evidence={\"fullPayoutProb\": \"low\", \"age\": \"old\"})\n",
    "print(credit_result)"
   ]
  },
  {
   "cell_type": "code",
   "execution_count": 20,
   "id": "dd84c297",
   "metadata": {},
   "outputs": [
    {
     "name": "stdout",
     "output_type": "stream",
     "text": [
      "+-----------------------------+-------------------------+\n",
      "| creditWorthiness            |   phi(creditWorthiness) |\n",
      "+=============================+=========================+\n",
      "| creditWorthiness(Worth)     |                  0.7915 |\n",
      "+-----------------------------+-------------------------+\n",
      "| creditWorthiness(Not worth) |                  0.2085 |\n",
      "+-----------------------------+-------------------------+\n"
     ]
    }
   ],
   "source": [
    "credit_result = infer.query(['creditWorthiness'], evidence={\"assets\": \"many\"})\n",
    "print(credit_result)"
   ]
  },
  {
   "cell_type": "code",
   "execution_count": 21,
   "id": "1f1fbc91",
   "metadata": {
    "scrolled": true
   },
   "outputs": [
    {
     "name": "stdout",
     "output_type": "stream",
     "text": [
      "+-----------------------------+-------------------------+\n",
      "| creditWorthiness            |   phi(creditWorthiness) |\n",
      "+=============================+=========================+\n",
      "| creditWorthiness(Worth)     |                  0.5686 |\n",
      "+-----------------------------+-------------------------+\n",
      "| creditWorthiness(Not worth) |                  0.4314 |\n",
      "+-----------------------------+-------------------------+\n"
     ]
    }
   ],
   "source": [
    "credit_result = infer.query(['creditWorthiness'], evidence={\"futureIncome\": \"low\", \"reliability\": \"reliable\"})\n",
    "print(credit_result)"
   ]
  },
  {
   "cell_type": "code",
   "execution_count": 22,
   "id": "4a3075fa",
   "metadata": {
    "scrolled": true
   },
   "outputs": [
    {
     "name": "stdout",
     "output_type": "stream",
     "text": [
      "+-----------------------------+-------------------------+\n",
      "| creditWorthiness            |   phi(creditWorthiness) |\n",
      "+=============================+=========================+\n",
      "| creditWorthiness(Worth)     |                  0.2966 |\n",
      "+-----------------------------+-------------------------+\n",
      "| creditWorthiness(Not worth) |                  0.7034 |\n",
      "+-----------------------------+-------------------------+\n"
     ]
    }
   ],
   "source": [
    "credit_result = infer.query(['creditWorthiness'], evidence={\"futureIncome\": \"low\", \"reliability\": \"unreliable\"})\n",
    "print(credit_result)"
   ]
  },
  {
   "cell_type": "code",
   "execution_count": 24,
   "id": "49e811a2",
   "metadata": {},
   "outputs": [
    {
     "name": "stdout",
     "output_type": "stream",
     "text": [
      "+-------------------+-------------------+\n",
      "| creditTime        |   phi(creditTime) |\n",
      "+===================+===================+\n",
      "| creditTime(short) |            0.3069 |\n",
      "+-------------------+-------------------+\n",
      "| creditTime(long)  |            0.6931 |\n",
      "+-------------------+-------------------+\n"
     ]
    }
   ],
   "source": [
    "credit_result = infer.query(['creditTime'], evidence={\n",
    "    \"creditWorthiness\": \"Not worth\", \"paymentHistory\": \"good\", \"assets\": \"many\"\n",
    "    }\n",
    ")\n",
    "print(credit_result)"
   ]
  },
  {
   "cell_type": "code",
   "execution_count": 25,
   "id": "df37da96",
   "metadata": {},
   "outputs": [
    {
     "name": "stdout",
     "output_type": "stream",
     "text": [
      "+-------------------+-------------------+\n",
      "| creditTime        |   phi(creditTime) |\n",
      "+===================+===================+\n",
      "| creditTime(short) |            0.3212 |\n",
      "+-------------------+-------------------+\n",
      "| creditTime(long)  |            0.6788 |\n",
      "+-------------------+-------------------+\n"
     ]
    }
   ],
   "source": [
    "credit_result = infer.query(['creditTime'], evidence={\n",
    "    \"creditWorthiness\": \"Not worth\", \"paymentHistory\": \"good\", \"assets\": \"many\", \"degree\": \"medium\"\n",
    "    }\n",
    ")\n",
    "print(credit_result)"
   ]
  }
 ],
 "metadata": {
  "kernelspec": {
   "display_name": "Python 3 (ipykernel)",
   "language": "python",
   "name": "python3"
  },
  "language_info": {
   "codemirror_mode": {
    "name": "ipython",
    "version": 3
   },
   "file_extension": ".py",
   "mimetype": "text/x-python",
   "name": "python",
   "nbconvert_exporter": "python",
   "pygments_lexer": "ipython3",
   "version": "3.9.10"
  }
 },
 "nbformat": 4,
 "nbformat_minor": 5
}
