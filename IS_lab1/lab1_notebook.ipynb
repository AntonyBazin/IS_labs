{
 "cells": [
  {
   "cell_type": "markdown",
   "id": "a2f2d1b1",
   "metadata": {},
   "source": [
    "# My model on `pgmpy` framework"
   ]
  },
  {
   "cell_type": "code",
   "execution_count": 1,
   "id": "7b9044ed",
   "metadata": {},
   "outputs": [],
   "source": [
    "from pgmpy.models import BayesianNetwork\n",
    "from pgmpy.factors.discrete import TabularCPD\n",
    "from pgmpy.inference import VariableElimination"
   ]
  },
  {
   "cell_type": "code",
   "execution_count": 2,
   "id": "5c0ce700",
   "metadata": {},
   "outputs": [],
   "source": [
    "# Defining the network structure\n",
    "model = BayesianNetwork(\n",
    "    [\n",
    "        (\"debtsToIncomeRatio\", \"paymentHistory\"),\n",
    "        (\"degree\", \"income\"),\n",
    "        (\"income\", \"assets\"),\n",
    "        (\"assets\", \"futureIncome\"),\n",
    "        (\"income\", \"futureIncome\"),\n",
    "        (\"creditTime\", \"fullPayoutProb\"),\n",
    "        (\"age\", \"fullPayoutProb\"),\n",
    "        (\"age\", \"reliability\"),\n",
    "        (\"age\", \"paymentHistory\"),\n",
    "        (\"paymentHistory\", \"reliability\"),\n",
    "        \n",
    "        (\"fullPayoutProb\", \"creditWorthiness\"),\n",
    "        (\"reliability\", \"creditWorthiness\"),\n",
    "        (\"futureIncome\", \"creditWorthiness\"),\n",
    "        (\"debtsToIncomeRatio\", \"creditWorthiness\"),\n",
    "    ]\n",
    ")"
   ]
  },
  {
   "cell_type": "markdown",
   "id": "af88d6dc",
   "metadata": {},
   "source": [
    "## Defining the CPDs"
   ]
  },
  {
   "cell_type": "code",
   "execution_count": 3,
   "id": "ef284844",
   "metadata": {},
   "outputs": [],
   "source": [
    "# Defining the CPD for credit_time:\n",
    "cpd_cre_time = TabularCPD(\"creditTime\", 2, [[0.4], [0.6]])"
   ]
  },
  {
   "cell_type": "code",
   "execution_count": 4,
   "id": "a32af278",
   "metadata": {},
   "outputs": [],
   "source": [
    "# Defining the CPD for debts_to_income_ratio:\n",
    "cpd_dti = TabularCPD(\"debtsToIncomeRatio\", 2, [[0.3], [0.7]])"
   ]
  },
  {
   "cell_type": "code",
   "execution_count": 5,
   "id": "98c149d6",
   "metadata": {},
   "outputs": [],
   "source": [
    "# Defining the CPD for degree:\n",
    "cpd_deg = TabularCPD(\"degree\", 2, [[0.25], [0.75]])"
   ]
  },
  {
   "cell_type": "code",
   "execution_count": 6,
   "id": "be1578e5",
   "metadata": {},
   "outputs": [],
   "source": [
    "# Defining the CPD for income:\n",
    "cpd_inc = TabularCPD(\n",
    "    \"income\", \n",
    "     2, \n",
    "     [\n",
    "         [.2, .6],\n",
    "         [.8, .4]\n",
    "     ], \n",
    "     evidence=['degree'], \n",
    "     evidence_card=[2]\n",
    ")"
   ]
  },
  {
   "cell_type": "code",
   "execution_count": 7,
   "id": "e21d000c",
   "metadata": {},
   "outputs": [],
   "source": [
    "# Defining the CPD for assets:\n",
    "cpd_ast = TabularCPD(\n",
    "    \"assets\", \n",
    "     2, \n",
    "     [\n",
    "         [.9, .4],\n",
    "         [.1, .6]\n",
    "     ], \n",
    "     evidence=['income'], \n",
    "     evidence_card=[2]\n",
    ")"
   ]
  },
  {
   "cell_type": "code",
   "execution_count": 8,
   "id": "3827e1e0",
   "metadata": {},
   "outputs": [],
   "source": [
    "# Defining the CPD for future_income:\n",
    "cpd_fin = TabularCPD(\n",
    "    \"futureIncome\",\n",
    "    2,\n",
    "    [\n",
    "        [.995, .6, .7, .1],\n",
    "        [.005, .4, .3, .9],\n",
    "    ],\n",
    "    evidence=[\"assets\", \"income\"],\n",
    "    evidence_card=[2, 2],\n",
    ")"
   ]
  },
  {
   "cell_type": "code",
   "execution_count": 9,
   "id": "f37f6aa4",
   "metadata": {},
   "outputs": [],
   "source": [
    "# Defining the CPD for age:\n",
    "cpd_age = TabularCPD(\"age\", 2, [[0.8], [0.2]])"
   ]
  },
  {
   "cell_type": "code",
   "execution_count": 10,
   "id": "9ee33f8d",
   "metadata": {},
   "outputs": [],
   "source": [
    "# Defining the CPD for payment_history:\n",
    "cpd_phs = TabularCPD(\n",
    "    \"paymentHistory\",\n",
    "    2,\n",
    "    [\n",
    "        [.2, .3, .8, .9],\n",
    "        [.8, .7, .2, .1],\n",
    "    ],\n",
    "    evidence=[\"debtsToIncomeRatio\", \"age\"],\n",
    "    evidence_card=[2, 2],\n",
    ")"
   ]
  },
  {
   "cell_type": "code",
   "execution_count": 11,
   "id": "e5ee15d6",
   "metadata": {},
   "outputs": [],
   "source": [
    "# Defining the CPD for reliability:\n",
    "cpd_rel = TabularCPD(\n",
    "    \"reliability\",\n",
    "    2,\n",
    "    [\n",
    "        [.8, .4, .95, .2],\n",
    "        [.2, .6, .05, .8],\n",
    "    ],\n",
    "    evidence=[\"age\", \"paymentHistory\"],\n",
    "    evidence_card=[2, 2],\n",
    ")"
   ]
  },
  {
   "cell_type": "code",
   "execution_count": 12,
   "id": "cbf2bb05",
   "metadata": {},
   "outputs": [],
   "source": [
    "# Defining the CPD for full_payout_probability:\n",
    "cpd_fpp = TabularCPD(\n",
    "    \"fullPayoutProb\",\n",
    "    2,\n",
    "    [\n",
    "        [.95, .9, .9, .3],\n",
    "        [.05, .1, .1, .7],\n",
    "    ],\n",
    "    evidence=[\"creditTime\", \"age\"],\n",
    "    evidence_card=[2, 2],\n",
    ")"
   ]
  },
  {
   "cell_type": "code",
   "execution_count": 13,
   "id": "4084031f",
   "metadata": {},
   "outputs": [],
   "source": [
    "# Defining the CPDs for credit_worthiness:\n",
    "cpd_cw = TabularCPD(\n",
    "    \"creditWorthiness\",\n",
    "    2,\n",
    "    [\n",
    "        [.7, .6, .35, .5, .999, .9, .75, .55, .5, .05, .2, .0001, .7, .6, .1, .003],\n",
    "        [.3, .4, .65, .5, .001, .1, .25, .45, .5, .95, .8, .9999, .3, .4, .9, .997],\n",
    "    ],\n",
    "    evidence=[\"futureIncome\", \"debtsToIncomeRatio\", \"fullPayoutProb\", \"reliability\"],\n",
    "    evidence_card=[2, 2, 2, 2],\n",
    ")"
   ]
  },
  {
   "cell_type": "code",
   "execution_count": 14,
   "id": "8432ea92",
   "metadata": {},
   "outputs": [],
   "source": [
    "# Associating the CPDs with the network structure.\n",
    "model.add_cpds(\n",
    "    cpd_cre_time,\n",
    "    cpd_dti,\n",
    "    cpd_deg,\n",
    "    cpd_inc,\n",
    "    cpd_ast,\n",
    "    cpd_fin,\n",
    "    cpd_age,\n",
    "    cpd_phs,\n",
    "    cpd_rel,\n",
    "    cpd_fpp,\n",
    "    cpd_cw\n",
    ")"
   ]
  },
  {
   "cell_type": "code",
   "execution_count": 15,
   "id": "dba5c83e",
   "metadata": {},
   "outputs": [
    {
     "data": {
      "text/plain": [
       "True"
      ]
     },
     "execution_count": 15,
     "metadata": {},
     "output_type": "execute_result"
    }
   ],
   "source": [
    "# Checking the model for various errors\n",
    "model.check_model()"
   ]
  },
  {
   "cell_type": "markdown",
   "id": "1bdf7b50",
   "metadata": {},
   "source": [
    "## Using the model"
   ]
  },
  {
   "cell_type": "code",
   "execution_count": 16,
   "id": "7de4e705",
   "metadata": {},
   "outputs": [],
   "source": [
    "infer = VariableElimination(model)\n",
    "credit_result = infer.query(['creditWorthiness'])"
   ]
  },
  {
   "cell_type": "code",
   "execution_count": 17,
   "id": "eea0c0fb",
   "metadata": {},
   "outputs": [
    {
     "name": "stdout",
     "output_type": "stream",
     "text": [
      "+---------------------+-------------------------+\n",
      "| creditWorthiness    |   phi(creditWorthiness) |\n",
      "+=====================+=========================+\n",
      "| creditWorthiness(0) |                  0.7051 |\n",
      "+---------------------+-------------------------+\n",
      "| creditWorthiness(1) |                  0.2949 |\n",
      "+---------------------+-------------------------+\n"
     ]
    }
   ],
   "source": [
    "print(credit_result)"
   ]
  },
  {
   "cell_type": "code",
   "execution_count": null,
   "id": "f52dc8e4",
   "metadata": {},
   "outputs": [],
   "source": []
  },
  {
   "cell_type": "code",
   "execution_count": null,
   "id": "c2f3fa0e",
   "metadata": {},
   "outputs": [],
   "source": []
  }
 ],
 "metadata": {
  "kernelspec": {
   "display_name": "Python 3 (ipykernel)",
   "language": "python",
   "name": "python3"
  },
  "language_info": {
   "codemirror_mode": {
    "name": "ipython",
    "version": 3
   },
   "file_extension": ".py",
   "mimetype": "text/x-python",
   "name": "python",
   "nbconvert_exporter": "python",
   "pygments_lexer": "ipython3",
   "version": "3.9.10"
  }
 },
 "nbformat": 4,
 "nbformat_minor": 5
}
