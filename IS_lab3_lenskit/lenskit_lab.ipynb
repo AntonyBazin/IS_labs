{
 "cells": [
  {
   "cell_type": "markdown",
   "metadata": {
    "id": "UhZ4bM75-Wiq"
   },
   "source": [
    "# Getting Started\n",
    "\n",
    "This notebook gets you started with a brief nDCG evaluation with LensKit for Python with a simple experiment with the MovieLens 100K data set."
   ]
  },
  {
   "cell_type": "markdown",
   "metadata": {
    "id": "BKl2xgna-Wir"
   },
   "source": [
    "## Setup\n",
    "\n",
    "We first need to install LensKit:"
   ]
  },
  {
   "cell_type": "code",
   "execution_count": 1,
   "metadata": {
    "colab": {
     "base_uri": "https://localhost:8080/",
     "height": 326
    },
    "id": "yTEfW_2B-bsq",
    "outputId": "2bf9fcbb-d582-4908-f58b-49acd5284dbb"
   },
   "outputs": [
    {
     "name": "stdout",
     "output_type": "stream",
     "text": [
      "Defaulting to user installation because normal site-packages is not writeable\n",
      "Requirement already satisfied: lenskit in /home/antony/.local/lib/python3.10/site-packages (0.14.2)\n",
      "Requirement already satisfied: matplotlib in /home/antony/.local/lib/python3.10/site-packages (3.7.1)\n",
      "Requirement already satisfied: scikit-learn in /home/antony/.local/lib/python3.10/site-packages (1.2.2)\n",
      "Requirement already satisfied: scipy in /home/antony/.local/lib/python3.10/site-packages (1.10.1)\n",
      "Requirement already satisfied: numpy>=1.17 in /home/antony/.local/lib/python3.10/site-packages (from lenskit) (1.23.5)\n",
      "Requirement already satisfied: psutil>=5 in /usr/lib64/python3.10/site-packages (from lenskit) (5.9.5)\n",
      "Requirement already satisfied: pandas==1.*,>=1.0 in /home/antony/.local/lib/python3.10/site-packages (from lenskit) (1.5.3)\n",
      "Requirement already satisfied: csr>=0.3.1 in /home/antony/.local/lib/python3.10/site-packages (from lenskit) (0.5.0)\n",
      "Requirement already satisfied: binpickle>=0.3.2 in /home/antony/.local/lib/python3.10/site-packages (from lenskit) (0.3.4)\n",
      "Requirement already satisfied: seedbank>=0.1.0 in /home/antony/.local/lib/python3.10/site-packages (from lenskit) (0.1.2)\n",
      "Requirement already satisfied: numba<0.57,>=0.51 in /home/antony/.local/lib/python3.10/site-packages (from lenskit) (0.56.4)\n",
      "Requirement already satisfied: cffi>=1.12.2 in /usr/lib64/python3.10/site-packages (from lenskit) (1.15.1)\n",
      "Requirement already satisfied: pytz>=2020.1 in /home/antony/.local/lib/python3.10/site-packages (from pandas==1.*,>=1.0->lenskit) (2023.3)\n",
      "Requirement already satisfied: python-dateutil>=2.8.1 in /home/antony/.local/lib/python3.10/site-packages (from pandas==1.*,>=1.0->lenskit) (2.8.2)\n",
      "Requirement already satisfied: kiwisolver>=1.0.1 in /home/antony/.local/lib/python3.10/site-packages (from matplotlib) (1.4.4)\n",
      "Requirement already satisfied: pillow>=6.2.0 in /home/antony/.local/lib/python3.10/site-packages (from matplotlib) (9.5.0)\n",
      "Requirement already satisfied: pyparsing>=2.3.1 in /home/antony/.local/lib/python3.10/site-packages (from matplotlib) (3.0.9)\n",
      "Requirement already satisfied: cycler>=0.10 in /home/antony/.local/lib/python3.10/site-packages (from matplotlib) (0.11.0)\n",
      "Requirement already satisfied: fonttools>=4.22.0 in /home/antony/.local/lib/python3.10/site-packages (from matplotlib) (4.39.4)\n",
      "Requirement already satisfied: contourpy>=1.0.1 in /home/antony/.local/lib/python3.10/site-packages (from matplotlib) (1.0.7)\n",
      "Requirement already satisfied: packaging>=20.0 in /home/antony/.local/lib/python3.10/site-packages (from matplotlib) (23.1)\n",
      "Requirement already satisfied: threadpoolctl>=2.0.0 in /home/antony/.local/lib/python3.10/site-packages (from scikit-learn) (3.1.0)\n",
      "Requirement already satisfied: joblib>=1.1.1 in /home/antony/.local/lib/python3.10/site-packages (from scikit-learn) (1.2.0)\n",
      "Requirement already satisfied: msgpack>=1.0 in /home/antony/.local/lib/python3.10/site-packages (from binpickle>=0.3.2->lenskit) (1.0.5)\n",
      "Requirement already satisfied: pycparser in /usr/lib/python3.10/site-packages (from cffi>=1.12.2->lenskit) (2.21)\n",
      "Requirement already satisfied: llvmlite<0.40,>=0.39.0dev0 in /home/antony/.local/lib/python3.10/site-packages (from numba<0.57,>=0.51->lenskit) (0.39.1)\n",
      "Requirement already satisfied: setuptools in /usr/lib/python3.10/site-packages (from numba<0.57,>=0.51->lenskit) (67.6.1)\n",
      "Requirement already satisfied: six>=1.5 in /usr/lib/python3.10/site-packages (from python-dateutil>=2.8.1->pandas==1.*,>=1.0->lenskit) (1.16.0)\n",
      "Requirement already satisfied: anyconfig in /home/antony/.local/lib/python3.10/site-packages (from seedbank>=0.1.0->lenskit) (0.13.0)\n",
      "Note: you may need to restart the kernel to use updated packages.\n"
     ]
    }
   ],
   "source": [
    "%pip install lenskit matplotlib scikit-learn scipy"
   ]
  },
  {
   "cell_type": "markdown",
   "metadata": {
    "id": "z2HH01vU_FJH"
   },
   "source": [
    "Download the MovieLens data:"
   ]
  },
  {
   "cell_type": "code",
   "execution_count": 2,
   "metadata": {
    "colab": {
     "base_uri": "https://localhost:8080/",
     "height": 34
    },
    "id": "jfTip0HF_HYg",
    "outputId": "c8c64298-3332-43b8-b143-22ab5b1cc417"
   },
   "outputs": [
    {
     "data": {
      "text/plain": [
       "[]"
      ]
     },
     "execution_count": 2,
     "metadata": {},
     "output_type": "execute_result"
    }
   ],
   "source": [
    "%%!\n",
    "wget -q -O ml-100k.zip http://files.grouplens.org/datasets/movielens/ml-100k.zip"
   ]
  },
  {
   "cell_type": "code",
   "execution_count": 3,
   "metadata": {},
   "outputs": [],
   "source": [
    "#! unzip ml-100k.zip"
   ]
  },
  {
   "cell_type": "markdown",
   "metadata": {
    "id": "kKkbPx9T-_5I"
   },
   "source": [
    "Now we can import LensKit utilities:"
   ]
  },
  {
   "cell_type": "code",
   "execution_count": 4,
   "metadata": {
    "id": "YmUzsYhc-Wir"
   },
   "outputs": [],
   "source": [
    "from lenskit.datasets import ML100K\n",
    "from lenskit import batch, topn, util\n",
    "from lenskit import crossfold as xf\n",
    "from lenskit.algorithms import Recommender, als, item_knn as knn\n",
    "from lenskit import topn\n",
    "import sklearn.decomposition"
   ]
  },
  {
   "cell_type": "markdown",
   "metadata": {
    "id": "S9D7cnR1-Wit"
   },
   "source": [
    "And Pandas is very useful:"
   ]
  },
  {
   "cell_type": "code",
   "execution_count": 5,
   "metadata": {
    "id": "U_R-x2Ao-Wiu"
   },
   "outputs": [],
   "source": [
    "import pandas as pd"
   ]
  },
  {
   "cell_type": "markdown",
   "metadata": {
    "id": "jptzht4c-Wiy"
   },
   "source": [
    "## Loading Data\n",
    "\n",
    "We're going to use the ML-100K data set:"
   ]
  },
  {
   "cell_type": "code",
   "execution_count": 6,
   "metadata": {
    "colab": {
     "base_uri": "https://localhost:8080/",
     "height": 204
    },
    "id": "dV11a06p-Wiy",
    "outputId": "afc8ab9f-be5a-446d-dfc3-5e098f5edf51"
   },
   "outputs": [
    {
     "data": {
      "text/html": [
       "<div>\n",
       "<style scoped>\n",
       "    .dataframe tbody tr th:only-of-type {\n",
       "        vertical-align: middle;\n",
       "    }\n",
       "\n",
       "    .dataframe tbody tr th {\n",
       "        vertical-align: top;\n",
       "    }\n",
       "\n",
       "    .dataframe thead th {\n",
       "        text-align: right;\n",
       "    }\n",
       "</style>\n",
       "<table border=\"1\" class=\"dataframe\">\n",
       "  <thead>\n",
       "    <tr style=\"text-align: right;\">\n",
       "      <th></th>\n",
       "      <th>user</th>\n",
       "      <th>item</th>\n",
       "      <th>rating</th>\n",
       "      <th>timestamp</th>\n",
       "    </tr>\n",
       "  </thead>\n",
       "  <tbody>\n",
       "    <tr>\n",
       "      <th>0</th>\n",
       "      <td>196</td>\n",
       "      <td>242</td>\n",
       "      <td>3.0</td>\n",
       "      <td>881250949</td>\n",
       "    </tr>\n",
       "    <tr>\n",
       "      <th>1</th>\n",
       "      <td>186</td>\n",
       "      <td>302</td>\n",
       "      <td>3.0</td>\n",
       "      <td>891717742</td>\n",
       "    </tr>\n",
       "    <tr>\n",
       "      <th>2</th>\n",
       "      <td>22</td>\n",
       "      <td>377</td>\n",
       "      <td>1.0</td>\n",
       "      <td>878887116</td>\n",
       "    </tr>\n",
       "    <tr>\n",
       "      <th>3</th>\n",
       "      <td>244</td>\n",
       "      <td>51</td>\n",
       "      <td>2.0</td>\n",
       "      <td>880606923</td>\n",
       "    </tr>\n",
       "    <tr>\n",
       "      <th>4</th>\n",
       "      <td>166</td>\n",
       "      <td>346</td>\n",
       "      <td>1.0</td>\n",
       "      <td>886397596</td>\n",
       "    </tr>\n",
       "  </tbody>\n",
       "</table>\n",
       "</div>"
      ],
      "text/plain": [
       "   user  item  rating  timestamp\n",
       "0   196   242     3.0  881250949\n",
       "1   186   302     3.0  891717742\n",
       "2    22   377     1.0  878887116\n",
       "3   244    51     2.0  880606923\n",
       "4   166   346     1.0  886397596"
      ]
     },
     "execution_count": 6,
     "metadata": {},
     "output_type": "execute_result"
    }
   ],
   "source": [
    "ml100k = ML100K('ml-100k')\n",
    "ratings = ml100k.ratings\n",
    "ratings.head()"
   ]
  },
  {
   "cell_type": "code",
   "execution_count": 7,
   "metadata": {},
   "outputs": [
    {
     "data": {
      "text/html": [
       "<div>\n",
       "<style scoped>\n",
       "    .dataframe tbody tr th:only-of-type {\n",
       "        vertical-align: middle;\n",
       "    }\n",
       "\n",
       "    .dataframe tbody tr th {\n",
       "        vertical-align: top;\n",
       "    }\n",
       "\n",
       "    .dataframe thead th {\n",
       "        text-align: right;\n",
       "    }\n",
       "</style>\n",
       "<table border=\"1\" class=\"dataframe\">\n",
       "  <thead>\n",
       "    <tr style=\"text-align: right;\">\n",
       "      <th></th>\n",
       "      <th>age</th>\n",
       "      <th>gender</th>\n",
       "      <th>occupation</th>\n",
       "      <th>zip</th>\n",
       "    </tr>\n",
       "    <tr>\n",
       "      <th>user</th>\n",
       "      <th></th>\n",
       "      <th></th>\n",
       "      <th></th>\n",
       "      <th></th>\n",
       "    </tr>\n",
       "  </thead>\n",
       "  <tbody>\n",
       "    <tr>\n",
       "      <th>1</th>\n",
       "      <td>24</td>\n",
       "      <td>M</td>\n",
       "      <td>technician</td>\n",
       "      <td>85711</td>\n",
       "    </tr>\n",
       "    <tr>\n",
       "      <th>2</th>\n",
       "      <td>53</td>\n",
       "      <td>F</td>\n",
       "      <td>other</td>\n",
       "      <td>94043</td>\n",
       "    </tr>\n",
       "    <tr>\n",
       "      <th>3</th>\n",
       "      <td>23</td>\n",
       "      <td>M</td>\n",
       "      <td>writer</td>\n",
       "      <td>32067</td>\n",
       "    </tr>\n",
       "    <tr>\n",
       "      <th>4</th>\n",
       "      <td>24</td>\n",
       "      <td>M</td>\n",
       "      <td>technician</td>\n",
       "      <td>43537</td>\n",
       "    </tr>\n",
       "    <tr>\n",
       "      <th>5</th>\n",
       "      <td>33</td>\n",
       "      <td>F</td>\n",
       "      <td>other</td>\n",
       "      <td>15213</td>\n",
       "    </tr>\n",
       "  </tbody>\n",
       "</table>\n",
       "</div>"
      ],
      "text/plain": [
       "      age gender  occupation    zip\n",
       "user                               \n",
       "1      24      M  technician  85711\n",
       "2      53      F       other  94043\n",
       "3      23      M      writer  32067\n",
       "4      24      M  technician  43537\n",
       "5      33      F       other  15213"
      ]
     },
     "execution_count": 7,
     "metadata": {},
     "output_type": "execute_result"
    }
   ],
   "source": [
    "ml100k.users.head()"
   ]
  },
  {
   "cell_type": "code",
   "execution_count": 8,
   "metadata": {},
   "outputs": [
    {
     "data": {
      "text/plain": [
       "3772"
      ]
     },
     "execution_count": 8,
     "metadata": {},
     "output_type": "execute_result"
    }
   ],
   "source": [
    "ml100k.users.size"
   ]
  },
  {
   "cell_type": "code",
   "execution_count": 9,
   "metadata": {
    "scrolled": true
   },
   "outputs": [
    {
     "data": {
      "text/html": [
       "<div>\n",
       "<style scoped>\n",
       "    .dataframe tbody tr th:only-of-type {\n",
       "        vertical-align: middle;\n",
       "    }\n",
       "\n",
       "    .dataframe tbody tr th {\n",
       "        vertical-align: top;\n",
       "    }\n",
       "\n",
       "    .dataframe thead th {\n",
       "        text-align: right;\n",
       "    }\n",
       "</style>\n",
       "<table border=\"1\" class=\"dataframe\">\n",
       "  <thead>\n",
       "    <tr style=\"text-align: right;\">\n",
       "      <th></th>\n",
       "      <th>title</th>\n",
       "      <th>release</th>\n",
       "      <th>vidrelease</th>\n",
       "      <th>imdb</th>\n",
       "      <th>unknown</th>\n",
       "      <th>Action</th>\n",
       "      <th>Adventure</th>\n",
       "      <th>Animation</th>\n",
       "      <th>Children's</th>\n",
       "      <th>Comedy</th>\n",
       "      <th>...</th>\n",
       "      <th>Fantasy</th>\n",
       "      <th>Film-Noir</th>\n",
       "      <th>Horror</th>\n",
       "      <th>Musical</th>\n",
       "      <th>Mystery</th>\n",
       "      <th>Romance</th>\n",
       "      <th>Sci-Fi</th>\n",
       "      <th>Thriller</th>\n",
       "      <th>War</th>\n",
       "      <th>Western</th>\n",
       "    </tr>\n",
       "    <tr>\n",
       "      <th>item</th>\n",
       "      <th></th>\n",
       "      <th></th>\n",
       "      <th></th>\n",
       "      <th></th>\n",
       "      <th></th>\n",
       "      <th></th>\n",
       "      <th></th>\n",
       "      <th></th>\n",
       "      <th></th>\n",
       "      <th></th>\n",
       "      <th></th>\n",
       "      <th></th>\n",
       "      <th></th>\n",
       "      <th></th>\n",
       "      <th></th>\n",
       "      <th></th>\n",
       "      <th></th>\n",
       "      <th></th>\n",
       "      <th></th>\n",
       "      <th></th>\n",
       "      <th></th>\n",
       "    </tr>\n",
       "  </thead>\n",
       "  <tbody>\n",
       "    <tr>\n",
       "      <th>1</th>\n",
       "      <td>Toy Story (1995)</td>\n",
       "      <td>01-Jan-1995</td>\n",
       "      <td>NaN</td>\n",
       "      <td>http://us.imdb.com/M/title-exact?Toy%20Story%2...</td>\n",
       "      <td>0</td>\n",
       "      <td>0</td>\n",
       "      <td>0</td>\n",
       "      <td>1</td>\n",
       "      <td>1</td>\n",
       "      <td>1</td>\n",
       "      <td>...</td>\n",
       "      <td>0</td>\n",
       "      <td>0</td>\n",
       "      <td>0</td>\n",
       "      <td>0</td>\n",
       "      <td>0</td>\n",
       "      <td>0</td>\n",
       "      <td>0</td>\n",
       "      <td>0</td>\n",
       "      <td>0</td>\n",
       "      <td>0</td>\n",
       "    </tr>\n",
       "    <tr>\n",
       "      <th>2</th>\n",
       "      <td>GoldenEye (1995)</td>\n",
       "      <td>01-Jan-1995</td>\n",
       "      <td>NaN</td>\n",
       "      <td>http://us.imdb.com/M/title-exact?GoldenEye%20(...</td>\n",
       "      <td>0</td>\n",
       "      <td>1</td>\n",
       "      <td>1</td>\n",
       "      <td>0</td>\n",
       "      <td>0</td>\n",
       "      <td>0</td>\n",
       "      <td>...</td>\n",
       "      <td>0</td>\n",
       "      <td>0</td>\n",
       "      <td>0</td>\n",
       "      <td>0</td>\n",
       "      <td>0</td>\n",
       "      <td>0</td>\n",
       "      <td>0</td>\n",
       "      <td>1</td>\n",
       "      <td>0</td>\n",
       "      <td>0</td>\n",
       "    </tr>\n",
       "    <tr>\n",
       "      <th>3</th>\n",
       "      <td>Four Rooms (1995)</td>\n",
       "      <td>01-Jan-1995</td>\n",
       "      <td>NaN</td>\n",
       "      <td>http://us.imdb.com/M/title-exact?Four%20Rooms%...</td>\n",
       "      <td>0</td>\n",
       "      <td>0</td>\n",
       "      <td>0</td>\n",
       "      <td>0</td>\n",
       "      <td>0</td>\n",
       "      <td>0</td>\n",
       "      <td>...</td>\n",
       "      <td>0</td>\n",
       "      <td>0</td>\n",
       "      <td>0</td>\n",
       "      <td>0</td>\n",
       "      <td>0</td>\n",
       "      <td>0</td>\n",
       "      <td>0</td>\n",
       "      <td>1</td>\n",
       "      <td>0</td>\n",
       "      <td>0</td>\n",
       "    </tr>\n",
       "    <tr>\n",
       "      <th>4</th>\n",
       "      <td>Get Shorty (1995)</td>\n",
       "      <td>01-Jan-1995</td>\n",
       "      <td>NaN</td>\n",
       "      <td>http://us.imdb.com/M/title-exact?Get%20Shorty%...</td>\n",
       "      <td>0</td>\n",
       "      <td>1</td>\n",
       "      <td>0</td>\n",
       "      <td>0</td>\n",
       "      <td>0</td>\n",
       "      <td>1</td>\n",
       "      <td>...</td>\n",
       "      <td>0</td>\n",
       "      <td>0</td>\n",
       "      <td>0</td>\n",
       "      <td>0</td>\n",
       "      <td>0</td>\n",
       "      <td>0</td>\n",
       "      <td>0</td>\n",
       "      <td>0</td>\n",
       "      <td>0</td>\n",
       "      <td>0</td>\n",
       "    </tr>\n",
       "    <tr>\n",
       "      <th>5</th>\n",
       "      <td>Copycat (1995)</td>\n",
       "      <td>01-Jan-1995</td>\n",
       "      <td>NaN</td>\n",
       "      <td>http://us.imdb.com/M/title-exact?Copycat%20(1995)</td>\n",
       "      <td>0</td>\n",
       "      <td>0</td>\n",
       "      <td>0</td>\n",
       "      <td>0</td>\n",
       "      <td>0</td>\n",
       "      <td>0</td>\n",
       "      <td>...</td>\n",
       "      <td>0</td>\n",
       "      <td>0</td>\n",
       "      <td>0</td>\n",
       "      <td>0</td>\n",
       "      <td>0</td>\n",
       "      <td>0</td>\n",
       "      <td>0</td>\n",
       "      <td>1</td>\n",
       "      <td>0</td>\n",
       "      <td>0</td>\n",
       "    </tr>\n",
       "  </tbody>\n",
       "</table>\n",
       "<p>5 rows × 23 columns</p>\n",
       "</div>"
      ],
      "text/plain": [
       "                  title      release  vidrelease  \\\n",
       "item                                               \n",
       "1      Toy Story (1995)  01-Jan-1995         NaN   \n",
       "2      GoldenEye (1995)  01-Jan-1995         NaN   \n",
       "3     Four Rooms (1995)  01-Jan-1995         NaN   \n",
       "4     Get Shorty (1995)  01-Jan-1995         NaN   \n",
       "5        Copycat (1995)  01-Jan-1995         NaN   \n",
       "\n",
       "                                                   imdb  unknown  Action  \\\n",
       "item                                                                       \n",
       "1     http://us.imdb.com/M/title-exact?Toy%20Story%2...        0       0   \n",
       "2     http://us.imdb.com/M/title-exact?GoldenEye%20(...        0       1   \n",
       "3     http://us.imdb.com/M/title-exact?Four%20Rooms%...        0       0   \n",
       "4     http://us.imdb.com/M/title-exact?Get%20Shorty%...        0       1   \n",
       "5     http://us.imdb.com/M/title-exact?Copycat%20(1995)        0       0   \n",
       "\n",
       "      Adventure  Animation  Children's  Comedy  ...  Fantasy  Film-Noir  \\\n",
       "item                                            ...                       \n",
       "1             0          1           1       1  ...        0          0   \n",
       "2             1          0           0       0  ...        0          0   \n",
       "3             0          0           0       0  ...        0          0   \n",
       "4             0          0           0       1  ...        0          0   \n",
       "5             0          0           0       0  ...        0          0   \n",
       "\n",
       "      Horror  Musical  Mystery  Romance  Sci-Fi  Thriller  War  Western  \n",
       "item                                                                     \n",
       "1          0        0        0        0       0         0    0        0  \n",
       "2          0        0        0        0       0         1    0        0  \n",
       "3          0        0        0        0       0         1    0        0  \n",
       "4          0        0        0        0       0         0    0        0  \n",
       "5          0        0        0        0       0         1    0        0  \n",
       "\n",
       "[5 rows x 23 columns]"
      ]
     },
     "execution_count": 9,
     "metadata": {},
     "output_type": "execute_result"
    }
   ],
   "source": [
    "ml100k.movies.head() # multi-hot encoding"
   ]
  },
  {
   "cell_type": "markdown",
   "metadata": {
    "id": "TdJ5cPrQ-Wi0"
   },
   "source": [
    "## Defining Algorithms\n",
    "\n",
    "Let's set up two algorithms:"
   ]
  },
  {
   "cell_type": "code",
   "execution_count": 10,
   "metadata": {
    "id": "6fmDeiVX-Wi0"
   },
   "outputs": [],
   "source": [
    "algo_ii = knn.ItemItem(20)\n",
    "algo_als = als.BiasedMF(50)"
   ]
  },
  {
   "cell_type": "markdown",
   "metadata": {
    "id": "g0HLlMmx-Wi3"
   },
   "source": [
    "## Running the Evaluation\n",
    "\n",
    "In LensKit, our evaluation proceeds in 2 steps:\n",
    "\n",
    "1. Generate recommendations\n",
    "2. Measure them\n",
    "\n",
    "If memory is a concern, we can measure while generating, but we will not do that for now.\n",
    "\n",
    "We will first define a function to generate recommendations from one algorithm over a single partition of the data set.  It will take an algorithm, a train set, and a test set, and return the recommendations.\n",
    "\n",
    "**Note:** before fitting the algorithm, we clone it.  Some algorithms misbehave when fit multiple times.\n",
    "\n",
    "**Note 2:** our algorithms do not necessarily implement the `Recommender` interface, so we adapt them. This fills in a default candidate selector.\n",
    "\n",
    "The code function looks like this:"
   ]
  },
  {
   "cell_type": "code",
   "execution_count": 11,
   "metadata": {
    "id": "Ail8EBMw-Wi3"
   },
   "outputs": [],
   "source": [
    "def eval(aname, algo, train, test):\n",
    "    fittable = util.clone(algo)\n",
    "    fittable = Recommender.adapt(fittable)\n",
    "    fittable.fit(train)\n",
    "    users = test.user.unique()\n",
    "    # now we run the recommender\n",
    "    recs = batch.recommend(fittable, users, 100)\n",
    "    # add the algorithm name for analyzability\n",
    "    recs['Algorithm'] = aname\n",
    "    return recs"
   ]
  },
  {
   "cell_type": "markdown",
   "metadata": {
    "id": "YvXB4_ox-Wi5"
   },
   "source": [
    "Now, we will loop over the data and the algorithms, and generate recommendations:"
   ]
  },
  {
   "cell_type": "code",
   "execution_count": 12,
   "metadata": {
    "id": "SmrMUXs1-Wi5"
   },
   "outputs": [
    {
     "name": "stderr",
     "output_type": "stream",
     "text": [
      "Numba is using threading layer omp - consider TBB\n",
      "found 1 potential runtime problems - see https://boi.st/lkpy-perf\n"
     ]
    }
   ],
   "source": [
    "from lenskit import crossfold as xf\n",
    "all_recs = []\n",
    "test_data = []\n",
    "for train, test in xf.partition_users(ratings[['user', 'item', 'rating']], 5, xf.SampleFrac(0.2)):\n",
    "    test_data.append(test)\n",
    "    all_recs.append(eval('ItemItem', algo_ii, train, test))\n",
    "    all_recs.append(eval('ALS', algo_als, train, test))"
   ]
  },
  {
   "cell_type": "markdown",
   "metadata": {
    "id": "A8OKt3Nh-Wi7"
   },
   "source": [
    "With the results in place, we can concatenate them into a single data frame:"
   ]
  },
  {
   "cell_type": "code",
   "execution_count": 13,
   "metadata": {
    "colab": {
     "base_uri": "https://localhost:8080/",
     "height": 204
    },
    "id": "QN4dpGrj-Wi7",
    "outputId": "2cda1e31-3732-428b-82c7-96fc3bbb93af"
   },
   "outputs": [
    {
     "data": {
      "text/html": [
       "<div>\n",
       "<style scoped>\n",
       "    .dataframe tbody tr th:only-of-type {\n",
       "        vertical-align: middle;\n",
       "    }\n",
       "\n",
       "    .dataframe tbody tr th {\n",
       "        vertical-align: top;\n",
       "    }\n",
       "\n",
       "    .dataframe thead th {\n",
       "        text-align: right;\n",
       "    }\n",
       "</style>\n",
       "<table border=\"1\" class=\"dataframe\">\n",
       "  <thead>\n",
       "    <tr style=\"text-align: right;\">\n",
       "      <th></th>\n",
       "      <th>item</th>\n",
       "      <th>score</th>\n",
       "      <th>user</th>\n",
       "      <th>rank</th>\n",
       "      <th>Algorithm</th>\n",
       "    </tr>\n",
       "  </thead>\n",
       "  <tbody>\n",
       "    <tr>\n",
       "      <th>0</th>\n",
       "      <td>513</td>\n",
       "      <td>5.019601</td>\n",
       "      <td>1</td>\n",
       "      <td>1</td>\n",
       "      <td>ItemItem</td>\n",
       "    </tr>\n",
       "    <tr>\n",
       "      <th>1</th>\n",
       "      <td>483</td>\n",
       "      <td>5.008093</td>\n",
       "      <td>1</td>\n",
       "      <td>2</td>\n",
       "      <td>ItemItem</td>\n",
       "    </tr>\n",
       "    <tr>\n",
       "      <th>2</th>\n",
       "      <td>50</td>\n",
       "      <td>4.964179</td>\n",
       "      <td>1</td>\n",
       "      <td>3</td>\n",
       "      <td>ItemItem</td>\n",
       "    </tr>\n",
       "    <tr>\n",
       "      <th>3</th>\n",
       "      <td>963</td>\n",
       "      <td>4.935178</td>\n",
       "      <td>1</td>\n",
       "      <td>4</td>\n",
       "      <td>ItemItem</td>\n",
       "    </tr>\n",
       "    <tr>\n",
       "      <th>4</th>\n",
       "      <td>408</td>\n",
       "      <td>4.914991</td>\n",
       "      <td>1</td>\n",
       "      <td>5</td>\n",
       "      <td>ItemItem</td>\n",
       "    </tr>\n",
       "  </tbody>\n",
       "</table>\n",
       "</div>"
      ],
      "text/plain": [
       "   item     score  user  rank Algorithm\n",
       "0   513  5.019601     1     1  ItemItem\n",
       "1   483  5.008093     1     2  ItemItem\n",
       "2    50  4.964179     1     3  ItemItem\n",
       "3   963  4.935178     1     4  ItemItem\n",
       "4   408  4.914991     1     5  ItemItem"
      ]
     },
     "execution_count": 13,
     "metadata": {},
     "output_type": "execute_result"
    }
   ],
   "source": [
    "all_recs = pd.concat(all_recs, ignore_index=True)\n",
    "all_recs.head()"
   ]
  },
  {
   "cell_type": "markdown",
   "metadata": {
    "id": "gYi83B1C-Wi9"
   },
   "source": [
    "To compute our analysis, we also need to concatenate the test data into a single frame:"
   ]
  },
  {
   "cell_type": "code",
   "execution_count": 14,
   "metadata": {
    "id": "3iC3fXml-Wi9"
   },
   "outputs": [],
   "source": [
    "test_data = pd.concat(test_data, ignore_index=True)"
   ]
  },
  {
   "cell_type": "code",
   "execution_count": 15,
   "metadata": {},
   "outputs": [
    {
     "data": {
      "text/plain": [
       "60000"
      ]
     },
     "execution_count": 15,
     "metadata": {},
     "output_type": "execute_result"
    }
   ],
   "source": [
    "test_data.size"
   ]
  },
  {
   "cell_type": "markdown",
   "metadata": {
    "id": "RNLl1uAo-Wi_"
   },
   "source": [
    "We analyze our recommendation lists with a `RecListAnalysis`.  It takes care of the hard work of making sure that the truth data (our test data) and the recoommendations line up properly.\n",
    "\n",
    "We do assume here that each user only appears once per algorithm. Since our crossfold method partitions users, this is fine."
   ]
  },
  {
   "cell_type": "code",
   "execution_count": 16,
   "metadata": {
    "colab": {
     "base_uri": "https://localhost:8080/",
     "height": 235
    },
    "id": "BEcRuEoF-Wi_",
    "outputId": "d65d1226-9216-4c0e-c0ac-06671bb7c7d8"
   },
   "outputs": [
    {
     "data": {
      "text/html": [
       "<div>\n",
       "<style scoped>\n",
       "    .dataframe tbody tr th:only-of-type {\n",
       "        vertical-align: middle;\n",
       "    }\n",
       "\n",
       "    .dataframe tbody tr th {\n",
       "        vertical-align: top;\n",
       "    }\n",
       "\n",
       "    .dataframe thead th {\n",
       "        text-align: right;\n",
       "    }\n",
       "</style>\n",
       "<table border=\"1\" class=\"dataframe\">\n",
       "  <thead>\n",
       "    <tr style=\"text-align: right;\">\n",
       "      <th></th>\n",
       "      <th></th>\n",
       "      <th>nrecs</th>\n",
       "      <th>ndcg</th>\n",
       "    </tr>\n",
       "    <tr>\n",
       "      <th>Algorithm</th>\n",
       "      <th>user</th>\n",
       "      <th></th>\n",
       "      <th></th>\n",
       "    </tr>\n",
       "  </thead>\n",
       "  <tbody>\n",
       "    <tr>\n",
       "      <th rowspan=\"5\" valign=\"top\">ItemItem</th>\n",
       "      <th>1</th>\n",
       "      <td>100</td>\n",
       "      <td>0.205536</td>\n",
       "    </tr>\n",
       "    <tr>\n",
       "      <th>2</th>\n",
       "      <td>100</td>\n",
       "      <td>0.000000</td>\n",
       "    </tr>\n",
       "    <tr>\n",
       "      <th>11</th>\n",
       "      <td>100</td>\n",
       "      <td>0.044506</td>\n",
       "    </tr>\n",
       "    <tr>\n",
       "      <th>16</th>\n",
       "      <td>100</td>\n",
       "      <td>0.194211</td>\n",
       "    </tr>\n",
       "    <tr>\n",
       "      <th>20</th>\n",
       "      <td>100</td>\n",
       "      <td>0.000000</td>\n",
       "    </tr>\n",
       "  </tbody>\n",
       "</table>\n",
       "</div>"
      ],
      "text/plain": [
       "                nrecs      ndcg\n",
       "Algorithm user                 \n",
       "ItemItem  1       100  0.205536\n",
       "          2       100  0.000000\n",
       "          11      100  0.044506\n",
       "          16      100  0.194211\n",
       "          20      100  0.000000"
      ]
     },
     "execution_count": 16,
     "metadata": {},
     "output_type": "execute_result"
    }
   ],
   "source": [
    "rla = topn.RecListAnalysis()\n",
    "rla.add_metric(topn.ndcg)\n",
    "results = rla.compute(all_recs, test_data)\n",
    "results.head()"
   ]
  },
  {
   "cell_type": "code",
   "execution_count": 17,
   "metadata": {},
   "outputs": [
    {
     "data": {
      "text/plain": [
       "3772"
      ]
     },
     "execution_count": 17,
     "metadata": {},
     "output_type": "execute_result"
    }
   ],
   "source": [
    "results.size"
   ]
  },
  {
   "cell_type": "markdown",
   "metadata": {
    "id": "BlzeAxvo-WjC"
   },
   "source": [
    "Now we have nDCG values!"
   ]
  },
  {
   "cell_type": "markdown",
   "metadata": {},
   "source": [
    "Normalized discounted cumulative gain is a measure of ranking quality. The value of NDCG is determined by comparing the relevance of the items returned by the search engine to the relevance of the item that a hypothetical “ideal” search engine would return.\n",
    "Two assumptions are made in using DCG and its related measures.\n",
    "\n",
    "   1. Highly relevant documents are more useful when appearing earlier in a search engine result list (have higher ranks)\n",
    "   2. Highly relevant documents are more useful than marginally relevant documents, which are in turn more useful than non-relevant documents."
   ]
  },
  {
   "cell_type": "code",
   "execution_count": 18,
   "metadata": {
    "colab": {
     "base_uri": "https://localhost:8080/",
     "height": 85
    },
    "id": "o5NFmun7-WjC",
    "outputId": "8bf270b9-cfbb-4668-a0bf-93397d8d1f6f"
   },
   "outputs": [
    {
     "data": {
      "text/plain": [
       "Algorithm\n",
       "ALS         0.136647\n",
       "ItemItem    0.101441\n",
       "Name: ndcg, dtype: float64"
      ]
     },
     "execution_count": 18,
     "metadata": {},
     "output_type": "execute_result"
    }
   ],
   "source": [
    "results.groupby('Algorithm').ndcg.mean()"
   ]
  },
  {
   "cell_type": "markdown",
   "metadata": {
    "id": "meHcN4S3_wcA"
   },
   "source": [
    "Adn we can plot them:"
   ]
  },
  {
   "cell_type": "code",
   "execution_count": 19,
   "metadata": {
    "colab": {
     "base_uri": "https://localhost:8080/",
     "height": 331
    },
    "id": "7ZlYiIvh-WjE",
    "outputId": "8133ad79-b88a-4907-889c-3c88d7c5f9ba"
   },
   "outputs": [
    {
     "data": {
      "text/plain": [
       "<Axes: xlabel='Algorithm'>"
      ]
     },
     "execution_count": 19,
     "metadata": {},
     "output_type": "execute_result"
    },
    {
     "data": {
      "image/png": "[encoded data removed]",
      "text/plain": [
       "<Figure size 640x480 with 1 Axes>"
      ]
     },
     "metadata": {},
     "output_type": "display_data"
    }
   ],
   "source": [
    "results.groupby('Algorithm').ndcg.mean().plot.bar()"
   ]
  },
  {
   "cell_type": "markdown",
   "metadata": {
    "id": "_a5zFyej-WjH"
   },
   "source": [
    "## Algorithms comparison"
   ]
  },
  {
   "cell_type": "code",
   "execution_count": 20,
   "metadata": {},
   "outputs": [],
   "source": [
    "# basic: \n",
    "from lenskit.algorithms.basic import PopScore, Popular, Random  # Recommend the most popular items. (or random)\n",
    "# Popscore is a newer version of popular\n",
    "from lenskit.algorithms.bias import Bias              # A user-item bias rating prediction algorithm.\n",
    "from lenskit.algorithms.basic import Fallback         # The Fallback algorithm predicts with its first component,\n",
    "                                                      # uses the second to fill in missing values, and so forth.\n",
    "\n",
    "# KNN\n",
    "from lenskit.algorithms.item_knn import ItemItem   # User-user nearest-neighbor collaborative filtering with ratings\n",
    "from lenskit.algorithms.user_knn import UserUser   # Item-item nearest-neighbor collaborative filtering with ratings\n",
    "\n",
    "# Matrix Factorization\n",
    "from lenskit.algorithms.als import BiasedMF     # Biased matrix factorization trained with alternating least squares\n",
    "from lenskit.algorithms.svd import BiasedSVD    # This code implements a traditional SVD using scikit-learn"
   ]
  },
  {
   "cell_type": "code",
   "execution_count": 21,
   "metadata": {},
   "outputs": [],
   "source": [
    "# Recommend the most popular items.\n",
    "algo_popular = Popular()\n",
    "algo_popscore = PopScore()\n",
    "\n",
    "# obvious\n",
    "algo_random = Random()\n",
    "\n",
    "\n",
    "# A user-item bias rating prediction algorithm. \n",
    "# The damping values can be interpreted as the number of default (mean) ratings to assume \n",
    "# a priori for each user or item, damping low-information users and items towards a mean \n",
    "# instead of permitting them to take on extreme values based on few ratings.\n",
    "\n",
    "algo_bias = Bias() # damping = 0.0\n",
    "algo_bias_low_damping = Bias(damping=0.01)\n",
    "algo_bias_avg_damping = Bias(damping=0.2)\n",
    "algo_bias_high_damping = Bias(damping=0.5)\n",
    "\n",
    "\n",
    "# User-user nearest-neighbor collaborative filtering with ratings. \n",
    "# This user-user implementation is not terribly configurable; \n",
    "# it hard-codes design decisions found to work well in the previous Java-based LensKit code.\n",
    "\n",
    "# Parameter: the maximum number of neighbors for scoring each item\n",
    "algo_uu_5 = UserUser(5)\n",
    "algo_uu_20 = UserUser(20)\n",
    "algo_uu_80 = UserUser(80)\n",
    "\n",
    "\n",
    "# Item-item nearest-neighbor collaborative filtering with ratings.\n",
    "# This item-item implementation is not terribly configurable;\n",
    "# it hard-codes design decisions found to work well in the previous Java-based LensKit code [ELKR11].\n",
    "# This implementation is based on the description of item-based CF by Deshpande and Karypis [DK04],\n",
    "# and produces results equivalent to Java LensKit.\n",
    "\n",
    "# Prameter: --^\n",
    "algo_ii_5 = ItemItem(5)\n",
    "algo_ii_20 = ItemItem(20)\n",
    "algo_ii_80 = ItemItem(80)\n",
    "\n",
    "\n",
    "# This is a prediction-oriented algorithm suitable for explicit feedback data, \n",
    "# using the alternating least squares approach to compute and to minimize the\n",
    "# regularized squared reconstruction error of the ratings matrix.\n",
    "\n",
    "# Coordinate descent, adapted for a separately-trained bias model and to use weighted regularization\n",
    "# as in the original ALS paper\n",
    "algo_als_coord_desc10 = BiasedMF(10)\n",
    "algo_als_coord_desc50 = BiasedMF(50)\n",
    "# A direct implementation of the original ALS using LU-decomposition to solve for the optimized matrices.\n",
    "algo_als_direct = BiasedMF(50, method='lu')\n",
    "\n",
    "\n",
    "# Biased matrix factorization for implicit feedback using SciKit-Learn’s SVD solver.\n",
    "# It operates by first computing the bias, then computing the SVD of the bias residuals.\n",
    "algo_svd50 = BiasedSVD(50)\n",
    "algo_svd100 = BiasedSVD(100)"
   ]
  },
  {
   "cell_type": "code",
   "execution_count": 22,
   "metadata": {},
   "outputs": [],
   "source": [
    "all_recs = []\n",
    "test_data = []\n",
    "for train, test in xf.partition_users(ratings[['user', 'item', 'rating']], 5, xf.SampleFrac(0.2)):\n",
    "    test_data.append(test)\n",
    "    all_recs.append(eval('Popular', algo_popular, train, test))\n",
    "    all_recs.append(eval('PopScore', algo_popscore, train, test))\n",
    "    all_recs.append(eval('Random', algo_random, train, test))\n",
    "    all_recs.append(eval('Bias', algo_bias, train, test))\n",
    "    all_recs.append(eval('BiasLowDamping', algo_bias_low_damping, train, test))\n",
    "    all_recs.append(eval('BiasAvgDamping', algo_bias_avg_damping, train, test))\n",
    "    all_recs.append(eval('BiasHighDamping', algo_bias_high_damping, train, test))\n",
    "    all_recs.append(eval('UserUser5', algo_uu_5, train, test))\n",
    "    all_recs.append(eval('UserUser20', algo_uu_20, train, test))\n",
    "    all_recs.append(eval('UserUser80', algo_uu_80, train, test))\n",
    "    all_recs.append(eval('ItemItem5', algo_ii_5, train, test))\n",
    "    all_recs.append(eval('ItemItem20', algo_ii_20, train, test))\n",
    "    all_recs.append(eval('ItemItem80', algo_ii_80, train, test))\n",
    "    all_recs.append(eval('ALS10', algo_als_coord_desc10, train, test))\n",
    "    all_recs.append(eval('ALS50', algo_als_coord_desc50, train, test))\n",
    "    all_recs.append(eval('ALSDirect', algo_als_direct, train, test))\n",
    "    all_recs.append(eval('SVD50', algo_svd50, train, test))\n",
    "    all_recs.append(eval('SVD100', algo_svd100, train, test))"
   ]
  },
  {
   "cell_type": "code",
   "execution_count": 23,
   "metadata": {},
   "outputs": [],
   "source": [
    "test_data = pd.concat(test_data, ignore_index=True)\n",
    "all_recs = pd.concat(all_recs, ignore_index=True)"
   ]
  },
  {
   "cell_type": "code",
   "execution_count": 24,
   "metadata": {},
   "outputs": [
    {
     "data": {
      "text/plain": [
       "Algorithm\n",
       "ALS10              0.117304\n",
       "ALS50              0.134925\n",
       "ALSDirect          0.135026\n",
       "Bias               0.076584\n",
       "BiasAvgDamping     0.078355\n",
       "BiasHighDamping    0.079997\n",
       "BiasLowDamping     0.076646\n",
       "ItemItem20         0.102329\n",
       "ItemItem5          0.096277\n",
       "ItemItem80         0.094616\n",
       "PopScore           0.272021\n",
       "Popular            0.272081\n",
       "Random             0.029765\n",
       "SVD100             0.150635\n",
       "SVD50              0.159796\n",
       "UserUser20         0.065705\n",
       "UserUser5          0.068808\n",
       "UserUser80         0.058395\n",
       "Name: ndcg, dtype: float64"
      ]
     },
     "execution_count": 24,
     "metadata": {},
     "output_type": "execute_result"
    }
   ],
   "source": [
    "rla = topn.RecListAnalysis()\n",
    "rla.add_metric(topn.ndcg)\n",
    "rla.add_metric(topn.precision)\n",
    "rla.add_metric(topn.recall)\n",
    "results = rla.compute(all_recs, test_data)\n",
    "results.groupby('Algorithm').ndcg.mean()"
   ]
  },
  {
   "cell_type": "code",
   "execution_count": 25,
   "metadata": {},
   "outputs": [
    {
     "data": {
      "text/html": [
       "<div>\n",
       "<style scoped>\n",
       "    .dataframe tbody tr th:only-of-type {\n",
       "        vertical-align: middle;\n",
       "    }\n",
       "\n",
       "    .dataframe tbody tr th {\n",
       "        vertical-align: top;\n",
       "    }\n",
       "\n",
       "    .dataframe thead th {\n",
       "        text-align: right;\n",
       "    }\n",
       "</style>\n",
       "<table border=\"1\" class=\"dataframe\">\n",
       "  <thead>\n",
       "    <tr style=\"text-align: right;\">\n",
       "      <th></th>\n",
       "      <th></th>\n",
       "      <th>nrecs</th>\n",
       "      <th>ndcg</th>\n",
       "      <th>precision</th>\n",
       "      <th>recall</th>\n",
       "    </tr>\n",
       "    <tr>\n",
       "      <th>Algorithm</th>\n",
       "      <th>user</th>\n",
       "      <th></th>\n",
       "      <th></th>\n",
       "      <th></th>\n",
       "      <th></th>\n",
       "    </tr>\n",
       "  </thead>\n",
       "  <tbody>\n",
       "    <tr>\n",
       "      <th>PopScore</th>\n",
       "      <th>413</th>\n",
       "      <td>100</td>\n",
       "      <td>0.717022</td>\n",
       "      <td>0.08</td>\n",
       "      <td>0.800000</td>\n",
       "    </tr>\n",
       "    <tr>\n",
       "      <th rowspan=\"2\" valign=\"top\">Popular</th>\n",
       "      <th>413</th>\n",
       "      <td>100</td>\n",
       "      <td>0.716944</td>\n",
       "      <td>0.08</td>\n",
       "      <td>0.800000</td>\n",
       "    </tr>\n",
       "    <tr>\n",
       "      <th>103</th>\n",
       "      <td>100</td>\n",
       "      <td>0.714034</td>\n",
       "      <td>0.06</td>\n",
       "      <td>1.000000</td>\n",
       "    </tr>\n",
       "    <tr>\n",
       "      <th>PopScore</th>\n",
       "      <th>103</th>\n",
       "      <td>100</td>\n",
       "      <td>0.714034</td>\n",
       "      <td>0.06</td>\n",
       "      <td>1.000000</td>\n",
       "    </tr>\n",
       "    <tr>\n",
       "      <th>ALS50</th>\n",
       "      <th>454</th>\n",
       "      <td>100</td>\n",
       "      <td>0.675340</td>\n",
       "      <td>0.30</td>\n",
       "      <td>0.638298</td>\n",
       "    </tr>\n",
       "  </tbody>\n",
       "</table>\n",
       "</div>"
      ],
      "text/plain": [
       "                nrecs      ndcg  precision    recall\n",
       "Algorithm user                                      \n",
       "PopScore  413     100  0.717022       0.08  0.800000\n",
       "Popular   413     100  0.716944       0.08  0.800000\n",
       "          103     100  0.714034       0.06  1.000000\n",
       "PopScore  103     100  0.714034       0.06  1.000000\n",
       "ALS50     454     100  0.675340       0.30  0.638298"
      ]
     },
     "execution_count": 25,
     "metadata": {},
     "output_type": "execute_result"
    }
   ],
   "source": [
    "results.sort_values('ndcg', ascending=False).head()"
   ]
  },
  {
   "cell_type": "code",
   "execution_count": 26,
   "metadata": {},
   "outputs": [
    {
     "data": {
      "text/html": [
       "<div>\n",
       "<style scoped>\n",
       "    .dataframe tbody tr th:only-of-type {\n",
       "        vertical-align: middle;\n",
       "    }\n",
       "\n",
       "    .dataframe tbody tr th {\n",
       "        vertical-align: top;\n",
       "    }\n",
       "\n",
       "    .dataframe thead th {\n",
       "        text-align: right;\n",
       "    }\n",
       "</style>\n",
       "<table border=\"1\" class=\"dataframe\">\n",
       "  <thead>\n",
       "    <tr style=\"text-align: right;\">\n",
       "      <th></th>\n",
       "      <th></th>\n",
       "      <th>nrecs</th>\n",
       "      <th>ndcg</th>\n",
       "      <th>precision</th>\n",
       "      <th>recall</th>\n",
       "    </tr>\n",
       "    <tr>\n",
       "      <th>Algorithm</th>\n",
       "      <th>user</th>\n",
       "      <th></th>\n",
       "      <th></th>\n",
       "      <th></th>\n",
       "      <th></th>\n",
       "    </tr>\n",
       "  </thead>\n",
       "  <tbody>\n",
       "    <tr>\n",
       "      <th>Popular</th>\n",
       "      <th>13</th>\n",
       "      <td>100</td>\n",
       "      <td>0.481433</td>\n",
       "      <td>0.49</td>\n",
       "      <td>0.385827</td>\n",
       "    </tr>\n",
       "    <tr>\n",
       "      <th rowspan=\"2\" valign=\"top\">PopScore</th>\n",
       "      <th>13</th>\n",
       "      <td>100</td>\n",
       "      <td>0.481485</td>\n",
       "      <td>0.49</td>\n",
       "      <td>0.385827</td>\n",
       "    </tr>\n",
       "    <tr>\n",
       "      <th>416</th>\n",
       "      <td>100</td>\n",
       "      <td>0.581350</td>\n",
       "      <td>0.46</td>\n",
       "      <td>0.464646</td>\n",
       "    </tr>\n",
       "    <tr>\n",
       "      <th>Popular</th>\n",
       "      <th>416</th>\n",
       "      <td>100</td>\n",
       "      <td>0.581314</td>\n",
       "      <td>0.46</td>\n",
       "      <td>0.464646</td>\n",
       "    </tr>\n",
       "    <tr>\n",
       "      <th>PopScore</th>\n",
       "      <th>655</th>\n",
       "      <td>100</td>\n",
       "      <td>0.373012</td>\n",
       "      <td>0.43</td>\n",
       "      <td>0.313869</td>\n",
       "    </tr>\n",
       "  </tbody>\n",
       "</table>\n",
       "</div>"
      ],
      "text/plain": [
       "                nrecs      ndcg  precision    recall\n",
       "Algorithm user                                      \n",
       "Popular   13      100  0.481433       0.49  0.385827\n",
       "PopScore  13      100  0.481485       0.49  0.385827\n",
       "          416     100  0.581350       0.46  0.464646\n",
       "Popular   416     100  0.581314       0.46  0.464646\n",
       "PopScore  655     100  0.373012       0.43  0.313869"
      ]
     },
     "execution_count": 26,
     "metadata": {},
     "output_type": "execute_result"
    }
   ],
   "source": [
    "results.sort_values('precision', ascending=False).head()"
   ]
  },
  {
   "cell_type": "markdown",
   "metadata": {},
   "source": [
    "## Time for some graphics"
   ]
  },
  {
   "cell_type": "code",
   "execution_count": 27,
   "metadata": {},
   "outputs": [
    {
     "data": {
      "text/plain": [
       "<Axes: title={'center': 'NDCG'}, xlabel='Algorithm'>"
      ]
     },
     "execution_count": 27,
     "metadata": {},
     "output_type": "execute_result"
    },
    {
     "data": {
      "image/png": "[encoded data removed]",
      "text/plain": [
       "<Figure size 640x480 with 1 Axes>"
      ]
     },
     "metadata": {},
     "output_type": "display_data"
    }
   ],
   "source": [
    "results.groupby('Algorithm').ndcg.mean().plot.bar(title='NDCG')"
   ]
  },
  {
   "cell_type": "code",
   "execution_count": 28,
   "metadata": {},
   "outputs": [
    {
     "data": {
      "text/plain": [
       "<Axes: title={'center': 'Precision'}, xlabel='Algorithm'>"
      ]
     },
     "execution_count": 28,
     "metadata": {},
     "output_type": "execute_result"
    },
    {
     "data": {
      "image/png": "[encoded data removed]",
      "text/plain": [
       "<Figure size 640x480 with 1 Axes>"
      ]
     },
     "metadata": {},
     "output_type": "display_data"
    }
   ],
   "source": [
    "results.groupby('Algorithm').precision.mean().plot.bar(title='Precision')"
   ]
  },
  {
   "cell_type": "code",
   "execution_count": 29,
   "metadata": {},
   "outputs": [
    {
     "data": {
      "text/plain": [
       "<Axes: title={'center': 'Recall'}, xlabel='Algorithm'>"
      ]
     },
     "execution_count": 29,
     "metadata": {},
     "output_type": "execute_result"
    },
    {
     "data": {
      "image/png": "[encoded data removed]",
      "text/plain": [
       "<Figure size 640x480 with 1 Axes>"
      ]
     },
     "metadata": {},
     "output_type": "display_data"
    }
   ],
   "source": [
    "results.groupby('Algorithm').recall.mean().plot.bar(title='Recall')"
   ]
  },
  {
   "cell_type": "code",
   "execution_count": 51,
   "metadata": {},
   "outputs": [
    {
     "data": {
      "text/html": [
       "<div>\n",
       "<style scoped>\n",
       "    .dataframe tbody tr th:only-of-type {\n",
       "        vertical-align: middle;\n",
       "    }\n",
       "\n",
       "    .dataframe tbody tr th {\n",
       "        vertical-align: top;\n",
       "    }\n",
       "\n",
       "    .dataframe thead th {\n",
       "        text-align: right;\n",
       "    }\n",
       "</style>\n",
       "<table border=\"1\" class=\"dataframe\">\n",
       "  <thead>\n",
       "    <tr style=\"text-align: right;\">\n",
       "      <th></th>\n",
       "      <th>item</th>\n",
       "      <th>score</th>\n",
       "      <th>user</th>\n",
       "      <th>rank</th>\n",
       "      <th>Algorithm</th>\n",
       "    </tr>\n",
       "  </thead>\n",
       "  <tbody>\n",
       "    <tr>\n",
       "      <th>0</th>\n",
       "      <td>475</td>\n",
       "      <td>5.689233</td>\n",
       "      <td>3</td>\n",
       "      <td>1</td>\n",
       "      <td>UserUser1</td>\n",
       "    </tr>\n",
       "    <tr>\n",
       "      <th>1</th>\n",
       "      <td>959</td>\n",
       "      <td>5.689233</td>\n",
       "      <td>3</td>\n",
       "      <td>2</td>\n",
       "      <td>UserUser1</td>\n",
       "    </tr>\n",
       "    <tr>\n",
       "      <th>2</th>\n",
       "      <td>896</td>\n",
       "      <td>5.132752</td>\n",
       "      <td>3</td>\n",
       "      <td>3</td>\n",
       "      <td>UserUser1</td>\n",
       "    </tr>\n",
       "    <tr>\n",
       "      <th>3</th>\n",
       "      <td>543</td>\n",
       "      <td>4.809112</td>\n",
       "      <td>3</td>\n",
       "      <td>4</td>\n",
       "      <td>UserUser1</td>\n",
       "    </tr>\n",
       "    <tr>\n",
       "      <th>4</th>\n",
       "      <td>1368</td>\n",
       "      <td>4.766389</td>\n",
       "      <td>3</td>\n",
       "      <td>5</td>\n",
       "      <td>UserUser1</td>\n",
       "    </tr>\n",
       "  </tbody>\n",
       "</table>\n",
       "</div>"
      ],
      "text/plain": [
       "   item     score  user  rank  Algorithm\n",
       "0   475  5.689233     3     1  UserUser1\n",
       "1   959  5.689233     3     2  UserUser1\n",
       "2   896  5.132752     3     3  UserUser1\n",
       "3   543  4.809112     3     4  UserUser1\n",
       "4  1368  4.766389     3     5  UserUser1"
      ]
     },
     "execution_count": 51,
     "metadata": {},
     "output_type": "execute_result"
    }
   ],
   "source": [
    "all_recs.head()"
   ]
  },
  {
   "cell_type": "code",
   "execution_count": 52,
   "metadata": {},
   "outputs": [
    {
     "data": {
      "text/plain": [
       "4243500"
      ]
     },
     "execution_count": 52,
     "metadata": {},
     "output_type": "execute_result"
    }
   ],
   "source": [
    "all_recs.size"
   ]
  },
  {
   "cell_type": "code",
   "execution_count": 55,
   "metadata": {},
   "outputs": [
    {
     "data": {
      "text/plain": [
       "943"
      ]
     },
     "execution_count": 55,
     "metadata": {},
     "output_type": "execute_result"
    }
   ],
   "source": [
    "all_recs['user'].unique().size"
   ]
  },
  {
   "cell_type": "code",
   "execution_count": 56,
   "metadata": {},
   "outputs": [
    {
     "data": {
      "text/plain": [
       "3772"
      ]
     },
     "execution_count": 56,
     "metadata": {},
     "output_type": "execute_result"
    }
   ],
   "source": [
    "ml100k.users.size"
   ]
  },
  {
   "cell_type": "markdown",
   "metadata": {},
   "source": [
    "## Time for some statistics"
   ]
  },
  {
   "cell_type": "code",
   "execution_count": 30,
   "metadata": {},
   "outputs": [],
   "source": [
    "from scipy.stats import friedmanchisquare, wilcoxon\n",
    "from itertools import combinations"
   ]
  },
  {
   "cell_type": "code",
   "execution_count": 31,
   "metadata": {},
   "outputs": [
    {
     "data": {
      "text/plain": [
       "['Popular', 'PopScore', 'Random', 'Bias', 'BiasLowDamping', ..., 'ALS10', 'ALS50', 'ALSDirect', 'SVD50', 'SVD100']\n",
       "Length: 18\n",
       "Categories (18, object): ['ALS10', 'ALS50', 'ALSDirect', 'Bias', ..., 'SVD50', 'UserUser20', 'UserUser5', 'UserUser80']"
      ]
     },
     "execution_count": 31,
     "metadata": {},
     "output_type": "execute_result"
    }
   ],
   "source": [
    "recs = all_recs.astype({'Algorithm': 'category'})\n",
    "rec_algos = recs['Algorithm'].unique()\n",
    "rec_algos"
   ]
  },
  {
   "cell_type": "markdown",
   "metadata": {},
   "source": [
    "We will now examine these metrics in more detail and test for statistical significance. Best practice for statistical testing for recommender systems is still a work in progress, but this method avoids most of the validity problems we know about.\n",
    "\n",
    "The Friedman Chi-squared test will test the null hypothesis that there is no difference between algorithms in terms of their performance."
   ]
  },
  {
   "cell_type": "code",
   "execution_count": 32,
   "metadata": {},
   "outputs": [],
   "source": [
    "def metric_friedman(metric):\n",
    "    groups = [df[metric] for a, df in results.groupby('Algorithm')]\n",
    "\n",
    "    stat, p = friedmanchisquare(*groups)\n",
    "    return pd.Series({'stat': stat, 'pvalue': p}, name=metric)"
   ]
  },
  {
   "cell_type": "markdown",
   "metadata": {},
   "source": [
    "If the test detects significance, we have at least one pair of different algorithms - but which pairs? Unfortunately, the good tests aren't readily available in scipy and friends, so we're going to take a conservative approch and perform pairwise Wilconxon signed-rank tests with a Bonferroni adjustment."
   ]
  },
  {
   "cell_type": "code",
   "execution_count": 33,
   "metadata": {},
   "outputs": [],
   "source": [
    "pairs = pd.DataFrame.from_records(combinations(rec_algos, 2), columns=['A1', 'A2'])\n",
    "def am_wilcox(metric, p_scale = len(pairs)):\n",
    "    def compute(df):\n",
    "        vs1 = results.loc[df['A1'], metric]\n",
    "        vs2 = results.loc[df['A2'], metric]\n",
    "        diff = (vs1 - vs2).mean()\n",
    "        stat, p = wilcoxon(vs1, vs2)\n",
    "        return pd.Series({'diff': diff, 'stat': stat, 'p': p, 'adj_p': p * p_scale})\n",
    "    scores = pairs.apply(compute, axis=1)\n",
    "    return pairs.join(scores)"
   ]
  },
  {
   "cell_type": "code",
   "execution_count": 34,
   "metadata": {},
   "outputs": [
    {
     "data": {
      "text/plain": [
       "stat      6157.413195\n",
       "pvalue       0.000000\n",
       "Name: precision, dtype: float64"
      ]
     },
     "execution_count": 34,
     "metadata": {},
     "output_type": "execute_result"
    }
   ],
   "source": [
    "metric_friedman('precision')"
   ]
  },
  {
   "cell_type": "code",
   "execution_count": 35,
   "metadata": {},
   "outputs": [
    {
     "name": "stderr",
     "output_type": "stream",
     "text": [
      "/home/antony/.local/lib/python3.10/site-packages/scipy/stats/_morestats.py:3428: UserWarning: Sample size too small for normal approximation.\n",
      "  warnings.warn(\"Sample size too small for normal approximation.\")\n"
     ]
    },
    {
     "data": {
      "text/html": [
       "<div>\n",
       "<style scoped>\n",
       "    .dataframe tbody tr th:only-of-type {\n",
       "        vertical-align: middle;\n",
       "    }\n",
       "\n",
       "    .dataframe tbody tr th {\n",
       "        vertical-align: top;\n",
       "    }\n",
       "\n",
       "    .dataframe thead th {\n",
       "        text-align: right;\n",
       "    }\n",
       "</style>\n",
       "<table border=\"1\" class=\"dataframe\">\n",
       "  <thead>\n",
       "    <tr style=\"text-align: right;\">\n",
       "      <th></th>\n",
       "      <th>A1</th>\n",
       "      <th>A2</th>\n",
       "      <th>diff</th>\n",
       "      <th>stat</th>\n",
       "      <th>p</th>\n",
       "      <th>adj_p</th>\n",
       "    </tr>\n",
       "  </thead>\n",
       "  <tbody>\n",
       "    <tr>\n",
       "      <th>1</th>\n",
       "      <td>Popular</td>\n",
       "      <td>Random</td>\n",
       "      <td>0.073595</td>\n",
       "      <td>1183.0</td>\n",
       "      <td>1.186656e-148</td>\n",
       "      <td>1.815583e-146</td>\n",
       "    </tr>\n",
       "    <tr>\n",
       "      <th>17</th>\n",
       "      <td>PopScore</td>\n",
       "      <td>Random</td>\n",
       "      <td>0.073584</td>\n",
       "      <td>1180.0</td>\n",
       "      <td>1.172389e-148</td>\n",
       "      <td>1.793755e-146</td>\n",
       "    </tr>\n",
       "    <tr>\n",
       "      <th>8</th>\n",
       "      <td>Popular</td>\n",
       "      <td>UserUser80</td>\n",
       "      <td>0.058971</td>\n",
       "      <td>3148.0</td>\n",
       "      <td>2.356694e-144</td>\n",
       "      <td>3.605741e-142</td>\n",
       "    </tr>\n",
       "    <tr>\n",
       "      <th>24</th>\n",
       "      <td>PopScore</td>\n",
       "      <td>UserUser80</td>\n",
       "      <td>0.058961</td>\n",
       "      <td>3147.5</td>\n",
       "      <td>2.373672e-144</td>\n",
       "      <td>3.631719e-142</td>\n",
       "    </tr>\n",
       "    <tr>\n",
       "      <th>6</th>\n",
       "      <td>Popular</td>\n",
       "      <td>UserUser5</td>\n",
       "      <td>0.055408</td>\n",
       "      <td>3539.0</td>\n",
       "      <td>2.857170e-143</td>\n",
       "      <td>4.371471e-141</td>\n",
       "    </tr>\n",
       "    <tr>\n",
       "      <th>22</th>\n",
       "      <td>PopScore</td>\n",
       "      <td>UserUser5</td>\n",
       "      <td>0.055398</td>\n",
       "      <td>3401.0</td>\n",
       "      <td>2.663194e-143</td>\n",
       "      <td>4.074687e-141</td>\n",
       "    </tr>\n",
       "    <tr>\n",
       "      <th>7</th>\n",
       "      <td>Popular</td>\n",
       "      <td>UserUser20</td>\n",
       "      <td>0.055196</td>\n",
       "      <td>3521.0</td>\n",
       "      <td>5.471571e-144</td>\n",
       "      <td>8.371503e-142</td>\n",
       "    </tr>\n",
       "    <tr>\n",
       "      <th>23</th>\n",
       "      <td>PopScore</td>\n",
       "      <td>UserUser20</td>\n",
       "      <td>0.055186</td>\n",
       "      <td>3544.5</td>\n",
       "      <td>5.916734e-144</td>\n",
       "      <td>9.052603e-142</td>\n",
       "    </tr>\n",
       "    <tr>\n",
       "      <th>2</th>\n",
       "      <td>Popular</td>\n",
       "      <td>Bias</td>\n",
       "      <td>0.051485</td>\n",
       "      <td>11391.0</td>\n",
       "      <td>6.767971e-130</td>\n",
       "      <td>1.035500e-127</td>\n",
       "    </tr>\n",
       "    <tr>\n",
       "      <th>18</th>\n",
       "      <td>PopScore</td>\n",
       "      <td>Bias</td>\n",
       "      <td>0.051474</td>\n",
       "      <td>11445.0</td>\n",
       "      <td>8.039805e-130</td>\n",
       "      <td>1.230090e-127</td>\n",
       "    </tr>\n",
       "    <tr>\n",
       "      <th>3</th>\n",
       "      <td>Popular</td>\n",
       "      <td>BiasLowDamping</td>\n",
       "      <td>0.051474</td>\n",
       "      <td>11397.5</td>\n",
       "      <td>6.910374e-130</td>\n",
       "      <td>1.057287e-127</td>\n",
       "    </tr>\n",
       "    <tr>\n",
       "      <th>19</th>\n",
       "      <td>PopScore</td>\n",
       "      <td>BiasLowDamping</td>\n",
       "      <td>0.051463</td>\n",
       "      <td>11450.5</td>\n",
       "      <td>8.183206e-130</td>\n",
       "      <td>1.252031e-127</td>\n",
       "    </tr>\n",
       "    <tr>\n",
       "      <th>4</th>\n",
       "      <td>Popular</td>\n",
       "      <td>BiasAvgDamping</td>\n",
       "      <td>0.050689</td>\n",
       "      <td>12241.0</td>\n",
       "      <td>6.746582e-129</td>\n",
       "      <td>1.032227e-126</td>\n",
       "    </tr>\n",
       "    <tr>\n",
       "      <th>20</th>\n",
       "      <td>PopScore</td>\n",
       "      <td>BiasAvgDamping</td>\n",
       "      <td>0.050679</td>\n",
       "      <td>12353.5</td>\n",
       "      <td>6.354350e-129</td>\n",
       "      <td>9.722155e-127</td>\n",
       "    </tr>\n",
       "    <tr>\n",
       "      <th>5</th>\n",
       "      <td>Popular</td>\n",
       "      <td>BiasHighDamping</td>\n",
       "      <td>0.050159</td>\n",
       "      <td>12606.5</td>\n",
       "      <td>1.422308e-128</td>\n",
       "      <td>2.176132e-126</td>\n",
       "    </tr>\n",
       "  </tbody>\n",
       "</table>\n",
       "</div>"
      ],
      "text/plain": [
       "          A1               A2      diff     stat              p          adj_p\n",
       "1    Popular           Random  0.073595   1183.0  1.186656e-148  1.815583e-146\n",
       "17  PopScore           Random  0.073584   1180.0  1.172389e-148  1.793755e-146\n",
       "8    Popular       UserUser80  0.058971   3148.0  2.356694e-144  3.605741e-142\n",
       "24  PopScore       UserUser80  0.058961   3147.5  2.373672e-144  3.631719e-142\n",
       "6    Popular        UserUser5  0.055408   3539.0  2.857170e-143  4.371471e-141\n",
       "22  PopScore        UserUser5  0.055398   3401.0  2.663194e-143  4.074687e-141\n",
       "7    Popular       UserUser20  0.055196   3521.0  5.471571e-144  8.371503e-142\n",
       "23  PopScore       UserUser20  0.055186   3544.5  5.916734e-144  9.052603e-142\n",
       "2    Popular             Bias  0.051485  11391.0  6.767971e-130  1.035500e-127\n",
       "18  PopScore             Bias  0.051474  11445.0  8.039805e-130  1.230090e-127\n",
       "3    Popular   BiasLowDamping  0.051474  11397.5  6.910374e-130  1.057287e-127\n",
       "19  PopScore   BiasLowDamping  0.051463  11450.5  8.183206e-130  1.252031e-127\n",
       "4    Popular   BiasAvgDamping  0.050689  12241.0  6.746582e-129  1.032227e-126\n",
       "20  PopScore   BiasAvgDamping  0.050679  12353.5  6.354350e-129  9.722155e-127\n",
       "5    Popular  BiasHighDamping  0.050159  12606.5  1.422308e-128  2.176132e-126"
      ]
     },
     "execution_count": 35,
     "metadata": {},
     "output_type": "execute_result"
    }
   ],
   "source": [
    "am_wilcox('precision').sort_values('diff', ascending=False).head(15)"
   ]
  },
  {
   "cell_type": "code",
   "execution_count": 36,
   "metadata": {},
   "outputs": [
    {
     "name": "stderr",
     "output_type": "stream",
     "text": [
      "/home/antony/.local/lib/python3.10/site-packages/scipy/stats/_morestats.py:3428: UserWarning: Sample size too small for normal approximation.\n",
      "  warnings.warn(\"Sample size too small for normal approximation.\")\n"
     ]
    },
    {
     "data": {
      "text/html": [
       "<div>\n",
       "<style scoped>\n",
       "    .dataframe tbody tr th:only-of-type {\n",
       "        vertical-align: middle;\n",
       "    }\n",
       "\n",
       "    .dataframe tbody tr th {\n",
       "        vertical-align: top;\n",
       "    }\n",
       "\n",
       "    .dataframe thead th {\n",
       "        text-align: right;\n",
       "    }\n",
       "</style>\n",
       "<table border=\"1\" class=\"dataframe\">\n",
       "  <thead>\n",
       "    <tr style=\"text-align: right;\">\n",
       "      <th></th>\n",
       "      <th>A1</th>\n",
       "      <th>A2</th>\n",
       "      <th>diff</th>\n",
       "      <th>stat</th>\n",
       "      <th>p</th>\n",
       "      <th>adj_p</th>\n",
       "    </tr>\n",
       "  </thead>\n",
       "  <tbody>\n",
       "    <tr>\n",
       "      <th>46</th>\n",
       "      <td>Random</td>\n",
       "      <td>SVD50</td>\n",
       "      <td>-0.037084</td>\n",
       "      <td>11560.5</td>\n",
       "      <td>3.621177e-108</td>\n",
       "      <td>5.540401e-106</td>\n",
       "    </tr>\n",
       "    <tr>\n",
       "      <th>47</th>\n",
       "      <td>Random</td>\n",
       "      <td>SVD100</td>\n",
       "      <td>-0.036034</td>\n",
       "      <td>12902.5</td>\n",
       "      <td>6.589629e-106</td>\n",
       "      <td>1.008213e-103</td>\n",
       "    </tr>\n",
       "    <tr>\n",
       "      <th>45</th>\n",
       "      <td>Random</td>\n",
       "      <td>ALSDirect</td>\n",
       "      <td>-0.033425</td>\n",
       "      <td>14627.0</td>\n",
       "      <td>2.068693e-99</td>\n",
       "      <td>3.165100e-97</td>\n",
       "    </tr>\n",
       "    <tr>\n",
       "      <th>44</th>\n",
       "      <td>Random</td>\n",
       "      <td>ALS50</td>\n",
       "      <td>-0.033234</td>\n",
       "      <td>15665.0</td>\n",
       "      <td>2.254157e-98</td>\n",
       "      <td>3.448861e-96</td>\n",
       "    </tr>\n",
       "    <tr>\n",
       "      <th>43</th>\n",
       "      <td>Random</td>\n",
       "      <td>ALS10</td>\n",
       "      <td>-0.029459</td>\n",
       "      <td>19347.0</td>\n",
       "      <td>2.563551e-90</td>\n",
       "      <td>3.922233e-88</td>\n",
       "    </tr>\n",
       "    <tr>\n",
       "      <th>41</th>\n",
       "      <td>Random</td>\n",
       "      <td>ItemItem20</td>\n",
       "      <td>-0.027063</td>\n",
       "      <td>20721.5</td>\n",
       "      <td>9.014067e-83</td>\n",
       "      <td>1.379152e-80</td>\n",
       "    </tr>\n",
       "    <tr>\n",
       "      <th>42</th>\n",
       "      <td>Random</td>\n",
       "      <td>ItemItem80</td>\n",
       "      <td>-0.026172</td>\n",
       "      <td>22213.5</td>\n",
       "      <td>7.460534e-80</td>\n",
       "      <td>1.141462e-77</td>\n",
       "    </tr>\n",
       "    <tr>\n",
       "      <th>40</th>\n",
       "      <td>Random</td>\n",
       "      <td>ItemItem5</td>\n",
       "      <td>-0.023860</td>\n",
       "      <td>26228.0</td>\n",
       "      <td>1.529218e-75</td>\n",
       "      <td>2.339704e-73</td>\n",
       "    </tr>\n",
       "    <tr>\n",
       "      <th>36</th>\n",
       "      <td>Random</td>\n",
       "      <td>BiasHighDamping</td>\n",
       "      <td>-0.023436</td>\n",
       "      <td>22459.0</td>\n",
       "      <td>8.158944e-81</td>\n",
       "      <td>1.248318e-78</td>\n",
       "    </tr>\n",
       "    <tr>\n",
       "      <th>35</th>\n",
       "      <td>Random</td>\n",
       "      <td>BiasAvgDamping</td>\n",
       "      <td>-0.022906</td>\n",
       "      <td>22321.0</td>\n",
       "      <td>1.331683e-80</td>\n",
       "      <td>2.037475e-78</td>\n",
       "    </tr>\n",
       "    <tr>\n",
       "      <th>123</th>\n",
       "      <td>UserUser80</td>\n",
       "      <td>SVD50</td>\n",
       "      <td>-0.022460</td>\n",
       "      <td>4590.5</td>\n",
       "      <td>1.049921e-94</td>\n",
       "      <td>1.606379e-92</td>\n",
       "    </tr>\n",
       "    <tr>\n",
       "      <th>34</th>\n",
       "      <td>Random</td>\n",
       "      <td>BiasLowDamping</td>\n",
       "      <td>-0.022121</td>\n",
       "      <td>22309.0</td>\n",
       "      <td>2.013994e-80</td>\n",
       "      <td>3.081410e-78</td>\n",
       "    </tr>\n",
       "    <tr>\n",
       "      <th>33</th>\n",
       "      <td>Random</td>\n",
       "      <td>Bias</td>\n",
       "      <td>-0.022110</td>\n",
       "      <td>22336.5</td>\n",
       "      <td>2.224600e-80</td>\n",
       "      <td>3.403638e-78</td>\n",
       "    </tr>\n",
       "    <tr>\n",
       "      <th>124</th>\n",
       "      <td>UserUser80</td>\n",
       "      <td>SVD100</td>\n",
       "      <td>-0.021410</td>\n",
       "      <td>6321.5</td>\n",
       "      <td>2.930089e-89</td>\n",
       "      <td>4.483036e-87</td>\n",
       "    </tr>\n",
       "    <tr>\n",
       "      <th>106</th>\n",
       "      <td>UserUser5</td>\n",
       "      <td>SVD50</td>\n",
       "      <td>-0.018897</td>\n",
       "      <td>26810.0</td>\n",
       "      <td>4.012360e-70</td>\n",
       "      <td>6.138911e-68</td>\n",
       "    </tr>\n",
       "  </tbody>\n",
       "</table>\n",
       "</div>"
      ],
      "text/plain": [
       "             A1               A2      diff     stat              p  \\\n",
       "46       Random            SVD50 -0.037084  11560.5  3.621177e-108   \n",
       "47       Random           SVD100 -0.036034  12902.5  6.589629e-106   \n",
       "45       Random        ALSDirect -0.033425  14627.0   2.068693e-99   \n",
       "44       Random            ALS50 -0.033234  15665.0   2.254157e-98   \n",
       "43       Random            ALS10 -0.029459  19347.0   2.563551e-90   \n",
       "41       Random       ItemItem20 -0.027063  20721.5   9.014067e-83   \n",
       "42       Random       ItemItem80 -0.026172  22213.5   7.460534e-80   \n",
       "40       Random        ItemItem5 -0.023860  26228.0   1.529218e-75   \n",
       "36       Random  BiasHighDamping -0.023436  22459.0   8.158944e-81   \n",
       "35       Random   BiasAvgDamping -0.022906  22321.0   1.331683e-80   \n",
       "123  UserUser80            SVD50 -0.022460   4590.5   1.049921e-94   \n",
       "34       Random   BiasLowDamping -0.022121  22309.0   2.013994e-80   \n",
       "33       Random             Bias -0.022110  22336.5   2.224600e-80   \n",
       "124  UserUser80           SVD100 -0.021410   6321.5   2.930089e-89   \n",
       "106   UserUser5            SVD50 -0.018897  26810.0   4.012360e-70   \n",
       "\n",
       "             adj_p  \n",
       "46   5.540401e-106  \n",
       "47   1.008213e-103  \n",
       "45    3.165100e-97  \n",
       "44    3.448861e-96  \n",
       "43    3.922233e-88  \n",
       "41    1.379152e-80  \n",
       "42    1.141462e-77  \n",
       "40    2.339704e-73  \n",
       "36    1.248318e-78  \n",
       "35    2.037475e-78  \n",
       "123   1.606379e-92  \n",
       "34    3.081410e-78  \n",
       "33    3.403638e-78  \n",
       "124   4.483036e-87  \n",
       "106   6.138911e-68  "
      ]
     },
     "execution_count": 36,
     "metadata": {},
     "output_type": "execute_result"
    }
   ],
   "source": [
    "am_wilcox('precision').sort_values('diff', ascending=True).head(15)"
   ]
  },
  {
   "cell_type": "code",
   "execution_count": 37,
   "metadata": {},
   "outputs": [
    {
     "data": {
      "text/plain": [
       "stat      7112.339497\n",
       "pvalue       0.000000\n",
       "Name: ndcg, dtype: float64"
      ]
     },
     "execution_count": 37,
     "metadata": {},
     "output_type": "execute_result"
    }
   ],
   "source": [
    "metric_friedman('ndcg')"
   ]
  },
  {
   "cell_type": "code",
   "execution_count": 38,
   "metadata": {},
   "outputs": [
    {
     "data": {
      "text/html": [
       "<div>\n",
       "<style scoped>\n",
       "    .dataframe tbody tr th:only-of-type {\n",
       "        vertical-align: middle;\n",
       "    }\n",
       "\n",
       "    .dataframe tbody tr th {\n",
       "        vertical-align: top;\n",
       "    }\n",
       "\n",
       "    .dataframe thead th {\n",
       "        text-align: right;\n",
       "    }\n",
       "</style>\n",
       "<table border=\"1\" class=\"dataframe\">\n",
       "  <thead>\n",
       "    <tr style=\"text-align: right;\">\n",
       "      <th></th>\n",
       "      <th>A1</th>\n",
       "      <th>A2</th>\n",
       "      <th>diff</th>\n",
       "      <th>stat</th>\n",
       "      <th>p</th>\n",
       "      <th>adj_p</th>\n",
       "    </tr>\n",
       "  </thead>\n",
       "  <tbody>\n",
       "    <tr>\n",
       "      <th>1</th>\n",
       "      <td>Popular</td>\n",
       "      <td>Random</td>\n",
       "      <td>0.242317</td>\n",
       "      <td>2640.0</td>\n",
       "      <td>1.919306e-150</td>\n",
       "      <td>2.936537e-148</td>\n",
       "    </tr>\n",
       "    <tr>\n",
       "      <th>17</th>\n",
       "      <td>PopScore</td>\n",
       "      <td>Random</td>\n",
       "      <td>0.242256</td>\n",
       "      <td>2643.0</td>\n",
       "      <td>1.937719e-150</td>\n",
       "      <td>2.964710e-148</td>\n",
       "    </tr>\n",
       "    <tr>\n",
       "      <th>8</th>\n",
       "      <td>Popular</td>\n",
       "      <td>UserUser80</td>\n",
       "      <td>0.213686</td>\n",
       "      <td>2055.0</td>\n",
       "      <td>4.360881e-151</td>\n",
       "      <td>6.672147e-149</td>\n",
       "    </tr>\n",
       "    <tr>\n",
       "      <th>24</th>\n",
       "      <td>PopScore</td>\n",
       "      <td>UserUser80</td>\n",
       "      <td>0.213626</td>\n",
       "      <td>2050.0</td>\n",
       "      <td>4.291774e-151</td>\n",
       "      <td>6.566414e-149</td>\n",
       "    </tr>\n",
       "    <tr>\n",
       "      <th>7</th>\n",
       "      <td>Popular</td>\n",
       "      <td>UserUser20</td>\n",
       "      <td>0.206376</td>\n",
       "      <td>2748.0</td>\n",
       "      <td>1.841829e-150</td>\n",
       "      <td>2.817999e-148</td>\n",
       "    </tr>\n",
       "    <tr>\n",
       "      <th>23</th>\n",
       "      <td>PopScore</td>\n",
       "      <td>UserUser20</td>\n",
       "      <td>0.206316</td>\n",
       "      <td>2745.0</td>\n",
       "      <td>1.824354e-150</td>\n",
       "      <td>2.791261e-148</td>\n",
       "    </tr>\n",
       "    <tr>\n",
       "      <th>6</th>\n",
       "      <td>Popular</td>\n",
       "      <td>UserUser5</td>\n",
       "      <td>0.203274</td>\n",
       "      <td>4361.0</td>\n",
       "      <td>2.058771e-148</td>\n",
       "      <td>3.149920e-146</td>\n",
       "    </tr>\n",
       "    <tr>\n",
       "      <th>22</th>\n",
       "      <td>PopScore</td>\n",
       "      <td>UserUser5</td>\n",
       "      <td>0.203213</td>\n",
       "      <td>4348.0</td>\n",
       "      <td>1.976144e-148</td>\n",
       "      <td>3.023501e-146</td>\n",
       "    </tr>\n",
       "    <tr>\n",
       "      <th>2</th>\n",
       "      <td>Popular</td>\n",
       "      <td>Bias</td>\n",
       "      <td>0.195497</td>\n",
       "      <td>6506.0</td>\n",
       "      <td>1.714393e-145</td>\n",
       "      <td>2.623021e-143</td>\n",
       "    </tr>\n",
       "    <tr>\n",
       "      <th>18</th>\n",
       "      <td>PopScore</td>\n",
       "      <td>Bias</td>\n",
       "      <td>0.195437</td>\n",
       "      <td>6532.0</td>\n",
       "      <td>1.859218e-145</td>\n",
       "      <td>2.844604e-143</td>\n",
       "    </tr>\n",
       "    <tr>\n",
       "      <th>3</th>\n",
       "      <td>Popular</td>\n",
       "      <td>BiasLowDamping</td>\n",
       "      <td>0.195435</td>\n",
       "      <td>6525.0</td>\n",
       "      <td>1.819066e-145</td>\n",
       "      <td>2.783171e-143</td>\n",
       "    </tr>\n",
       "    <tr>\n",
       "      <th>19</th>\n",
       "      <td>PopScore</td>\n",
       "      <td>BiasLowDamping</td>\n",
       "      <td>0.195375</td>\n",
       "      <td>6550.0</td>\n",
       "      <td>1.966577e-145</td>\n",
       "      <td>3.008863e-143</td>\n",
       "    </tr>\n",
       "    <tr>\n",
       "      <th>4</th>\n",
       "      <td>Popular</td>\n",
       "      <td>BiasAvgDamping</td>\n",
       "      <td>0.193726</td>\n",
       "      <td>7032.0</td>\n",
       "      <td>8.826751e-145</td>\n",
       "      <td>1.350493e-142</td>\n",
       "    </tr>\n",
       "    <tr>\n",
       "      <th>20</th>\n",
       "      <td>PopScore</td>\n",
       "      <td>BiasAvgDamping</td>\n",
       "      <td>0.193666</td>\n",
       "      <td>7066.0</td>\n",
       "      <td>9.811671e-145</td>\n",
       "      <td>1.501186e-142</td>\n",
       "    </tr>\n",
       "    <tr>\n",
       "      <th>5</th>\n",
       "      <td>Popular</td>\n",
       "      <td>BiasHighDamping</td>\n",
       "      <td>0.192084</td>\n",
       "      <td>7435.0</td>\n",
       "      <td>3.089412e-144</td>\n",
       "      <td>4.726800e-142</td>\n",
       "    </tr>\n",
       "  </tbody>\n",
       "</table>\n",
       "</div>"
      ],
      "text/plain": [
       "          A1               A2      diff    stat              p          adj_p\n",
       "1    Popular           Random  0.242317  2640.0  1.919306e-150  2.936537e-148\n",
       "17  PopScore           Random  0.242256  2643.0  1.937719e-150  2.964710e-148\n",
       "8    Popular       UserUser80  0.213686  2055.0  4.360881e-151  6.672147e-149\n",
       "24  PopScore       UserUser80  0.213626  2050.0  4.291774e-151  6.566414e-149\n",
       "7    Popular       UserUser20  0.206376  2748.0  1.841829e-150  2.817999e-148\n",
       "23  PopScore       UserUser20  0.206316  2745.0  1.824354e-150  2.791261e-148\n",
       "6    Popular        UserUser5  0.203274  4361.0  2.058771e-148  3.149920e-146\n",
       "22  PopScore        UserUser5  0.203213  4348.0  1.976144e-148  3.023501e-146\n",
       "2    Popular             Bias  0.195497  6506.0  1.714393e-145  2.623021e-143\n",
       "18  PopScore             Bias  0.195437  6532.0  1.859218e-145  2.844604e-143\n",
       "3    Popular   BiasLowDamping  0.195435  6525.0  1.819066e-145  2.783171e-143\n",
       "19  PopScore   BiasLowDamping  0.195375  6550.0  1.966577e-145  3.008863e-143\n",
       "4    Popular   BiasAvgDamping  0.193726  7032.0  8.826751e-145  1.350493e-142\n",
       "20  PopScore   BiasAvgDamping  0.193666  7066.0  9.811671e-145  1.501186e-142\n",
       "5    Popular  BiasHighDamping  0.192084  7435.0  3.089412e-144  4.726800e-142"
      ]
     },
     "execution_count": 38,
     "metadata": {},
     "output_type": "execute_result"
    }
   ],
   "source": [
    "am_wilcox('ndcg').sort_values('diff', ascending=False).head(15)"
   ]
  },
  {
   "cell_type": "code",
   "execution_count": 39,
   "metadata": {},
   "outputs": [
    {
     "data": {
      "text/plain": [
       "<Axes: title={'center': 'NDCG'}, xlabel='Algorithm'>"
      ]
     },
     "execution_count": 39,
     "metadata": {},
     "output_type": "execute_result"
    },
    {
     "data": {
      "image/png": "[encoded data removed]",
      "text/plain": [
       "<Figure size 640x480 with 1 Axes>"
      ]
     },
     "metadata": {},
     "output_type": "display_data"
    }
   ],
   "source": [
    "results.groupby('Algorithm').ndcg.mean().plot.bar(title='NDCG')"
   ]
  },
  {
   "cell_type": "markdown",
   "metadata": {},
   "source": [
    "## User-user parameter fine-tuning"
   ]
  },
  {
   "cell_type": "code",
   "execution_count": 40,
   "metadata": {},
   "outputs": [],
   "source": [
    "algo_uu_1 = UserUser(1)\n",
    "algo_uu_5 = UserUser(5)\n",
    "algo_uu_10 = UserUser(10)\n",
    "algo_uu_15 = UserUser(15)"
   ]
  },
  {
   "cell_type": "code",
   "execution_count": 41,
   "metadata": {},
   "outputs": [],
   "source": [
    "all_recs = []\n",
    "test_data = []\n",
    "for train, test in xf.partition_users(ratings[['user', 'item', 'rating']], 5, xf.SampleFrac(0.2)):\n",
    "    test_data.append(test)\n",
    "    all_recs.append(eval('UserUser1', algo_uu_1, train, test))\n",
    "    all_recs.append(eval('UserUser5', algo_uu_5, train, test))\n",
    "    all_recs.append(eval('UserUser10', algo_uu_10, train, test))\n",
    "    all_recs.append(eval('UserUser15', algo_uu_10, train, test))"
   ]
  },
  {
   "cell_type": "code",
   "execution_count": 42,
   "metadata": {},
   "outputs": [],
   "source": [
    "test_data = pd.concat(test_data, ignore_index=True)\n",
    "all_recs = pd.concat(all_recs, ignore_index=True)"
   ]
  },
  {
   "cell_type": "code",
   "execution_count": 43,
   "metadata": {},
   "outputs": [
    {
     "data": {
      "text/plain": [
       "Algorithm\n",
       "UserUser1     0.066145\n",
       "UserUser10    0.067480\n",
       "UserUser15    0.067480\n",
       "UserUser5     0.070690\n",
       "Name: ndcg, dtype: float64"
      ]
     },
     "execution_count": 43,
     "metadata": {},
     "output_type": "execute_result"
    }
   ],
   "source": [
    "rla = topn.RecListAnalysis()\n",
    "rla.add_metric(topn.ndcg)\n",
    "results = rla.compute(all_recs, test_data)\n",
    "results.groupby('Algorithm').ndcg.mean()"
   ]
  },
  {
   "cell_type": "code",
   "execution_count": 44,
   "metadata": {},
   "outputs": [
    {
     "data": {
      "text/plain": [
       "<Axes: title={'center': 'NDCG'}, xlabel='Algorithm'>"
      ]
     },
     "execution_count": 44,
     "metadata": {},
     "output_type": "execute_result"
    },
    {
     "data": {
      "image/png": "[encoded data removed]",
      "text/plain": [
       "<Figure size 640x480 with 1 Axes>"
      ]
     },
     "metadata": {},
     "output_type": "display_data"
    }
   ],
   "source": [
    "results.groupby('Algorithm').ndcg.mean().plot.bar(title='NDCG')"
   ]
  },
  {
   "cell_type": "code",
   "execution_count": 45,
   "metadata": {},
   "outputs": [],
   "source": [
    "algo_uu_1 = UserUser(1)\n",
    "algo_uu_2 = UserUser(2)\n",
    "algo_uu_3 = UserUser(3)\n",
    "algo_uu_4 = UserUser(4)\n",
    "algo_uu_5 = UserUser(5)\n",
    "algo_uu_6 = UserUser(6)\n",
    "algo_uu_7 = UserUser(7)\n",
    "algo_uu_8 = UserUser(8)\n",
    "algo_uu_9 = UserUser(9)"
   ]
  },
  {
   "cell_type": "code",
   "execution_count": 46,
   "metadata": {},
   "outputs": [],
   "source": [
    "all_recs = []\n",
    "test_data = []\n",
    "for train, test in xf.partition_users(ratings[['user', 'item', 'rating']], 5, xf.SampleFrac(0.2)):\n",
    "    test_data.append(test)\n",
    "    all_recs.append(eval('UserUser1', algo_uu_1, train, test))\n",
    "    all_recs.append(eval('UserUser2', algo_uu_2, train, test))\n",
    "    all_recs.append(eval('UserUser3', algo_uu_3, train, test))\n",
    "    all_recs.append(eval('UserUser4', algo_uu_4, train, test))\n",
    "    all_recs.append(eval('UserUser5', algo_uu_5, train, test))\n",
    "    all_recs.append(eval('UserUser6', algo_uu_6, train, test))\n",
    "    all_recs.append(eval('UserUser7', algo_uu_7, train, test))\n",
    "    all_recs.append(eval('UserUser8', algo_uu_8, train, test))\n",
    "    all_recs.append(eval('UserUser9', algo_uu_9, train, test))"
   ]
  },
  {
   "cell_type": "code",
   "execution_count": 47,
   "metadata": {},
   "outputs": [],
   "source": [
    "test_data = pd.concat(test_data, ignore_index=True)\n",
    "all_recs = pd.concat(all_recs, ignore_index=True)"
   ]
  },
  {
   "cell_type": "code",
   "execution_count": 48,
   "metadata": {},
   "outputs": [
    {
     "data": {
      "text/plain": [
       "Algorithm\n",
       "UserUser1    0.066876\n",
       "UserUser2    0.069457\n",
       "UserUser3    0.071431\n",
       "UserUser4    0.070048\n",
       "UserUser5    0.070592\n",
       "UserUser6    0.070408\n",
       "UserUser7    0.069309\n",
       "UserUser8    0.069005\n",
       "UserUser9    0.068377\n",
       "Name: ndcg, dtype: float64"
      ]
     },
     "execution_count": 48,
     "metadata": {},
     "output_type": "execute_result"
    }
   ],
   "source": [
    "rla = topn.RecListAnalysis()\n",
    "rla.add_metric(topn.ndcg)\n",
    "results = rla.compute(all_recs, test_data)\n",
    "results.groupby('Algorithm').ndcg.mean()"
   ]
  },
  {
   "cell_type": "code",
   "execution_count": 49,
   "metadata": {},
   "outputs": [
    {
     "data": {
      "text/plain": [
       "<Axes: title={'center': 'NDCG'}, xlabel='Algorithm'>"
      ]
     },
     "execution_count": 49,
     "metadata": {},
     "output_type": "execute_result"
    },
    {
     "data": {
      "image/png": "[encoded data removed]",
      "text/plain": [
       "<Figure size 640x480 with 1 Axes>"
      ]
     },
     "metadata": {},
     "output_type": "display_data"
    }
   ],
   "source": [
    "results.groupby('Algorithm').ndcg.mean().plot.bar(title='NDCG')"
   ]
  },
  {
   "cell_type": "code",
   "execution_count": 50,
   "metadata": {},
   "outputs": [
    {
     "data": {
      "text/plain": [
       "Algorithm\n",
       "UserUser1    0.066876\n",
       "UserUser9    0.068377\n",
       "UserUser8    0.069005\n",
       "UserUser7    0.069309\n",
       "UserUser2    0.069457\n",
       "UserUser4    0.070048\n",
       "UserUser6    0.070408\n",
       "UserUser5    0.070592\n",
       "UserUser3    0.071431\n",
       "Name: ndcg, dtype: float64"
      ]
     },
     "execution_count": 50,
     "metadata": {},
     "output_type": "execute_result"
    }
   ],
   "source": [
    "results.groupby('Algorithm').ndcg.mean().sort_values()"
   ]
  }
 ],
 "metadata": {
  "colab": {
   "provenance": []
  },
  "kernelspec": {
   "display_name": "Python 3 (ipykernel)",
   "language": "python",
   "name": "python3"
  },
  "language_info": {
   "codemirror_mode": {
    "name": "ipython",
    "version": 3
   },
   "file_extension": ".py",
   "mimetype": "text/x-python",
   "name": "python",
   "nbconvert_exporter": "python",
   "pygments_lexer": "ipython3",
   "version": "3.10.10"
  }
 },
 "nbformat": 4,
 "nbformat_minor": 1
}
