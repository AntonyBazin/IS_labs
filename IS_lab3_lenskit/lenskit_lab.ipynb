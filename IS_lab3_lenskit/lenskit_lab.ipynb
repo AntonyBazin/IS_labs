{
 "cells": [
  {
   "cell_type": "markdown",
   "metadata": {
    "id": "UhZ4bM75-Wiq"
   },
   "source": [
    "# Getting Started\n",
    "\n",
    "This notebook gets you started with a brief nDCG evaluation with LensKit for Python with a simple experiment with the MovieLens 100K data set."
   ]
  },
  {
   "cell_type": "markdown",
   "metadata": {
    "id": "BKl2xgna-Wir"
   },
   "source": [
    "## Setup\n",
    "\n",
    "We first need to install LensKit:"
   ]
  },
  {
   "cell_type": "code",
   "execution_count": 1,
   "metadata": {
    "colab": {
     "base_uri": "https://localhost:8080/",
     "height": 326
    },
    "id": "yTEfW_2B-bsq",
    "outputId": "2bf9fcbb-d582-4908-f58b-49acd5284dbb"
   },
   "outputs": [
    {
     "name": "stdout",
     "output_type": "stream",
     "text": [
      "Defaulting to user installation because normal site-packages is not writeable\n",
      "Requirement already satisfied: lenskit in /home/antony/.local/lib/python3.10/site-packages (0.14.2)\n",
      "Requirement already satisfied: matplotlib in /home/antony/.local/lib/python3.10/site-packages (3.7.1)\n",
      "Requirement already satisfied: scikit-learn in /home/antony/.local/lib/python3.10/site-packages (1.2.2)\n",
      "Requirement already satisfied: scipy in /home/antony/.local/lib/python3.10/site-packages (1.10.1)\n",
      "Requirement already satisfied: binpickle>=0.3.2 in /home/antony/.local/lib/python3.10/site-packages (from lenskit) (0.3.4)\n",
      "Requirement already satisfied: numba<0.57,>=0.51 in /home/antony/.local/lib/python3.10/site-packages (from lenskit) (0.56.4)\n",
      "Requirement already satisfied: csr>=0.3.1 in /home/antony/.local/lib/python3.10/site-packages (from lenskit) (0.5.0)\n",
      "Requirement already satisfied: pandas==1.*,>=1.0 in /home/antony/.local/lib/python3.10/site-packages (from lenskit) (1.5.3)\n",
      "Requirement already satisfied: seedbank>=0.1.0 in /home/antony/.local/lib/python3.10/site-packages (from lenskit) (0.1.2)\n",
      "Requirement already satisfied: psutil>=5 in /usr/lib64/python3.10/site-packages (from lenskit) (5.9.5)\n",
      "Requirement already satisfied: numpy>=1.17 in /home/antony/.local/lib/python3.10/site-packages (from lenskit) (1.23.5)\n",
      "Requirement already satisfied: cffi>=1.12.2 in /usr/lib64/python3.10/site-packages (from lenskit) (1.15.1)\n",
      "Requirement already satisfied: python-dateutil>=2.8.1 in /home/antony/.local/lib/python3.10/site-packages (from pandas==1.*,>=1.0->lenskit) (2.8.2)\n",
      "Requirement already satisfied: pytz>=2020.1 in /home/antony/.local/lib/python3.10/site-packages (from pandas==1.*,>=1.0->lenskit) (2023.3)\n",
      "Requirement already satisfied: pyparsing>=2.3.1 in /home/antony/.local/lib/python3.10/site-packages (from matplotlib) (3.0.9)\n",
      "Requirement already satisfied: pillow>=6.2.0 in /home/antony/.local/lib/python3.10/site-packages (from matplotlib) (9.5.0)\n",
      "Requirement already satisfied: packaging>=20.0 in /home/antony/.local/lib/python3.10/site-packages (from matplotlib) (23.1)\n",
      "Requirement already satisfied: cycler>=0.10 in /home/antony/.local/lib/python3.10/site-packages (from matplotlib) (0.11.0)\n",
      "Requirement already satisfied: contourpy>=1.0.1 in /home/antony/.local/lib/python3.10/site-packages (from matplotlib) (1.0.7)\n",
      "Requirement already satisfied: kiwisolver>=1.0.1 in /home/antony/.local/lib/python3.10/site-packages (from matplotlib) (1.4.4)\n",
      "Requirement already satisfied: fonttools>=4.22.0 in /home/antony/.local/lib/python3.10/site-packages (from matplotlib) (4.39.4)\n",
      "Requirement already satisfied: threadpoolctl>=2.0.0 in /home/antony/.local/lib/python3.10/site-packages (from scikit-learn) (3.1.0)\n",
      "Requirement already satisfied: joblib>=1.1.1 in /home/antony/.local/lib/python3.10/site-packages (from scikit-learn) (1.2.0)\n",
      "Requirement already satisfied: msgpack>=1.0 in /home/antony/.local/lib/python3.10/site-packages (from binpickle>=0.3.2->lenskit) (1.0.5)\n",
      "Requirement already satisfied: pycparser in /usr/lib/python3.10/site-packages (from cffi>=1.12.2->lenskit) (2.21)\n",
      "Requirement already satisfied: setuptools in /usr/lib/python3.10/site-packages (from numba<0.57,>=0.51->lenskit) (67.6.1)\n",
      "Requirement already satisfied: llvmlite<0.40,>=0.39.0dev0 in /home/antony/.local/lib/python3.10/site-packages (from numba<0.57,>=0.51->lenskit) (0.39.1)\n",
      "Requirement already satisfied: six>=1.5 in /usr/lib/python3.10/site-packages (from python-dateutil>=2.8.1->pandas==1.*,>=1.0->lenskit) (1.16.0)\n",
      "Requirement already satisfied: anyconfig in /home/antony/.local/lib/python3.10/site-packages (from seedbank>=0.1.0->lenskit) (0.13.0)\n",
      "Note: you may need to restart the kernel to use updated packages.\n"
     ]
    }
   ],
   "source": [
    "%pip install lenskit matplotlib scikit-learn scipy"
   ]
  },
  {
   "cell_type": "markdown",
   "metadata": {
    "id": "z2HH01vU_FJH"
   },
   "source": [
    "Download the MovieLens data:"
   ]
  },
  {
   "cell_type": "code",
   "execution_count": 2,
   "metadata": {
    "colab": {
     "base_uri": "https://localhost:8080/",
     "height": 34
    },
    "id": "jfTip0HF_HYg",
    "outputId": "c8c64298-3332-43b8-b143-22ab5b1cc417"
   },
   "outputs": [
    {
     "data": {
      "text/plain": [
       "[]"
      ]
     },
     "execution_count": 2,
     "metadata": {},
     "output_type": "execute_result"
    }
   ],
   "source": [
    "%%!\n",
    "wget -q -O ml-100k.zip http://files.grouplens.org/datasets/movielens/ml-100k.zip"
   ]
  },
  {
   "cell_type": "code",
   "execution_count": 3,
   "metadata": {},
   "outputs": [
    {
     "name": "stdout",
     "output_type": "stream",
     "text": [
      "Archive:  ml-100k.zip\n",
      "replace ml-100k/allbut.pl? [y]es, [n]o, [A]ll, [N]one, [r]ename: ^C\n"
     ]
    }
   ],
   "source": [
    "#! unzip ml-100k.zip"
   ]
  },
  {
   "cell_type": "markdown",
   "metadata": {
    "id": "kKkbPx9T-_5I"
   },
   "source": [
    "Now we can import LensKit utilities:"
   ]
  },
  {
   "cell_type": "code",
   "execution_count": 4,
   "metadata": {
    "id": "YmUzsYhc-Wir"
   },
   "outputs": [],
   "source": [
    "from lenskit.datasets import ML100K\n",
    "from lenskit import batch, topn, util\n",
    "from lenskit import crossfold as xf\n",
    "from lenskit.algorithms import Recommender, als, item_knn as knn\n",
    "from lenskit import topn\n",
    "import sklearn.decomposition"
   ]
  },
  {
   "cell_type": "markdown",
   "metadata": {
    "id": "S9D7cnR1-Wit"
   },
   "source": [
    "And Pandas is very useful:"
   ]
  },
  {
   "cell_type": "code",
   "execution_count": 5,
   "metadata": {
    "id": "U_R-x2Ao-Wiu"
   },
   "outputs": [],
   "source": [
    "import pandas as pd"
   ]
  },
  {
   "cell_type": "markdown",
   "metadata": {
    "id": "jptzht4c-Wiy"
   },
   "source": [
    "## Loading Data\n",
    "\n",
    "We're going to use the ML-100K data set:"
   ]
  },
  {
   "cell_type": "code",
   "execution_count": 6,
   "metadata": {
    "colab": {
     "base_uri": "https://localhost:8080/",
     "height": 204
    },
    "id": "dV11a06p-Wiy",
    "outputId": "afc8ab9f-be5a-446d-dfc3-5e098f5edf51"
   },
   "outputs": [
    {
     "data": {
      "text/html": [
       "<div>\n",
       "<style scoped>\n",
       "    .dataframe tbody tr th:only-of-type {\n",
       "        vertical-align: middle;\n",
       "    }\n",
       "\n",
       "    .dataframe tbody tr th {\n",
       "        vertical-align: top;\n",
       "    }\n",
       "\n",
       "    .dataframe thead th {\n",
       "        text-align: right;\n",
       "    }\n",
       "</style>\n",
       "<table border=\"1\" class=\"dataframe\">\n",
       "  <thead>\n",
       "    <tr style=\"text-align: right;\">\n",
       "      <th></th>\n",
       "      <th>user</th>\n",
       "      <th>item</th>\n",
       "      <th>rating</th>\n",
       "      <th>timestamp</th>\n",
       "    </tr>\n",
       "  </thead>\n",
       "  <tbody>\n",
       "    <tr>\n",
       "      <th>0</th>\n",
       "      <td>196</td>\n",
       "      <td>242</td>\n",
       "      <td>3.0</td>\n",
       "      <td>881250949</td>\n",
       "    </tr>\n",
       "    <tr>\n",
       "      <th>1</th>\n",
       "      <td>186</td>\n",
       "      <td>302</td>\n",
       "      <td>3.0</td>\n",
       "      <td>891717742</td>\n",
       "    </tr>\n",
       "    <tr>\n",
       "      <th>2</th>\n",
       "      <td>22</td>\n",
       "      <td>377</td>\n",
       "      <td>1.0</td>\n",
       "      <td>878887116</td>\n",
       "    </tr>\n",
       "    <tr>\n",
       "      <th>3</th>\n",
       "      <td>244</td>\n",
       "      <td>51</td>\n",
       "      <td>2.0</td>\n",
       "      <td>880606923</td>\n",
       "    </tr>\n",
       "    <tr>\n",
       "      <th>4</th>\n",
       "      <td>166</td>\n",
       "      <td>346</td>\n",
       "      <td>1.0</td>\n",
       "      <td>886397596</td>\n",
       "    </tr>\n",
       "  </tbody>\n",
       "</table>\n",
       "</div>"
      ],
      "text/plain": [
       "   user  item  rating  timestamp\n",
       "0   196   242     3.0  881250949\n",
       "1   186   302     3.0  891717742\n",
       "2    22   377     1.0  878887116\n",
       "3   244    51     2.0  880606923\n",
       "4   166   346     1.0  886397596"
      ]
     },
     "execution_count": 6,
     "metadata": {},
     "output_type": "execute_result"
    }
   ],
   "source": [
    "ml100k = ML100K('ml-100k')\n",
    "ratings = ml100k.ratings\n",
    "ratings.head()"
   ]
  },
  {
   "cell_type": "code",
   "execution_count": 7,
   "metadata": {},
   "outputs": [
    {
     "data": {
      "text/html": [
       "<div>\n",
       "<style scoped>\n",
       "    .dataframe tbody tr th:only-of-type {\n",
       "        vertical-align: middle;\n",
       "    }\n",
       "\n",
       "    .dataframe tbody tr th {\n",
       "        vertical-align: top;\n",
       "    }\n",
       "\n",
       "    .dataframe thead th {\n",
       "        text-align: right;\n",
       "    }\n",
       "</style>\n",
       "<table border=\"1\" class=\"dataframe\">\n",
       "  <thead>\n",
       "    <tr style=\"text-align: right;\">\n",
       "      <th></th>\n",
       "      <th>age</th>\n",
       "      <th>gender</th>\n",
       "      <th>occupation</th>\n",
       "      <th>zip</th>\n",
       "    </tr>\n",
       "    <tr>\n",
       "      <th>user</th>\n",
       "      <th></th>\n",
       "      <th></th>\n",
       "      <th></th>\n",
       "      <th></th>\n",
       "    </tr>\n",
       "  </thead>\n",
       "  <tbody>\n",
       "    <tr>\n",
       "      <th>1</th>\n",
       "      <td>24</td>\n",
       "      <td>M</td>\n",
       "      <td>technician</td>\n",
       "      <td>85711</td>\n",
       "    </tr>\n",
       "    <tr>\n",
       "      <th>2</th>\n",
       "      <td>53</td>\n",
       "      <td>F</td>\n",
       "      <td>other</td>\n",
       "      <td>94043</td>\n",
       "    </tr>\n",
       "    <tr>\n",
       "      <th>3</th>\n",
       "      <td>23</td>\n",
       "      <td>M</td>\n",
       "      <td>writer</td>\n",
       "      <td>32067</td>\n",
       "    </tr>\n",
       "    <tr>\n",
       "      <th>4</th>\n",
       "      <td>24</td>\n",
       "      <td>M</td>\n",
       "      <td>technician</td>\n",
       "      <td>43537</td>\n",
       "    </tr>\n",
       "    <tr>\n",
       "      <th>5</th>\n",
       "      <td>33</td>\n",
       "      <td>F</td>\n",
       "      <td>other</td>\n",
       "      <td>15213</td>\n",
       "    </tr>\n",
       "  </tbody>\n",
       "</table>\n",
       "</div>"
      ],
      "text/plain": [
       "      age gender  occupation    zip\n",
       "user                               \n",
       "1      24      M  technician  85711\n",
       "2      53      F       other  94043\n",
       "3      23      M      writer  32067\n",
       "4      24      M  technician  43537\n",
       "5      33      F       other  15213"
      ]
     },
     "execution_count": 7,
     "metadata": {},
     "output_type": "execute_result"
    }
   ],
   "source": [
    "ml100k.users.head()"
   ]
  },
  {
   "cell_type": "code",
   "execution_count": 8,
   "metadata": {},
   "outputs": [
    {
     "data": {
      "text/plain": [
       "3772"
      ]
     },
     "execution_count": 8,
     "metadata": {},
     "output_type": "execute_result"
    }
   ],
   "source": [
    "ml100k.users.size"
   ]
  },
  {
   "cell_type": "code",
   "execution_count": 9,
   "metadata": {
    "scrolled": true
   },
   "outputs": [
    {
     "data": {
      "text/html": [
       "<div>\n",
       "<style scoped>\n",
       "    .dataframe tbody tr th:only-of-type {\n",
       "        vertical-align: middle;\n",
       "    }\n",
       "\n",
       "    .dataframe tbody tr th {\n",
       "        vertical-align: top;\n",
       "    }\n",
       "\n",
       "    .dataframe thead th {\n",
       "        text-align: right;\n",
       "    }\n",
       "</style>\n",
       "<table border=\"1\" class=\"dataframe\">\n",
       "  <thead>\n",
       "    <tr style=\"text-align: right;\">\n",
       "      <th></th>\n",
       "      <th>title</th>\n",
       "      <th>release</th>\n",
       "      <th>vidrelease</th>\n",
       "      <th>imdb</th>\n",
       "      <th>unknown</th>\n",
       "      <th>Action</th>\n",
       "      <th>Adventure</th>\n",
       "      <th>Animation</th>\n",
       "      <th>Children's</th>\n",
       "      <th>Comedy</th>\n",
       "      <th>...</th>\n",
       "      <th>Fantasy</th>\n",
       "      <th>Film-Noir</th>\n",
       "      <th>Horror</th>\n",
       "      <th>Musical</th>\n",
       "      <th>Mystery</th>\n",
       "      <th>Romance</th>\n",
       "      <th>Sci-Fi</th>\n",
       "      <th>Thriller</th>\n",
       "      <th>War</th>\n",
       "      <th>Western</th>\n",
       "    </tr>\n",
       "    <tr>\n",
       "      <th>item</th>\n",
       "      <th></th>\n",
       "      <th></th>\n",
       "      <th></th>\n",
       "      <th></th>\n",
       "      <th></th>\n",
       "      <th></th>\n",
       "      <th></th>\n",
       "      <th></th>\n",
       "      <th></th>\n",
       "      <th></th>\n",
       "      <th></th>\n",
       "      <th></th>\n",
       "      <th></th>\n",
       "      <th></th>\n",
       "      <th></th>\n",
       "      <th></th>\n",
       "      <th></th>\n",
       "      <th></th>\n",
       "      <th></th>\n",
       "      <th></th>\n",
       "      <th></th>\n",
       "    </tr>\n",
       "  </thead>\n",
       "  <tbody>\n",
       "    <tr>\n",
       "      <th>1</th>\n",
       "      <td>Toy Story (1995)</td>\n",
       "      <td>01-Jan-1995</td>\n",
       "      <td>NaN</td>\n",
       "      <td>http://us.imdb.com/M/title-exact?Toy%20Story%2...</td>\n",
       "      <td>0</td>\n",
       "      <td>0</td>\n",
       "      <td>0</td>\n",
       "      <td>1</td>\n",
       "      <td>1</td>\n",
       "      <td>1</td>\n",
       "      <td>...</td>\n",
       "      <td>0</td>\n",
       "      <td>0</td>\n",
       "      <td>0</td>\n",
       "      <td>0</td>\n",
       "      <td>0</td>\n",
       "      <td>0</td>\n",
       "      <td>0</td>\n",
       "      <td>0</td>\n",
       "      <td>0</td>\n",
       "      <td>0</td>\n",
       "    </tr>\n",
       "    <tr>\n",
       "      <th>2</th>\n",
       "      <td>GoldenEye (1995)</td>\n",
       "      <td>01-Jan-1995</td>\n",
       "      <td>NaN</td>\n",
       "      <td>http://us.imdb.com/M/title-exact?GoldenEye%20(...</td>\n",
       "      <td>0</td>\n",
       "      <td>1</td>\n",
       "      <td>1</td>\n",
       "      <td>0</td>\n",
       "      <td>0</td>\n",
       "      <td>0</td>\n",
       "      <td>...</td>\n",
       "      <td>0</td>\n",
       "      <td>0</td>\n",
       "      <td>0</td>\n",
       "      <td>0</td>\n",
       "      <td>0</td>\n",
       "      <td>0</td>\n",
       "      <td>0</td>\n",
       "      <td>1</td>\n",
       "      <td>0</td>\n",
       "      <td>0</td>\n",
       "    </tr>\n",
       "    <tr>\n",
       "      <th>3</th>\n",
       "      <td>Four Rooms (1995)</td>\n",
       "      <td>01-Jan-1995</td>\n",
       "      <td>NaN</td>\n",
       "      <td>http://us.imdb.com/M/title-exact?Four%20Rooms%...</td>\n",
       "      <td>0</td>\n",
       "      <td>0</td>\n",
       "      <td>0</td>\n",
       "      <td>0</td>\n",
       "      <td>0</td>\n",
       "      <td>0</td>\n",
       "      <td>...</td>\n",
       "      <td>0</td>\n",
       "      <td>0</td>\n",
       "      <td>0</td>\n",
       "      <td>0</td>\n",
       "      <td>0</td>\n",
       "      <td>0</td>\n",
       "      <td>0</td>\n",
       "      <td>1</td>\n",
       "      <td>0</td>\n",
       "      <td>0</td>\n",
       "    </tr>\n",
       "    <tr>\n",
       "      <th>4</th>\n",
       "      <td>Get Shorty (1995)</td>\n",
       "      <td>01-Jan-1995</td>\n",
       "      <td>NaN</td>\n",
       "      <td>http://us.imdb.com/M/title-exact?Get%20Shorty%...</td>\n",
       "      <td>0</td>\n",
       "      <td>1</td>\n",
       "      <td>0</td>\n",
       "      <td>0</td>\n",
       "      <td>0</td>\n",
       "      <td>1</td>\n",
       "      <td>...</td>\n",
       "      <td>0</td>\n",
       "      <td>0</td>\n",
       "      <td>0</td>\n",
       "      <td>0</td>\n",
       "      <td>0</td>\n",
       "      <td>0</td>\n",
       "      <td>0</td>\n",
       "      <td>0</td>\n",
       "      <td>0</td>\n",
       "      <td>0</td>\n",
       "    </tr>\n",
       "    <tr>\n",
       "      <th>5</th>\n",
       "      <td>Copycat (1995)</td>\n",
       "      <td>01-Jan-1995</td>\n",
       "      <td>NaN</td>\n",
       "      <td>http://us.imdb.com/M/title-exact?Copycat%20(1995)</td>\n",
       "      <td>0</td>\n",
       "      <td>0</td>\n",
       "      <td>0</td>\n",
       "      <td>0</td>\n",
       "      <td>0</td>\n",
       "      <td>0</td>\n",
       "      <td>...</td>\n",
       "      <td>0</td>\n",
       "      <td>0</td>\n",
       "      <td>0</td>\n",
       "      <td>0</td>\n",
       "      <td>0</td>\n",
       "      <td>0</td>\n",
       "      <td>0</td>\n",
       "      <td>1</td>\n",
       "      <td>0</td>\n",
       "      <td>0</td>\n",
       "    </tr>\n",
       "  </tbody>\n",
       "</table>\n",
       "<p>5 rows × 23 columns</p>\n",
       "</div>"
      ],
      "text/plain": [
       "                  title      release  vidrelease  \\\n",
       "item                                               \n",
       "1      Toy Story (1995)  01-Jan-1995         NaN   \n",
       "2      GoldenEye (1995)  01-Jan-1995         NaN   \n",
       "3     Four Rooms (1995)  01-Jan-1995         NaN   \n",
       "4     Get Shorty (1995)  01-Jan-1995         NaN   \n",
       "5        Copycat (1995)  01-Jan-1995         NaN   \n",
       "\n",
       "                                                   imdb  unknown  Action  \\\n",
       "item                                                                       \n",
       "1     http://us.imdb.com/M/title-exact?Toy%20Story%2...        0       0   \n",
       "2     http://us.imdb.com/M/title-exact?GoldenEye%20(...        0       1   \n",
       "3     http://us.imdb.com/M/title-exact?Four%20Rooms%...        0       0   \n",
       "4     http://us.imdb.com/M/title-exact?Get%20Shorty%...        0       1   \n",
       "5     http://us.imdb.com/M/title-exact?Copycat%20(1995)        0       0   \n",
       "\n",
       "      Adventure  Animation  Children's  Comedy  ...  Fantasy  Film-Noir  \\\n",
       "item                                            ...                       \n",
       "1             0          1           1       1  ...        0          0   \n",
       "2             1          0           0       0  ...        0          0   \n",
       "3             0          0           0       0  ...        0          0   \n",
       "4             0          0           0       1  ...        0          0   \n",
       "5             0          0           0       0  ...        0          0   \n",
       "\n",
       "      Horror  Musical  Mystery  Romance  Sci-Fi  Thriller  War  Western  \n",
       "item                                                                     \n",
       "1          0        0        0        0       0         0    0        0  \n",
       "2          0        0        0        0       0         1    0        0  \n",
       "3          0        0        0        0       0         1    0        0  \n",
       "4          0        0        0        0       0         0    0        0  \n",
       "5          0        0        0        0       0         1    0        0  \n",
       "\n",
       "[5 rows x 23 columns]"
      ]
     },
     "execution_count": 9,
     "metadata": {},
     "output_type": "execute_result"
    }
   ],
   "source": [
    "ml100k.movies.head() # multi-hot encoding"
   ]
  },
  {
   "cell_type": "markdown",
   "metadata": {
    "id": "TdJ5cPrQ-Wi0"
   },
   "source": [
    "## Defining Algorithms\n",
    "\n",
    "Let's set up two algorithms:"
   ]
  },
  {
   "cell_type": "code",
   "execution_count": 10,
   "metadata": {
    "id": "6fmDeiVX-Wi0"
   },
   "outputs": [],
   "source": [
    "algo_ii = knn.ItemItem(20)\n",
    "algo_als = als.BiasedMF(50)"
   ]
  },
  {
   "cell_type": "markdown",
   "metadata": {
    "id": "g0HLlMmx-Wi3"
   },
   "source": [
    "## Running the Evaluation\n",
    "\n",
    "In LensKit, our evaluation proceeds in 2 steps:\n",
    "\n",
    "1. Generate recommendations\n",
    "2. Measure them\n",
    "\n",
    "If memory is a concern, we can measure while generating, but we will not do that for now.\n",
    "\n",
    "We will first define a function to generate recommendations from one algorithm over a single partition of the data set.  It will take an algorithm, a train set, and a test set, and return the recommendations.\n",
    "\n",
    "**Note:** before fitting the algorithm, we clone it.  Some algorithms misbehave when fit multiple times.\n",
    "\n",
    "**Note 2:** our algorithms do not necessarily implement the `Recommender` interface, so we adapt them. This fills in a default candidate selector.\n",
    "\n",
    "The code function looks like this:"
   ]
  },
  {
   "cell_type": "code",
   "execution_count": 11,
   "metadata": {
    "id": "Ail8EBMw-Wi3"
   },
   "outputs": [],
   "source": [
    "def eval(aname, algo, train, test):\n",
    "    fittable = util.clone(algo)\n",
    "    fittable = Recommender.adapt(fittable)\n",
    "    fittable.fit(train)\n",
    "    users = test.user.unique()\n",
    "    # now we run the recommender\n",
    "    recs = batch.recommend(fittable, users, 100)\n",
    "    # add the algorithm name for analyzability\n",
    "    recs['Algorithm'] = aname\n",
    "    return recs"
   ]
  },
  {
   "cell_type": "markdown",
   "metadata": {
    "id": "YvXB4_ox-Wi5"
   },
   "source": [
    "Now, we will loop over the data and the algorithms, and generate recommendations:"
   ]
  },
  {
   "cell_type": "code",
   "execution_count": 12,
   "metadata": {
    "id": "SmrMUXs1-Wi5"
   },
   "outputs": [
    {
     "name": "stderr",
     "output_type": "stream",
     "text": [
      "Numba is using threading layer omp - consider TBB\n",
      "found 1 potential runtime problems - see https://boi.st/lkpy-perf\n"
     ]
    }
   ],
   "source": [
    "from lenskit import crossfold as xf\n",
    "all_recs = []\n",
    "test_data = []\n",
    "for train, test in xf.partition_users(ratings[['user', 'item', 'rating']], 5, xf.SampleFrac(0.2)):\n",
    "    test_data.append(test)\n",
    "    all_recs.append(eval('ItemItem', algo_ii, train, test))\n",
    "    all_recs.append(eval('ALS', algo_als, train, test))"
   ]
  },
  {
   "cell_type": "markdown",
   "metadata": {
    "id": "A8OKt3Nh-Wi7"
   },
   "source": [
    "With the results in place, we can concatenate them into a single data frame:"
   ]
  },
  {
   "cell_type": "code",
   "execution_count": 13,
   "metadata": {
    "colab": {
     "base_uri": "https://localhost:8080/",
     "height": 204
    },
    "id": "QN4dpGrj-Wi7",
    "outputId": "2cda1e31-3732-428b-82c7-96fc3bbb93af"
   },
   "outputs": [
    {
     "data": {
      "text/html": [
       "<div>\n",
       "<style scoped>\n",
       "    .dataframe tbody tr th:only-of-type {\n",
       "        vertical-align: middle;\n",
       "    }\n",
       "\n",
       "    .dataframe tbody tr th {\n",
       "        vertical-align: top;\n",
       "    }\n",
       "\n",
       "    .dataframe thead th {\n",
       "        text-align: right;\n",
       "    }\n",
       "</style>\n",
       "<table border=\"1\" class=\"dataframe\">\n",
       "  <thead>\n",
       "    <tr style=\"text-align: right;\">\n",
       "      <th></th>\n",
       "      <th>item</th>\n",
       "      <th>score</th>\n",
       "      <th>user</th>\n",
       "      <th>rank</th>\n",
       "      <th>Algorithm</th>\n",
       "    </tr>\n",
       "  </thead>\n",
       "  <tbody>\n",
       "    <tr>\n",
       "      <th>0</th>\n",
       "      <td>1203</td>\n",
       "      <td>4.308836</td>\n",
       "      <td>3</td>\n",
       "      <td>1</td>\n",
       "      <td>ItemItem</td>\n",
       "    </tr>\n",
       "    <tr>\n",
       "      <th>1</th>\n",
       "      <td>1124</td>\n",
       "      <td>4.296551</td>\n",
       "      <td>3</td>\n",
       "      <td>2</td>\n",
       "      <td>ItemItem</td>\n",
       "    </tr>\n",
       "    <tr>\n",
       "      <th>2</th>\n",
       "      <td>1631</td>\n",
       "      <td>4.275189</td>\n",
       "      <td>3</td>\n",
       "      <td>3</td>\n",
       "      <td>ItemItem</td>\n",
       "    </tr>\n",
       "    <tr>\n",
       "      <th>3</th>\n",
       "      <td>488</td>\n",
       "      <td>4.272580</td>\n",
       "      <td>3</td>\n",
       "      <td>4</td>\n",
       "      <td>ItemItem</td>\n",
       "    </tr>\n",
       "    <tr>\n",
       "      <th>4</th>\n",
       "      <td>1449</td>\n",
       "      <td>4.260048</td>\n",
       "      <td>3</td>\n",
       "      <td>5</td>\n",
       "      <td>ItemItem</td>\n",
       "    </tr>\n",
       "  </tbody>\n",
       "</table>\n",
       "</div>"
      ],
      "text/plain": [
       "   item     score  user  rank Algorithm\n",
       "0  1203  4.308836     3     1  ItemItem\n",
       "1  1124  4.296551     3     2  ItemItem\n",
       "2  1631  4.275189     3     3  ItemItem\n",
       "3   488  4.272580     3     4  ItemItem\n",
       "4  1449  4.260048     3     5  ItemItem"
      ]
     },
     "execution_count": 13,
     "metadata": {},
     "output_type": "execute_result"
    }
   ],
   "source": [
    "all_recs = pd.concat(all_recs, ignore_index=True)\n",
    "all_recs.head()"
   ]
  },
  {
   "cell_type": "markdown",
   "metadata": {
    "id": "gYi83B1C-Wi9"
   },
   "source": [
    "To compute our analysis, we also need to concatenate the test data into a single frame:"
   ]
  },
  {
   "cell_type": "code",
   "execution_count": 14,
   "metadata": {
    "id": "3iC3fXml-Wi9"
   },
   "outputs": [],
   "source": [
    "test_data = pd.concat(test_data, ignore_index=True)"
   ]
  },
  {
   "cell_type": "code",
   "execution_count": 15,
   "metadata": {},
   "outputs": [
    {
     "data": {
      "text/plain": [
       "60000"
      ]
     },
     "execution_count": 15,
     "metadata": {},
     "output_type": "execute_result"
    }
   ],
   "source": [
    "test_data.size"
   ]
  },
  {
   "cell_type": "markdown",
   "metadata": {
    "id": "RNLl1uAo-Wi_"
   },
   "source": [
    "We analyze our recommendation lists with a `RecListAnalysis`.  It takes care of the hard work of making sure that the truth data (our test data) and the recoommendations line up properly.\n",
    "\n",
    "We do assume here that each user only appears once per algorithm. Since our crossfold method partitions users, this is fine."
   ]
  },
  {
   "cell_type": "code",
   "execution_count": 16,
   "metadata": {
    "colab": {
     "base_uri": "https://localhost:8080/",
     "height": 235
    },
    "id": "BEcRuEoF-Wi_",
    "outputId": "d65d1226-9216-4c0e-c0ac-06671bb7c7d8"
   },
   "outputs": [
    {
     "data": {
      "text/html": [
       "<div>\n",
       "<style scoped>\n",
       "    .dataframe tbody tr th:only-of-type {\n",
       "        vertical-align: middle;\n",
       "    }\n",
       "\n",
       "    .dataframe tbody tr th {\n",
       "        vertical-align: top;\n",
       "    }\n",
       "\n",
       "    .dataframe thead th {\n",
       "        text-align: right;\n",
       "    }\n",
       "</style>\n",
       "<table border=\"1\" class=\"dataframe\">\n",
       "  <thead>\n",
       "    <tr style=\"text-align: right;\">\n",
       "      <th></th>\n",
       "      <th></th>\n",
       "      <th>nrecs</th>\n",
       "      <th>ndcg</th>\n",
       "    </tr>\n",
       "    <tr>\n",
       "      <th>Algorithm</th>\n",
       "      <th>user</th>\n",
       "      <th></th>\n",
       "      <th></th>\n",
       "    </tr>\n",
       "  </thead>\n",
       "  <tbody>\n",
       "    <tr>\n",
       "      <th rowspan=\"5\" valign=\"top\">ItemItem</th>\n",
       "      <th>3</th>\n",
       "      <td>100</td>\n",
       "      <td>0.000000</td>\n",
       "    </tr>\n",
       "    <tr>\n",
       "      <th>9</th>\n",
       "      <td>100</td>\n",
       "      <td>0.066561</td>\n",
       "    </tr>\n",
       "    <tr>\n",
       "      <th>11</th>\n",
       "      <td>100</td>\n",
       "      <td>0.068151</td>\n",
       "    </tr>\n",
       "    <tr>\n",
       "      <th>18</th>\n",
       "      <td>100</td>\n",
       "      <td>0.209957</td>\n",
       "    </tr>\n",
       "    <tr>\n",
       "      <th>37</th>\n",
       "      <td>100</td>\n",
       "      <td>0.037551</td>\n",
       "    </tr>\n",
       "  </tbody>\n",
       "</table>\n",
       "</div>"
      ],
      "text/plain": [
       "                nrecs      ndcg\n",
       "Algorithm user                 \n",
       "ItemItem  3       100  0.000000\n",
       "          9       100  0.066561\n",
       "          11      100  0.068151\n",
       "          18      100  0.209957\n",
       "          37      100  0.037551"
      ]
     },
     "execution_count": 16,
     "metadata": {},
     "output_type": "execute_result"
    }
   ],
   "source": [
    "rla = topn.RecListAnalysis()\n",
    "rla.add_metric(topn.ndcg)\n",
    "results = rla.compute(all_recs, test_data)\n",
    "results.head()"
   ]
  },
  {
   "cell_type": "code",
   "execution_count": 17,
   "metadata": {},
   "outputs": [
    {
     "data": {
      "text/plain": [
       "3772"
      ]
     },
     "execution_count": 17,
     "metadata": {},
     "output_type": "execute_result"
    }
   ],
   "source": [
    "results.size"
   ]
  },
  {
   "cell_type": "markdown",
   "metadata": {
    "id": "BlzeAxvo-WjC"
   },
   "source": [
    "Now we have nDCG values!"
   ]
  },
  {
   "cell_type": "markdown",
   "metadata": {},
   "source": [
    "Normalized discounted cumulative gain is a measure of ranking quality. The value of NDCG is determined by comparing the relevance of the items returned by the search engine to the relevance of the item that a hypothetical “ideal” search engine would return.\n",
    "Two assumptions are made in using DCG and its related measures.\n",
    "\n",
    "   1. Highly relevant documents are more useful when appearing earlier in a search engine result list (have higher ranks)\n",
    "   2. Highly relevant documents are more useful than marginally relevant documents, which are in turn more useful than non-relevant documents."
   ]
  },
  {
   "cell_type": "code",
   "execution_count": 18,
   "metadata": {
    "colab": {
     "base_uri": "https://localhost:8080/",
     "height": 85
    },
    "id": "o5NFmun7-WjC",
    "outputId": "8bf270b9-cfbb-4668-a0bf-93397d8d1f6f"
   },
   "outputs": [
    {
     "data": {
      "text/plain": [
       "Algorithm\n",
       "ALS         0.138222\n",
       "ItemItem    0.102816\n",
       "Name: ndcg, dtype: float64"
      ]
     },
     "execution_count": 18,
     "metadata": {},
     "output_type": "execute_result"
    }
   ],
   "source": [
    "results.groupby('Algorithm').ndcg.mean()"
   ]
  },
  {
   "cell_type": "markdown",
   "metadata": {
    "id": "meHcN4S3_wcA"
   },
   "source": [
    "Adn we can plot them:"
   ]
  },
  {
   "cell_type": "code",
   "execution_count": 19,
   "metadata": {
    "colab": {
     "base_uri": "https://localhost:8080/",
     "height": 331
    },
    "id": "7ZlYiIvh-WjE",
    "outputId": "8133ad79-b88a-4907-889c-3c88d7c5f9ba"
   },
   "outputs": [
    {
     "data": {
      "text/plain": [
       "<Axes: xlabel='Algorithm'>"
      ]
     },
     "execution_count": 19,
     "metadata": {},
     "output_type": "execute_result"
    },
    {
     "data": {
      "image/png": "[encoded data removed]",
      "text/plain": [
       "<Figure size 640x480 with 1 Axes>"
      ]
     },
     "metadata": {},
     "output_type": "display_data"
    }
   ],
   "source": [
    "results.groupby('Algorithm').ndcg.mean().plot.bar()"
   ]
  },
  {
   "cell_type": "markdown",
   "metadata": {
    "id": "_a5zFyej-WjH"
   },
   "source": [
    "## Algorithms comparison"
   ]
  },
  {
   "cell_type": "code",
   "execution_count": 20,
   "metadata": {},
   "outputs": [],
   "source": [
    "# basic: \n",
    "from lenskit.algorithms.basic import PopScore, Popular, Random  # Recommend the most popular items. (or random)\n",
    "# Popscore is a newer version of popular\n",
    "from lenskit.algorithms.bias import Bias              # A user-item bias rating prediction algorithm.\n",
    "from lenskit.algorithms.basic import Fallback         # The Fallback algorithm predicts with its first component,\n",
    "                                                      # uses the second to fill in missing values, and so forth.\n",
    "\n",
    "# KNN\n",
    "from lenskit.algorithms.item_knn import ItemItem   # User-user nearest-neighbor collaborative filtering with ratings\n",
    "from lenskit.algorithms.user_knn import UserUser   # Item-item nearest-neighbor collaborative filtering with ratings\n",
    "\n",
    "# Matrix Factorization\n",
    "from lenskit.algorithms.als import BiasedMF     # Biased matrix factorization trained with alternating least squares\n",
    "from lenskit.algorithms.svd import BiasedSVD    # This code implements a traditional SVD using scikit-learn"
   ]
  },
  {
   "cell_type": "code",
   "execution_count": 21,
   "metadata": {},
   "outputs": [],
   "source": [
    "# Recommend the most popular items.\n",
    "algo_popular = Popular()\n",
    "algo_popscore = PopScore()\n",
    "\n",
    "# obvious\n",
    "algo_random = Random()\n",
    "\n",
    "\n",
    "# A user-item bias rating prediction algorithm. \n",
    "# The damping values can be interpreted as the number of default (mean) ratings to assume \n",
    "# a priori for each user or item, damping low-information users and items towards a mean \n",
    "# instead of permitting them to take on extreme values based on few ratings.\n",
    "\n",
    "algo_bias = Bias() # damping = 0.0\n",
    "algo_bias_low_damping = Bias(damping=0.01)\n",
    "algo_bias_avg_damping = Bias(damping=0.2)\n",
    "algo_bias_high_damping = Bias(damping=0.5)\n",
    "\n",
    "\n",
    "# User-user nearest-neighbor collaborative filtering with ratings. \n",
    "# This user-user implementation is not terribly configurable; \n",
    "# it hard-codes design decisions found to work well in the previous Java-based LensKit code.\n",
    "\n",
    "# Parameter: the maximum number of neighbors for scoring each item\n",
    "algo_uu_5 = UserUser(5)\n",
    "algo_uu_20 = UserUser(20)\n",
    "algo_uu_80 = UserUser(80)\n",
    "\n",
    "\n",
    "# Item-item nearest-neighbor collaborative filtering with ratings.\n",
    "# This item-item implementation is not terribly configurable;\n",
    "# it hard-codes design decisions found to work well in the previous Java-based LensKit code [ELKR11].\n",
    "# This implementation is based on the description of item-based CF by Deshpande and Karypis [DK04],\n",
    "# and produces results equivalent to Java LensKit.\n",
    "\n",
    "# Prameter: --^\n",
    "algo_ii_5 = ItemItem(5)\n",
    "algo_ii_20 = ItemItem(20)\n",
    "algo_ii_80 = ItemItem(80)\n",
    "\n",
    "\n",
    "# This is a prediction-oriented algorithm suitable for explicit feedback data, \n",
    "# using the alternating least squares approach to compute and to minimize the\n",
    "# regularized squared reconstruction error of the ratings matrix.\n",
    "\n",
    "# Coordinate descent, adapted for a separately-trained bias model and to use weighted regularization\n",
    "# as in the original ALS paper\n",
    "algo_als_coord_desc10 = BiasedMF(10)\n",
    "algo_als_coord_desc50 = BiasedMF(50)\n",
    "# A direct implementation of the original ALS using LU-decomposition to solve for the optimized matrices.\n",
    "algo_als_direct = BiasedMF(50, method='lu')\n",
    "\n",
    "\n",
    "# Biased matrix factorization for implicit feedback using SciKit-Learn’s SVD solver.\n",
    "# It operates by first computing the bias, then computing the SVD of the bias residuals.\n",
    "algo_svd50 = BiasedSVD(50)\n",
    "algo_svd100 = BiasedSVD(100)"
   ]
  },
  {
   "cell_type": "code",
   "execution_count": 22,
   "metadata": {},
   "outputs": [],
   "source": [
    "all_recs = []\n",
    "test_data = []\n",
    "for train, test in xf.partition_users(ratings[['user', 'item', 'rating']], 5, xf.SampleFrac(0.2)):\n",
    "    test_data.append(test)\n",
    "    all_recs.append(eval('Popular', algo_popular, train, test))\n",
    "    all_recs.append(eval('PopScore', algo_popscore, train, test))\n",
    "    all_recs.append(eval('Random', algo_random, train, test))\n",
    "    all_recs.append(eval('Bias', algo_bias, train, test))\n",
    "    all_recs.append(eval('BiasLowDamping', algo_bias_low_damping, train, test))\n",
    "    all_recs.append(eval('BiasAvgDamping', algo_bias_avg_damping, train, test))\n",
    "    all_recs.append(eval('BiasHighDamping', algo_bias_high_damping, train, test))\n",
    "    all_recs.append(eval('UserUser5', algo_uu_5, train, test))\n",
    "    all_recs.append(eval('UserUser20', algo_uu_20, train, test))\n",
    "    all_recs.append(eval('UserUser80', algo_uu_80, train, test))\n",
    "    all_recs.append(eval('ItemItem5', algo_ii_5, train, test))\n",
    "    all_recs.append(eval('ItemItem20', algo_ii_20, train, test))\n",
    "    all_recs.append(eval('ItemItem80', algo_ii_80, train, test))\n",
    "    all_recs.append(eval('ALS10', algo_als_coord_desc10, train, test))\n",
    "    all_recs.append(eval('ALS50', algo_als_coord_desc50, train, test))\n",
    "    all_recs.append(eval('ALSDirect', algo_als_direct, train, test))\n",
    "    all_recs.append(eval('SVD50', algo_svd50, train, test))\n",
    "    all_recs.append(eval('SVD100', algo_svd100, train, test))"
   ]
  },
  {
   "cell_type": "code",
   "execution_count": 27,
   "metadata": {},
   "outputs": [],
   "source": [
    "test_data = pd.concat(test_data, ignore_index=True)\n",
    "all_recs = pd.concat(all_recs, ignore_index=True)"
   ]
  },
  {
   "cell_type": "code",
   "execution_count": 28,
   "metadata": {},
   "outputs": [
    {
     "data": {
      "text/plain": [
       "Algorithm\n",
       "ALS10              0.115529\n",
       "ALS50              0.133014\n",
       "ALSDirect          0.134891\n",
       "Bias               0.074368\n",
       "BiasAvgDamping     0.076634\n",
       "BiasHighDamping    0.078676\n",
       "BiasLowDamping     0.074410\n",
       "ItemItem20         0.101167\n",
       "ItemItem5          0.099711\n",
       "ItemItem80         0.094475\n",
       "PopScore           0.274417\n",
       "Popular            0.274334\n",
       "Random             0.029486\n",
       "SVD100             0.149341\n",
       "SVD50              0.155050\n",
       "UserUser20         0.064810\n",
       "UserUser5          0.070564\n",
       "UserUser80         0.058167\n",
       "Name: ndcg, dtype: float64"
      ]
     },
     "execution_count": 28,
     "metadata": {},
     "output_type": "execute_result"
    }
   ],
   "source": [
    "rla = topn.RecListAnalysis()\n",
    "rla.add_metric(topn.ndcg)\n",
    "rla.add_metric(topn.precision)\n",
    "rla.add_metric(topn.recall)\n",
    "results = rla.compute(all_recs, test_data)\n",
    "results.groupby('Algorithm').ndcg.mean()"
   ]
  },
  {
   "cell_type": "code",
   "execution_count": 29,
   "metadata": {},
   "outputs": [
    {
     "data": {
      "text/html": [
       "<div>\n",
       "<style scoped>\n",
       "    .dataframe tbody tr th:only-of-type {\n",
       "        vertical-align: middle;\n",
       "    }\n",
       "\n",
       "    .dataframe tbody tr th {\n",
       "        vertical-align: top;\n",
       "    }\n",
       "\n",
       "    .dataframe thead th {\n",
       "        text-align: right;\n",
       "    }\n",
       "</style>\n",
       "<table border=\"1\" class=\"dataframe\">\n",
       "  <thead>\n",
       "    <tr style=\"text-align: right;\">\n",
       "      <th></th>\n",
       "      <th></th>\n",
       "      <th>nrecs</th>\n",
       "      <th>ndcg</th>\n",
       "      <th>precision</th>\n",
       "      <th>recall</th>\n",
       "    </tr>\n",
       "    <tr>\n",
       "      <th>Algorithm</th>\n",
       "      <th>user</th>\n",
       "      <th></th>\n",
       "      <th></th>\n",
       "      <th></th>\n",
       "      <th></th>\n",
       "    </tr>\n",
       "  </thead>\n",
       "  <tbody>\n",
       "    <tr>\n",
       "      <th>Popular</th>\n",
       "      <th>265</th>\n",
       "      <td>100</td>\n",
       "      <td>0.765113</td>\n",
       "      <td>0.08</td>\n",
       "      <td>0.888889</td>\n",
       "    </tr>\n",
       "    <tr>\n",
       "      <th rowspan=\"2\" valign=\"top\">PopScore</th>\n",
       "      <th>265</th>\n",
       "      <td>100</td>\n",
       "      <td>0.764835</td>\n",
       "      <td>0.08</td>\n",
       "      <td>0.888889</td>\n",
       "    </tr>\n",
       "    <tr>\n",
       "      <th>895</th>\n",
       "      <td>100</td>\n",
       "      <td>0.750877</td>\n",
       "      <td>0.03</td>\n",
       "      <td>0.750000</td>\n",
       "    </tr>\n",
       "    <tr>\n",
       "      <th>Popular</th>\n",
       "      <th>895</th>\n",
       "      <td>100</td>\n",
       "      <td>0.750877</td>\n",
       "      <td>0.03</td>\n",
       "      <td>0.750000</td>\n",
       "    </tr>\n",
       "    <tr>\n",
       "      <th>SVD100</th>\n",
       "      <th>163</th>\n",
       "      <td>100</td>\n",
       "      <td>0.685449</td>\n",
       "      <td>0.03</td>\n",
       "      <td>0.600000</td>\n",
       "    </tr>\n",
       "  </tbody>\n",
       "</table>\n",
       "</div>"
      ],
      "text/plain": [
       "                nrecs      ndcg  precision    recall\n",
       "Algorithm user                                      \n",
       "Popular   265     100  0.765113       0.08  0.888889\n",
       "PopScore  265     100  0.764835       0.08  0.888889\n",
       "          895     100  0.750877       0.03  0.750000\n",
       "Popular   895     100  0.750877       0.03  0.750000\n",
       "SVD100    163     100  0.685449       0.03  0.600000"
      ]
     },
     "execution_count": 29,
     "metadata": {},
     "output_type": "execute_result"
    }
   ],
   "source": [
    "results.sort_values('ndcg', ascending=False).head()"
   ]
  },
  {
   "cell_type": "code",
   "execution_count": 30,
   "metadata": {},
   "outputs": [
    {
     "data": {
      "text/html": [
       "<div>\n",
       "<style scoped>\n",
       "    .dataframe tbody tr th:only-of-type {\n",
       "        vertical-align: middle;\n",
       "    }\n",
       "\n",
       "    .dataframe tbody tr th {\n",
       "        vertical-align: top;\n",
       "    }\n",
       "\n",
       "    .dataframe thead th {\n",
       "        text-align: right;\n",
       "    }\n",
       "</style>\n",
       "<table border=\"1\" class=\"dataframe\">\n",
       "  <thead>\n",
       "    <tr style=\"text-align: right;\">\n",
       "      <th></th>\n",
       "      <th></th>\n",
       "      <th>nrecs</th>\n",
       "      <th>ndcg</th>\n",
       "      <th>precision</th>\n",
       "      <th>recall</th>\n",
       "    </tr>\n",
       "    <tr>\n",
       "      <th>Algorithm</th>\n",
       "      <th>user</th>\n",
       "      <th></th>\n",
       "      <th></th>\n",
       "      <th></th>\n",
       "      <th></th>\n",
       "    </tr>\n",
       "  </thead>\n",
       "  <tbody>\n",
       "    <tr>\n",
       "      <th>PopScore</th>\n",
       "      <th>13</th>\n",
       "      <td>100</td>\n",
       "      <td>0.505055</td>\n",
       "      <td>0.54</td>\n",
       "      <td>0.425197</td>\n",
       "    </tr>\n",
       "    <tr>\n",
       "      <th>Popular</th>\n",
       "      <th>13</th>\n",
       "      <td>100</td>\n",
       "      <td>0.505306</td>\n",
       "      <td>0.54</td>\n",
       "      <td>0.425197</td>\n",
       "    </tr>\n",
       "    <tr>\n",
       "      <th>PopScore</th>\n",
       "      <th>276</th>\n",
       "      <td>100</td>\n",
       "      <td>0.601694</td>\n",
       "      <td>0.48</td>\n",
       "      <td>0.461538</td>\n",
       "    </tr>\n",
       "    <tr>\n",
       "      <th rowspan=\"2\" valign=\"top\">Popular</th>\n",
       "      <th>276</th>\n",
       "      <td>100</td>\n",
       "      <td>0.594479</td>\n",
       "      <td>0.47</td>\n",
       "      <td>0.451923</td>\n",
       "    </tr>\n",
       "    <tr>\n",
       "      <th>450</th>\n",
       "      <td>100</td>\n",
       "      <td>0.493176</td>\n",
       "      <td>0.45</td>\n",
       "      <td>0.416667</td>\n",
       "    </tr>\n",
       "  </tbody>\n",
       "</table>\n",
       "</div>"
      ],
      "text/plain": [
       "                nrecs      ndcg  precision    recall\n",
       "Algorithm user                                      \n",
       "PopScore  13      100  0.505055       0.54  0.425197\n",
       "Popular   13      100  0.505306       0.54  0.425197\n",
       "PopScore  276     100  0.601694       0.48  0.461538\n",
       "Popular   276     100  0.594479       0.47  0.451923\n",
       "          450     100  0.493176       0.45  0.416667"
      ]
     },
     "execution_count": 30,
     "metadata": {},
     "output_type": "execute_result"
    }
   ],
   "source": [
    "results.sort_values('precision', ascending=False).head()"
   ]
  },
  {
   "cell_type": "markdown",
   "metadata": {},
   "source": [
    "## Time for some graphics"
   ]
  },
  {
   "cell_type": "code",
   "execution_count": 31,
   "metadata": {},
   "outputs": [
    {
     "data": {
      "text/plain": [
       "<Axes: title={'center': 'NDCG'}, xlabel='Algorithm'>"
      ]
     },
     "execution_count": 31,
     "metadata": {},
     "output_type": "execute_result"
    },
    {
     "data": {
      "image/png": "[encoded data removed]",
      "text/plain": [
       "<Figure size 640x480 with 1 Axes>"
      ]
     },
     "metadata": {},
     "output_type": "display_data"
    }
   ],
   "source": [
    "results.groupby('Algorithm').ndcg.mean().plot.bar(title='NDCG')"
   ]
  },
  {
   "cell_type": "code",
   "execution_count": 32,
   "metadata": {},
   "outputs": [
    {
     "data": {
      "text/plain": [
       "<Axes: title={'center': 'Precision'}, xlabel='Algorithm'>"
      ]
     },
     "execution_count": 32,
     "metadata": {},
     "output_type": "execute_result"
    },
    {
     "data": {
      "image/png": "[encoded data removed]",
      "text/plain": [
       "<Figure size 640x480 with 1 Axes>"
      ]
     },
     "metadata": {},
     "output_type": "display_data"
    }
   ],
   "source": [
    "results.groupby('Algorithm').precision.mean().plot.bar(title='Precision')"
   ]
  },
  {
   "cell_type": "code",
   "execution_count": 33,
   "metadata": {},
   "outputs": [
    {
     "data": {
      "text/plain": [
       "<Axes: title={'center': 'Recall'}, xlabel='Algorithm'>"
      ]
     },
     "execution_count": 33,
     "metadata": {},
     "output_type": "execute_result"
    },
    {
     "data": {
      "image/png": "[encoded data removed]",
      "text/plain": [
       "<Figure size 640x480 with 1 Axes>"
      ]
     },
     "metadata": {},
     "output_type": "display_data"
    }
   ],
   "source": [
    "results.groupby('Algorithm').recall.mean().plot.bar(title='Recall')"
   ]
  },
  {
   "cell_type": "markdown",
   "metadata": {},
   "source": [
    "## Time for some statistics"
   ]
  },
  {
   "cell_type": "code",
   "execution_count": 34,
   "metadata": {},
   "outputs": [],
   "source": [
    "from scipy.stats import friedmanchisquare, wilcoxon\n",
    "from itertools import combinations"
   ]
  },
  {
   "cell_type": "code",
   "execution_count": 37,
   "metadata": {},
   "outputs": [
    {
     "data": {
      "text/plain": [
       "['Popular', 'PopScore', 'Random', 'Bias', 'BiasLowDamping', ..., 'ALS10', 'ALS50', 'ALSDirect', 'SVD50', 'SVD100']\n",
       "Length: 18\n",
       "Categories (18, object): ['ALS10', 'ALS50', 'ALSDirect', 'Bias', ..., 'SVD50', 'UserUser20', 'UserUser5', 'UserUser80']"
      ]
     },
     "execution_count": 37,
     "metadata": {},
     "output_type": "execute_result"
    }
   ],
   "source": [
    "recs = all_recs.astype({'Algorithm': 'category'})\n",
    "rec_algos = recs['Algorithm'].unique()\n",
    "rec_algos"
   ]
  },
  {
   "cell_type": "markdown",
   "metadata": {},
   "source": [
    "We will now examine these metrics in more detail and test for statistical significance. Best practice for statistical testing for recommender systems is still a work in progress, but this method avoids most of the validity problems we know about.\n",
    "\n",
    "The Friedman Chi-squared test will test the null hypothesis that there is no difference between algorithms in terms of their performance."
   ]
  },
  {
   "cell_type": "code",
   "execution_count": 38,
   "metadata": {},
   "outputs": [],
   "source": [
    "def metric_friedman(metric):\n",
    "    groups = [df[metric] for a, df in results.groupby('Algorithm')]\n",
    "\n",
    "    stat, p = friedmanchisquare(*groups)\n",
    "    return pd.Series({'stat': stat, 'pvalue': p}, name=metric)"
   ]
  },
  {
   "cell_type": "markdown",
   "metadata": {},
   "source": [
    "If the test detects significance, we have at least one pair of different algorithms - but which pairs? Unfortunately, the good tests aren't readily available in scipy and friends, so we're going to take a conservative approch and perform pairwise Wilconxon signed-rank tests with a Bonferroni adjustment."
   ]
  },
  {
   "cell_type": "code",
   "execution_count": 39,
   "metadata": {},
   "outputs": [],
   "source": [
    "pairs = pd.DataFrame.from_records(combinations(rec_algos, 2), columns=['A1', 'A2'])\n",
    "def am_wilcox(metric, p_scale = len(pairs)):\n",
    "    def compute(df):\n",
    "        vs1 = results.loc[df['A1'], metric]\n",
    "        vs2 = results.loc[df['A2'], metric]\n",
    "        diff = (vs1 - vs2).mean()\n",
    "        stat, p = wilcoxon(vs1, vs2)\n",
    "        return pd.Series({'diff': diff, 'stat': stat, 'p': p, 'adj_p': p * p_scale})\n",
    "    scores = pairs.apply(compute, axis=1)\n",
    "    return pairs.join(scores)"
   ]
  },
  {
   "cell_type": "code",
   "execution_count": 40,
   "metadata": {},
   "outputs": [
    {
     "data": {
      "text/plain": [
       "stat      6078.73057\n",
       "pvalue       0.00000\n",
       "Name: precision, dtype: float64"
      ]
     },
     "execution_count": 40,
     "metadata": {},
     "output_type": "execute_result"
    }
   ],
   "source": [
    "metric_friedman('precision')"
   ]
  },
  {
   "cell_type": "code",
   "execution_count": 48,
   "metadata": {},
   "outputs": [
    {
     "name": "stderr",
     "output_type": "stream",
     "text": [
      "/home/antony/.local/lib/python3.10/site-packages/scipy/stats/_morestats.py:3428: UserWarning: Sample size too small for normal approximation.\n",
      "  warnings.warn(\"Sample size too small for normal approximation.\")\n"
     ]
    },
    {
     "data": {
      "text/html": [
       "<div>\n",
       "<style scoped>\n",
       "    .dataframe tbody tr th:only-of-type {\n",
       "        vertical-align: middle;\n",
       "    }\n",
       "\n",
       "    .dataframe tbody tr th {\n",
       "        vertical-align: top;\n",
       "    }\n",
       "\n",
       "    .dataframe thead th {\n",
       "        text-align: right;\n",
       "    }\n",
       "</style>\n",
       "<table border=\"1\" class=\"dataframe\">\n",
       "  <thead>\n",
       "    <tr style=\"text-align: right;\">\n",
       "      <th></th>\n",
       "      <th>A1</th>\n",
       "      <th>A2</th>\n",
       "      <th>diff</th>\n",
       "      <th>stat</th>\n",
       "      <th>p</th>\n",
       "      <th>adj_p</th>\n",
       "    </tr>\n",
       "  </thead>\n",
       "  <tbody>\n",
       "    <tr>\n",
       "      <th>17</th>\n",
       "      <td>PopScore</td>\n",
       "      <td>Random</td>\n",
       "      <td>0.072969</td>\n",
       "      <td>202.0</td>\n",
       "      <td>2.817465e-147</td>\n",
       "      <td>4.310722e-145</td>\n",
       "    </tr>\n",
       "    <tr>\n",
       "      <th>1</th>\n",
       "      <td>Popular</td>\n",
       "      <td>Random</td>\n",
       "      <td>0.072927</td>\n",
       "      <td>204.0</td>\n",
       "      <td>4.145358e-147</td>\n",
       "      <td>6.342398e-145</td>\n",
       "    </tr>\n",
       "    <tr>\n",
       "      <th>24</th>\n",
       "      <td>PopScore</td>\n",
       "      <td>UserUser80</td>\n",
       "      <td>0.058399</td>\n",
       "      <td>2206.0</td>\n",
       "      <td>1.673634e-141</td>\n",
       "      <td>2.560660e-139</td>\n",
       "    </tr>\n",
       "    <tr>\n",
       "      <th>8</th>\n",
       "      <td>Popular</td>\n",
       "      <td>UserUser80</td>\n",
       "      <td>0.058356</td>\n",
       "      <td>2299.0</td>\n",
       "      <td>1.555492e-141</td>\n",
       "      <td>2.379903e-139</td>\n",
       "    </tr>\n",
       "    <tr>\n",
       "      <th>23</th>\n",
       "      <td>PopScore</td>\n",
       "      <td>UserUser20</td>\n",
       "      <td>0.055387</td>\n",
       "      <td>3199.5</td>\n",
       "      <td>4.831352e-140</td>\n",
       "      <td>7.391968e-138</td>\n",
       "    </tr>\n",
       "    <tr>\n",
       "      <th>7</th>\n",
       "      <td>Popular</td>\n",
       "      <td>UserUser20</td>\n",
       "      <td>0.055345</td>\n",
       "      <td>3283.0</td>\n",
       "      <td>6.381653e-140</td>\n",
       "      <td>9.763929e-138</td>\n",
       "    </tr>\n",
       "    <tr>\n",
       "      <th>22</th>\n",
       "      <td>PopScore</td>\n",
       "      <td>UserUser5</td>\n",
       "      <td>0.054984</td>\n",
       "      <td>3741.0</td>\n",
       "      <td>2.104500e-139</td>\n",
       "      <td>3.219885e-137</td>\n",
       "    </tr>\n",
       "    <tr>\n",
       "      <th>6</th>\n",
       "      <td>Popular</td>\n",
       "      <td>UserUser5</td>\n",
       "      <td>0.054942</td>\n",
       "      <td>3864.0</td>\n",
       "      <td>4.688590e-139</td>\n",
       "      <td>7.173542e-137</td>\n",
       "    </tr>\n",
       "    <tr>\n",
       "      <th>18</th>\n",
       "      <td>PopScore</td>\n",
       "      <td>Bias</td>\n",
       "      <td>0.051962</td>\n",
       "      <td>11245.0</td>\n",
       "      <td>1.143780e-128</td>\n",
       "      <td>1.749984e-126</td>\n",
       "    </tr>\n",
       "    <tr>\n",
       "      <th>19</th>\n",
       "      <td>PopScore</td>\n",
       "      <td>BiasLowDamping</td>\n",
       "      <td>0.051930</td>\n",
       "      <td>11069.5</td>\n",
       "      <td>1.490312e-128</td>\n",
       "      <td>2.280177e-126</td>\n",
       "    </tr>\n",
       "    <tr>\n",
       "      <th>2</th>\n",
       "      <td>Popular</td>\n",
       "      <td>Bias</td>\n",
       "      <td>0.051919</td>\n",
       "      <td>11263.5</td>\n",
       "      <td>2.793995e-128</td>\n",
       "      <td>4.274812e-126</td>\n",
       "    </tr>\n",
       "    <tr>\n",
       "      <th>3</th>\n",
       "      <td>Popular</td>\n",
       "      <td>BiasLowDamping</td>\n",
       "      <td>0.051888</td>\n",
       "      <td>11087.5</td>\n",
       "      <td>3.633091e-128</td>\n",
       "      <td>5.558630e-126</td>\n",
       "    </tr>\n",
       "    <tr>\n",
       "      <th>20</th>\n",
       "      <td>PopScore</td>\n",
       "      <td>BiasAvgDamping</td>\n",
       "      <td>0.050647</td>\n",
       "      <td>13242.5</td>\n",
       "      <td>1.077287e-125</td>\n",
       "      <td>1.648250e-123</td>\n",
       "    </tr>\n",
       "    <tr>\n",
       "      <th>4</th>\n",
       "      <td>Popular</td>\n",
       "      <td>BiasAvgDamping</td>\n",
       "      <td>0.050604</td>\n",
       "      <td>13256.5</td>\n",
       "      <td>2.626662e-125</td>\n",
       "      <td>4.018793e-123</td>\n",
       "    </tr>\n",
       "    <tr>\n",
       "      <th>21</th>\n",
       "      <td>PopScore</td>\n",
       "      <td>BiasHighDamping</td>\n",
       "      <td>0.049905</td>\n",
       "      <td>13522.0</td>\n",
       "      <td>3.996263e-125</td>\n",
       "      <td>6.114282e-123</td>\n",
       "    </tr>\n",
       "  </tbody>\n",
       "</table>\n",
       "</div>"
      ],
      "text/plain": [
       "          A1               A2      diff     stat              p          adj_p\n",
       "17  PopScore           Random  0.072969    202.0  2.817465e-147  4.310722e-145\n",
       "1    Popular           Random  0.072927    204.0  4.145358e-147  6.342398e-145\n",
       "24  PopScore       UserUser80  0.058399   2206.0  1.673634e-141  2.560660e-139\n",
       "8    Popular       UserUser80  0.058356   2299.0  1.555492e-141  2.379903e-139\n",
       "23  PopScore       UserUser20  0.055387   3199.5  4.831352e-140  7.391968e-138\n",
       "7    Popular       UserUser20  0.055345   3283.0  6.381653e-140  9.763929e-138\n",
       "22  PopScore        UserUser5  0.054984   3741.0  2.104500e-139  3.219885e-137\n",
       "6    Popular        UserUser5  0.054942   3864.0  4.688590e-139  7.173542e-137\n",
       "18  PopScore             Bias  0.051962  11245.0  1.143780e-128  1.749984e-126\n",
       "19  PopScore   BiasLowDamping  0.051930  11069.5  1.490312e-128  2.280177e-126\n",
       "2    Popular             Bias  0.051919  11263.5  2.793995e-128  4.274812e-126\n",
       "3    Popular   BiasLowDamping  0.051888  11087.5  3.633091e-128  5.558630e-126\n",
       "20  PopScore   BiasAvgDamping  0.050647  13242.5  1.077287e-125  1.648250e-123\n",
       "4    Popular   BiasAvgDamping  0.050604  13256.5  2.626662e-125  4.018793e-123\n",
       "21  PopScore  BiasHighDamping  0.049905  13522.0  3.996263e-125  6.114282e-123"
      ]
     },
     "execution_count": 48,
     "metadata": {},
     "output_type": "execute_result"
    }
   ],
   "source": [
    "am_wilcox('precision').sort_values('diff', ascending=False).head(15)"
   ]
  },
  {
   "cell_type": "code",
   "execution_count": 42,
   "metadata": {},
   "outputs": [
    {
     "data": {
      "text/plain": [
       "stat      7094.083532\n",
       "pvalue       0.000000\n",
       "Name: ndcg, dtype: float64"
      ]
     },
     "execution_count": 42,
     "metadata": {},
     "output_type": "execute_result"
    }
   ],
   "source": [
    "metric_friedman('ndcg')"
   ]
  },
  {
   "cell_type": "code",
   "execution_count": 44,
   "metadata": {},
   "outputs": [
    {
     "data": {
      "text/html": [
       "<div>\n",
       "<style scoped>\n",
       "    .dataframe tbody tr th:only-of-type {\n",
       "        vertical-align: middle;\n",
       "    }\n",
       "\n",
       "    .dataframe tbody tr th {\n",
       "        vertical-align: top;\n",
       "    }\n",
       "\n",
       "    .dataframe thead th {\n",
       "        text-align: right;\n",
       "    }\n",
       "</style>\n",
       "<table border=\"1\" class=\"dataframe\">\n",
       "  <thead>\n",
       "    <tr style=\"text-align: right;\">\n",
       "      <th></th>\n",
       "      <th>A1</th>\n",
       "      <th>A2</th>\n",
       "      <th>diff</th>\n",
       "      <th>stat</th>\n",
       "      <th>p</th>\n",
       "      <th>adj_p</th>\n",
       "    </tr>\n",
       "  </thead>\n",
       "  <tbody>\n",
       "    <tr>\n",
       "      <th>17</th>\n",
       "      <td>PopScore</td>\n",
       "      <td>Random</td>\n",
       "      <td>0.244930</td>\n",
       "      <td>946.0</td>\n",
       "      <td>1.178311e-150</td>\n",
       "      <td>1.802815e-148</td>\n",
       "    </tr>\n",
       "    <tr>\n",
       "      <th>1</th>\n",
       "      <td>Popular</td>\n",
       "      <td>Random</td>\n",
       "      <td>0.244847</td>\n",
       "      <td>960.0</td>\n",
       "      <td>1.233208e-150</td>\n",
       "      <td>1.886809e-148</td>\n",
       "    </tr>\n",
       "    <tr>\n",
       "      <th>24</th>\n",
       "      <td>PopScore</td>\n",
       "      <td>UserUser80</td>\n",
       "      <td>0.216250</td>\n",
       "      <td>1296.0</td>\n",
       "      <td>2.513066e-150</td>\n",
       "      <td>3.844991e-148</td>\n",
       "    </tr>\n",
       "    <tr>\n",
       "      <th>8</th>\n",
       "      <td>Popular</td>\n",
       "      <td>UserUser80</td>\n",
       "      <td>0.216167</td>\n",
       "      <td>1324.0</td>\n",
       "      <td>4.025025e-150</td>\n",
       "      <td>6.158288e-148</td>\n",
       "    </tr>\n",
       "    <tr>\n",
       "      <th>23</th>\n",
       "      <td>PopScore</td>\n",
       "      <td>UserUser20</td>\n",
       "      <td>0.209607</td>\n",
       "      <td>1905.0</td>\n",
       "      <td>1.806880e-149</td>\n",
       "      <td>2.764526e-147</td>\n",
       "    </tr>\n",
       "    <tr>\n",
       "      <th>7</th>\n",
       "      <td>Popular</td>\n",
       "      <td>UserUser20</td>\n",
       "      <td>0.209524</td>\n",
       "      <td>1938.0</td>\n",
       "      <td>2.946652e-149</td>\n",
       "      <td>4.508378e-147</td>\n",
       "    </tr>\n",
       "    <tr>\n",
       "      <th>22</th>\n",
       "      <td>PopScore</td>\n",
       "      <td>UserUser5</td>\n",
       "      <td>0.203853</td>\n",
       "      <td>3764.0</td>\n",
       "      <td>2.241985e-147</td>\n",
       "      <td>3.430237e-145</td>\n",
       "    </tr>\n",
       "    <tr>\n",
       "      <th>6</th>\n",
       "      <td>Popular</td>\n",
       "      <td>UserUser5</td>\n",
       "      <td>0.203770</td>\n",
       "      <td>3822.0</td>\n",
       "      <td>3.980375e-147</td>\n",
       "      <td>6.089973e-145</td>\n",
       "    </tr>\n",
       "    <tr>\n",
       "      <th>18</th>\n",
       "      <td>PopScore</td>\n",
       "      <td>Bias</td>\n",
       "      <td>0.200049</td>\n",
       "      <td>5928.0</td>\n",
       "      <td>9.889401e-145</td>\n",
       "      <td>1.513078e-142</td>\n",
       "    </tr>\n",
       "    <tr>\n",
       "      <th>19</th>\n",
       "      <td>PopScore</td>\n",
       "      <td>BiasLowDamping</td>\n",
       "      <td>0.200007</td>\n",
       "      <td>5940.0</td>\n",
       "      <td>1.027117e-144</td>\n",
       "      <td>1.571489e-142</td>\n",
       "    </tr>\n",
       "    <tr>\n",
       "      <th>2</th>\n",
       "      <td>Popular</td>\n",
       "      <td>Bias</td>\n",
       "      <td>0.199965</td>\n",
       "      <td>5916.0</td>\n",
       "      <td>1.414083e-144</td>\n",
       "      <td>2.163547e-142</td>\n",
       "    </tr>\n",
       "    <tr>\n",
       "      <th>3</th>\n",
       "      <td>Popular</td>\n",
       "      <td>BiasLowDamping</td>\n",
       "      <td>0.199923</td>\n",
       "      <td>5925.0</td>\n",
       "      <td>1.454876e-144</td>\n",
       "      <td>2.225960e-142</td>\n",
       "    </tr>\n",
       "    <tr>\n",
       "      <th>20</th>\n",
       "      <td>PopScore</td>\n",
       "      <td>BiasAvgDamping</td>\n",
       "      <td>0.197783</td>\n",
       "      <td>6812.0</td>\n",
       "      <td>1.601232e-143</td>\n",
       "      <td>2.449885e-141</td>\n",
       "    </tr>\n",
       "    <tr>\n",
       "      <th>4</th>\n",
       "      <td>Popular</td>\n",
       "      <td>BiasAvgDamping</td>\n",
       "      <td>0.197699</td>\n",
       "      <td>6796.0</td>\n",
       "      <td>2.267738e-143</td>\n",
       "      <td>3.469639e-141</td>\n",
       "    </tr>\n",
       "    <tr>\n",
       "      <th>21</th>\n",
       "      <td>PopScore</td>\n",
       "      <td>BiasHighDamping</td>\n",
       "      <td>0.195741</td>\n",
       "      <td>7324.0</td>\n",
       "      <td>7.989292e-143</td>\n",
       "      <td>1.222362e-140</td>\n",
       "    </tr>\n",
       "  </tbody>\n",
       "</table>\n",
       "</div>"
      ],
      "text/plain": [
       "          A1               A2      diff    stat              p          adj_p\n",
       "17  PopScore           Random  0.244930   946.0  1.178311e-150  1.802815e-148\n",
       "1    Popular           Random  0.244847   960.0  1.233208e-150  1.886809e-148\n",
       "24  PopScore       UserUser80  0.216250  1296.0  2.513066e-150  3.844991e-148\n",
       "8    Popular       UserUser80  0.216167  1324.0  4.025025e-150  6.158288e-148\n",
       "23  PopScore       UserUser20  0.209607  1905.0  1.806880e-149  2.764526e-147\n",
       "7    Popular       UserUser20  0.209524  1938.0  2.946652e-149  4.508378e-147\n",
       "22  PopScore        UserUser5  0.203853  3764.0  2.241985e-147  3.430237e-145\n",
       "6    Popular        UserUser5  0.203770  3822.0  3.980375e-147  6.089973e-145\n",
       "18  PopScore             Bias  0.200049  5928.0  9.889401e-145  1.513078e-142\n",
       "19  PopScore   BiasLowDamping  0.200007  5940.0  1.027117e-144  1.571489e-142\n",
       "2    Popular             Bias  0.199965  5916.0  1.414083e-144  2.163547e-142\n",
       "3    Popular   BiasLowDamping  0.199923  5925.0  1.454876e-144  2.225960e-142\n",
       "20  PopScore   BiasAvgDamping  0.197783  6812.0  1.601232e-143  2.449885e-141\n",
       "4    Popular   BiasAvgDamping  0.197699  6796.0  2.267738e-143  3.469639e-141\n",
       "21  PopScore  BiasHighDamping  0.195741  7324.0  7.989292e-143  1.222362e-140"
      ]
     },
     "execution_count": 44,
     "metadata": {},
     "output_type": "execute_result"
    }
   ],
   "source": [
    "am_wilcox('ndcg').sort_values('diff', ascending=False).head(15)"
   ]
  },
  {
   "cell_type": "code",
   "execution_count": 49,
   "metadata": {},
   "outputs": [
    {
     "data": {
      "text/plain": [
       "<Axes: title={'center': 'NDCG'}, xlabel='Algorithm'>"
      ]
     },
     "execution_count": 49,
     "metadata": {},
     "output_type": "execute_result"
    },
    {
     "data": {
      "image/png": "[encoded data removed]",
      "text/plain": [
       "<Figure size 640x480 with 1 Axes>"
      ]
     },
     "metadata": {},
     "output_type": "display_data"
    }
   ],
   "source": [
    "results.groupby('Algorithm').ndcg.mean().plot.bar(title='NDCG')"
   ]
  },
  {
   "cell_type": "markdown",
   "metadata": {},
   "source": [
    "## User-user parameter fine-tuning"
   ]
  },
  {
   "cell_type": "code",
   "execution_count": 52,
   "metadata": {},
   "outputs": [],
   "source": [
    "algo_uu_1 = UserUser(1)\n",
    "algo_uu_5 = UserUser(5)\n",
    "algo_uu_10 = UserUser(10)\n",
    "algo_uu_15 = UserUser(15)"
   ]
  },
  {
   "cell_type": "code",
   "execution_count": 53,
   "metadata": {},
   "outputs": [],
   "source": [
    "all_recs = []\n",
    "test_data = []\n",
    "for train, test in xf.partition_users(ratings[['user', 'item', 'rating']], 5, xf.SampleFrac(0.2)):\n",
    "    test_data.append(test)\n",
    "    all_recs.append(eval('UserUser1', algo_uu_1, train, test))\n",
    "    all_recs.append(eval('UserUser5', algo_uu_5, train, test))\n",
    "    all_recs.append(eval('UserUser10', algo_uu_10, train, test))\n",
    "    all_recs.append(eval('UserUser15', algo_uu_10, train, test))"
   ]
  },
  {
   "cell_type": "code",
   "execution_count": 54,
   "metadata": {},
   "outputs": [],
   "source": [
    "test_data = pd.concat(test_data, ignore_index=True)\n",
    "all_recs = pd.concat(all_recs, ignore_index=True)"
   ]
  },
  {
   "cell_type": "code",
   "execution_count": 55,
   "metadata": {},
   "outputs": [
    {
     "data": {
      "text/plain": [
       "Algorithm\n",
       "UserUser1     0.064963\n",
       "UserUser10    0.068316\n",
       "UserUser15    0.068316\n",
       "UserUser5     0.069804\n",
       "Name: ndcg, dtype: float64"
      ]
     },
     "execution_count": 55,
     "metadata": {},
     "output_type": "execute_result"
    }
   ],
   "source": [
    "rla = topn.RecListAnalysis()\n",
    "rla.add_metric(topn.ndcg)\n",
    "results = rla.compute(all_recs, test_data)\n",
    "results.groupby('Algorithm').ndcg.mean()"
   ]
  },
  {
   "cell_type": "code",
   "execution_count": 56,
   "metadata": {},
   "outputs": [
    {
     "data": {
      "text/plain": [
       "<Axes: title={'center': 'NDCG'}, xlabel='Algorithm'>"
      ]
     },
     "execution_count": 56,
     "metadata": {},
     "output_type": "execute_result"
    },
    {
     "data": {
      "image/png": "[encoded data removed]",
      "text/plain": [
       "<Figure size 640x480 with 1 Axes>"
      ]
     },
     "metadata": {},
     "output_type": "display_data"
    }
   ],
   "source": [
    "results.groupby('Algorithm').ndcg.mean().plot.bar(title='NDCG')"
   ]
  },
  {
   "cell_type": "code",
   "execution_count": 60,
   "metadata": {},
   "outputs": [],
   "source": [
    "algo_uu_1 = UserUser(1)\n",
    "algo_uu_2 = UserUser(2)\n",
    "algo_uu_3 = UserUser(3)\n",
    "algo_uu_4 = UserUser(4)\n",
    "algo_uu_5 = UserUser(5)\n",
    "algo_uu_6 = UserUser(6)\n",
    "algo_uu_7 = UserUser(7)\n",
    "algo_uu_8 = UserUser(8)\n",
    "algo_uu_9 = UserUser(9)"
   ]
  },
  {
   "cell_type": "code",
   "execution_count": 61,
   "metadata": {},
   "outputs": [],
   "source": [
    "all_recs = []\n",
    "test_data = []\n",
    "for train, test in xf.partition_users(ratings[['user', 'item', 'rating']], 5, xf.SampleFrac(0.2)):\n",
    "    test_data.append(test)\n",
    "    all_recs.append(eval('UserUser1', algo_uu_1, train, test))\n",
    "    all_recs.append(eval('UserUser2', algo_uu_2, train, test))\n",
    "    all_recs.append(eval('UserUser3', algo_uu_3, train, test))\n",
    "    all_recs.append(eval('UserUser4', algo_uu_4, train, test))\n",
    "    all_recs.append(eval('UserUser5', algo_uu_5, train, test))\n",
    "    all_recs.append(eval('UserUser6', algo_uu_6, train, test))\n",
    "    all_recs.append(eval('UserUser7', algo_uu_7, train, test))\n",
    "    all_recs.append(eval('UserUser8', algo_uu_8, train, test))\n",
    "    all_recs.append(eval('UserUser9', algo_uu_9, train, test))"
   ]
  },
  {
   "cell_type": "code",
   "execution_count": 62,
   "metadata": {},
   "outputs": [],
   "source": [
    "test_data = pd.concat(test_data, ignore_index=True)\n",
    "all_recs = pd.concat(all_recs, ignore_index=True)"
   ]
  },
  {
   "cell_type": "code",
   "execution_count": 63,
   "metadata": {},
   "outputs": [
    {
     "data": {
      "text/plain": [
       "Algorithm\n",
       "UserUser1    0.065916\n",
       "UserUser2    0.070265\n",
       "UserUser3    0.071244\n",
       "UserUser4    0.070117\n",
       "UserUser5    0.070527\n",
       "UserUser6    0.069718\n",
       "UserUser7    0.069461\n",
       "UserUser8    0.069000\n",
       "UserUser9    0.068509\n",
       "Name: ndcg, dtype: float64"
      ]
     },
     "execution_count": 63,
     "metadata": {},
     "output_type": "execute_result"
    }
   ],
   "source": [
    "rla = topn.RecListAnalysis()\n",
    "rla.add_metric(topn.ndcg)\n",
    "results = rla.compute(all_recs, test_data)\n",
    "results.groupby('Algorithm').ndcg.mean()"
   ]
  },
  {
   "cell_type": "code",
   "execution_count": 64,
   "metadata": {},
   "outputs": [
    {
     "data": {
      "text/plain": [
       "<Axes: title={'center': 'NDCG'}, xlabel='Algorithm'>"
      ]
     },
     "execution_count": 64,
     "metadata": {},
     "output_type": "execute_result"
    },
    {
     "data": {
      "image/png": "[encoded data removed]",
      "text/plain": [
       "<Figure size 640x480 with 1 Axes>"
      ]
     },
     "metadata": {},
     "output_type": "display_data"
    }
   ],
   "source": [
    "results.groupby('Algorithm').ndcg.mean().plot.bar(title='NDCG')"
   ]
  },
  {
   "cell_type": "code",
   "execution_count": 67,
   "metadata": {},
   "outputs": [
    {
     "data": {
      "text/plain": [
       "Algorithm\n",
       "UserUser1    0.065916\n",
       "UserUser9    0.068509\n",
       "UserUser8    0.069000\n",
       "UserUser7    0.069461\n",
       "UserUser6    0.069718\n",
       "UserUser4    0.070117\n",
       "UserUser2    0.070265\n",
       "UserUser5    0.070527\n",
       "UserUser3    0.071244\n",
       "Name: ndcg, dtype: float64"
      ]
     },
     "execution_count": 67,
     "metadata": {},
     "output_type": "execute_result"
    }
   ],
   "source": [
    "results.groupby('Algorithm').ndcg.mean().sort_values()  # winner: uu3"
   ]
  }
 ],
 "metadata": {
  "colab": {
   "provenance": []
  },
  "kernelspec": {
   "display_name": "Python 3 (ipykernel)",
   "language": "python",
   "name": "python3"
  },
  "language_info": {
   "codemirror_mode": {
    "name": "ipython",
    "version": 3
   },
   "file_extension": ".py",
   "mimetype": "text/x-python",
   "name": "python",
   "nbconvert_exporter": "python",
   "pygments_lexer": "ipython3",
   "version": "3.10.10"
  }
 },
 "nbformat": 4,
 "nbformat_minor": 1
}
